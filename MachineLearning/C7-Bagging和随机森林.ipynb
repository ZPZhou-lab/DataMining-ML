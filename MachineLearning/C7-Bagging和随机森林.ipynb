{
 "cells": [
  {
   "cell_type": "markdown",
   "id": "2def0c05-27b1-4943-a266-f819a9fccdae",
   "metadata": {},
   "source": [
    "# **Chap7：Bagging和随机森林**"
   ]
  },
  {
   "cell_type": "code",
   "execution_count": 1,
   "id": "55479c2e-4917-4900-92d9-e23139ffe02b",
   "metadata": {},
   "outputs": [],
   "source": [
    "import numpy as np\n",
    "from matplotlib import pyplot as plt\n",
    "from sklearn.ensemble import BaggingClassifier, RandomForestClassifier, RandomForestRegressor\n",
    "from sklearn.tree import DecisionTreeClassifier\n",
    "from sklearn.datasets import make_moons\n",
    "from sklearn.model_selection import train_test_split\n",
    "from sklearn.metrics import accuracy_score\n",
    "from collections import Counter\n",
    "from copy import deepcopy\n",
    "from tqdm import tqdm\n",
    "import seaborn as sns\n",
    "colors = sns.palettes.color_palette(\"muted\")"
   ]
  },
  {
   "cell_type": "markdown",
   "id": "20e1da8a-6b1d-4edf-9ea6-9822fdf1f806",
   "metadata": {},
   "source": [
    "接下来的部分，我们将介绍**集成模型**（**ensemble**），主要包含两类：**Bagging**和**Boosting**"
   ]
  },
  {
   "cell_type": "markdown",
   "id": "a86d3c0c-ce54-4b09-9806-601089c90ca8",
   "metadata": {},
   "source": [
    "简单来说，集成模型通过组合多个**基学习器**（**base estimator**）构成最终的模型，**单个基学习器处理目标问题的能力可能有限、或者不稳定**，但组合多个基学习器就能取得非常好的效果，而**Bagging和Boosting就是两类组合基学习器的方法**"
   ]
  },
  {
   "cell_type": "markdown",
   "id": "cdf37832-e64a-4162-8718-ddec3b23386e",
   "metadata": {},
   "source": [
    "本章主要介绍**Bagging**方法的思想，及基于决策树的Bagging模型**随机森林**"
   ]
  },
  {
   "cell_type": "markdown",
   "id": "afd74e25-0dfe-4508-8ab2-042cdc654857",
   "metadata": {},
   "source": [
    "## **1 Bootstrap和Bagging**"
   ]
  },
  {
   "cell_type": "markdown",
   "id": "caa5f92e-46cd-4ef0-b8e7-745720c4cf8d",
   "metadata": {},
   "source": [
    "### **1.1 Bootstrap**"
   ]
  },
  {
   "cell_type": "markdown",
   "id": "4eebcd4a-2349-4e95-b06e-361bbff31a39",
   "metadata": {},
   "source": [
    "Bootstrap来自于**Pull up by your own bootstrap**，即通过拉靴子把自己提起来，后面寓意发生改变，现在通常隐喻**不需要外界帮助，仅依靠自身力量让自己变得更好**，因此Bootstrap又称为**自助法**"
   ]
  },
  {
   "cell_type": "markdown",
   "id": "f4103289-bfa7-438f-a53b-fc74ccb0b2b6",
   "metadata": {},
   "source": [
    "Bootstrap通**过对样本有放回抽样**的方法来构造统计模型，是统计学中常用的**非参数统计方法**，统计学中常**用Bootstrap评估统计准确性**"
   ]
  },
  {
   "cell_type": "markdown",
   "id": "5a9d20fa-052f-4705-a5bc-01356632b57a",
   "metadata": {},
   "source": [
    "我们用下面的一个简单例子，来说明Bootstrap的作用. 假设随机变量 $X\\sim N(\\mu,1)$，这里假设 $\\mu=0$，假设 $x_i,i=1,\\cdots,N$ 是来自于总体 $X$ 的独立样本"
   ]
  },
  {
   "cell_type": "markdown",
   "id": "acc241bd-23d2-443d-99d8-8538fbb49480",
   "metadata": {},
   "source": [
    "$$\n",
    "x_i\\sim N(0,1),\\quad i=1,\\cdots,N\n",
    "$$"
   ]
  },
  {
   "cell_type": "markdown",
   "id": "38d43448-742b-4ac2-b9e3-e293dd289f5c",
   "metadata": {},
   "source": [
    "我们取 $N = 50$ 来生成一组样本"
   ]
  },
  {
   "cell_type": "code",
   "execution_count": 2,
   "id": "c9c19361-bb16-47ea-8181-6d13eb56fd79",
   "metadata": {},
   "outputs": [],
   "source": [
    "# 生成 50 个 N(0,1) 的独立同分布样本\n",
    "X = np.random.normal(0,1,50)"
   ]
  },
  {
   "cell_type": "markdown",
   "id": "530abffe-b08e-4b4c-a151-8f8cd49289cf",
   "metadata": {},
   "source": [
    "接下来，考虑用这组样本来**估计总体均值** $\\mu$，最常用的**无偏估计是样本均值** $\\overline{X}$："
   ]
  },
  {
   "cell_type": "markdown",
   "id": "4d717683-a8ac-4a41-b847-0bd389cda969",
   "metadata": {},
   "source": [
    "$$\n",
    "\\hat{\\mu} = \\overline{X} = \\frac{1}{N}\\sum_{i=1}^{N}x_i\n",
    "$$"
   ]
  },
  {
   "cell_type": "code",
   "execution_count": 3,
   "id": "1fc48f93-0e7b-4ee1-8cae-9fd4ad69847b",
   "metadata": {},
   "outputs": [
    {
     "name": "stdout",
     "output_type": "stream",
     "text": [
      "估计得到的总体均值为：0.0756\n"
     ]
    }
   ],
   "source": [
    "# 使用样本均值估计总体均值\n",
    "print(\"估计得到的总体均值为：%.4f\"%(X.mean()))"
   ]
  },
  {
   "cell_type": "markdown",
   "id": "4e08328f-0242-49e9-9f69-76e578820afc",
   "metadata": {},
   "source": [
    "Bootstrap方法在处理该问题时，假设**样本即是伪总体**，然后重复 $B$ 次从该伪总体中抽取容量为 $N$ 的样本 $\\{x_i^{(b)}\\}_{i=1}^{N},b=1,\\cdots,B$，得到 $B$ 个样本均值 $\\overline{X}^{(b)}$，在取这 $B$ 个样本均值的聚合得到估计量："
   ]
  },
  {
   "cell_type": "markdown",
   "id": "8940a863-28d9-4679-aaab-ce5204f17f9d",
   "metadata": {},
   "source": [
    "$$\n",
    "\\hat{\\mu} = \\frac{1}{B}\\sum_{b=1}^{B} \\overline{x}^{(b)}\n",
    "$$"
   ]
  },
  {
   "cell_type": "markdown",
   "id": "b8b492c2-912e-43d8-bc0d-aeef7c7f7344",
   "metadata": {},
   "source": [
    "首先，我们可以绘制和构造**经验累积分布函数** $\\Psi(x)$"
   ]
  },
  {
   "cell_type": "code",
   "execution_count": 4,
   "id": "ba2b5360-d7e8-4804-bffd-f8b72af4f1aa",
   "metadata": {},
   "outputs": [
    {
     "data": {
      "text/plain": [
       "Text(0.5, 1.0, 'Empirical Cumulative Distribution Function')"
      ]
     },
     "execution_count": 4,
     "metadata": {},
     "output_type": "execute_result"
    },
    {
     "data": {
      "image/png": "[encoded data removed]",
      "text/plain": [
       "<Figure size 400x300 with 1 Axes>"
      ]
     },
     "metadata": {},
     "output_type": "display_data"
    }
   ],
   "source": [
    "X = np.sort(X)\n",
    "y = np.linspace(0,1,len(X))\n",
    "fig = plt.figure(figsize=(4,3))\n",
    "plt.step(X,y)\n",
    "plt.title(\"Empirical Cumulative Distribution Function\")"
   ]
  },
  {
   "cell_type": "markdown",
   "id": "22806437-5348-4902-8e53-4b540092b271",
   "metadata": {},
   "source": [
    "取上述函数的**反函数** $\\Psi^{-1}(x)$，就可以用于构造伪总体了，每次生成样本时，只需要取 $N$ 个独立同分布的均匀分布 $U[0,1]$ 随机数 $x_i$，$\\Psi^{-1}(x_i)$ 即为所求"
   ]
  },
  {
   "cell_type": "code",
   "execution_count": 5,
   "id": "babc9535-5575-4e20-a81a-00eece470fd2",
   "metadata": {},
   "outputs": [
    {
     "data": {
      "text/plain": [
       "Text(0.5, 1.0, 'Inverse Empirical Cumulative Distribution Function')"
      ]
     },
     "execution_count": 5,
     "metadata": {},
     "output_type": "execute_result"
    },
    {
     "data": {
      "image/png": "[encoded data removed]",
      "text/plain": [
       "<Figure size 400x300 with 1 Axes>"
      ]
     },
     "metadata": {},
     "output_type": "display_data"
    }
   ],
   "source": [
    "# 绘制反函数\n",
    "fig = plt.figure(figsize=(4,3))\n",
    "plt.step(y,X)\n",
    "plt.title(\"Inverse Empirical Cumulative Distribution Function\")"
   ]
  },
  {
   "cell_type": "code",
   "execution_count": 6,
   "id": "29d1bf51-2e2e-433c-8300-c8638348b6fc",
   "metadata": {},
   "outputs": [],
   "source": [
    "def inv_Psi(r, X):\n",
    "    \"\"\"\n",
    "    Parameters\n",
    "    ----------\n",
    "    r : np.ndarray\n",
    "        均匀分布 U[0,1] 的随机数\n",
    "    X : np.ndarray\n",
    "        生成伪总体的样本\n",
    "    \"\"\"\n",
    "    # 排序\n",
    "    X = sorted(X)\n",
    "    index = np.int_(r*len(X))\n",
    "    samples = [X[i] for i in index]\n",
    "    return np.array(samples)"
   ]
  },
  {
   "cell_type": "markdown",
   "id": "5b315ac2-8d41-4da0-9aa4-bf75caea0cfe",
   "metadata": {},
   "source": [
    "我们取 $B = 200$，来构造我们的Bootstrap估计结果"
   ]
  },
  {
   "cell_type": "code",
   "execution_count": 7,
   "id": "e5494846-49ea-405d-a004-ed9b6dd75a94",
   "metadata": {},
   "outputs": [
    {
     "name": "stdout",
     "output_type": "stream",
     "text": [
      "Bootstrap估计得到的总体均值为：0.0737\n"
     ]
    }
   ],
   "source": [
    "B = 300\n",
    "mu = []\n",
    "for b in range(B):\n",
    "    R = np.random.rand(50)\n",
    "    samples = inv_Psi(R,X)\n",
    "    mu.append(samples.mean())\n",
    "mu_hat = np.mean(mu)\n",
    "print(\"Bootstrap估计得到的总体均值为：%.4f\"%(mu_hat))"
   ]
  },
  {
   "cell_type": "markdown",
   "id": "be24db92-0361-4fe7-a747-e9effb96cc98",
   "metadata": {},
   "source": [
    "Bootstrap还可以帮助我们绘制**均值估计量的分布**"
   ]
  },
  {
   "cell_type": "code",
   "execution_count": 8,
   "id": "ec5f9b19-8154-489d-a899-a0ab43a8c202",
   "metadata": {},
   "outputs": [
    {
     "data": {
      "text/plain": [
       "<matplotlib.legend.Legend at 0x7f09702e3f10>"
      ]
     },
     "execution_count": 8,
     "metadata": {},
     "output_type": "execute_result"
    },
    {
     "data": {
      "image/png": "[encoded data removed]",
      "text/plain": [
       "<Figure size 500x300 with 1 Axes>"
      ]
     },
     "metadata": {},
     "output_type": "display_data"
    }
   ],
   "source": [
    "fig = plt.figure(figsize=(5,3))\n",
    "plt.hist(mu,bins=10,color=colors[0])\n",
    "plt.title(\"Distribution of Mean Estimator\")\n",
    "plt.vlines(X.mean(),0,100,color=\"red\",ls=\"--\",label=\"Samples Mean\")\n",
    "plt.vlines(mu_hat,0,100,color=\"black\",label=\"Bootstrap\")\n",
    "plt.legend()"
   ]
  },
  {
   "cell_type": "markdown",
   "id": "b03aa817-bef2-4495-a346-2a5ba1b6d978",
   "metadata": {},
   "source": [
    "上面的直方图可以简单理解为：\n",
    "* 从**总体中多次抽样**，**样本均值的估计量存在随机性**，其分布如上图所示\n",
    "* Bootstrap通过多次抽样聚合的方法，**降低估计量的方差**，使其总处于**估计量分布的中心**"
   ]
  },
  {
   "cell_type": "markdown",
   "id": "d947b7ed-48d6-4898-8903-5f23dfb540b4",
   "metadata": {},
   "source": [
    "我们可以从数学上简单理解上述事实，设有样本 $Z=(z_1,\\cdots,z_n)$，其中 $z_i = (x_i,y_i)$ 表示样本对，$x_i$ 是特征，$y_i$ 是标签，我们感兴趣的估计量是 $S(Z)$，我们基于Bootstrap方法估计 $S(Z)$ 的分布，进而得到相应的参数的估计，例如考虑方差："
   ]
  },
  {
   "cell_type": "markdown",
   "id": "a7a20c76-05ae-49fb-8b09-91b060eda7ea",
   "metadata": {},
   "source": [
    "$$\n",
    "\\hat{\\text{Var}}\\left[ S(Z) \\right] = \\frac{1}{B-1} \\sum_{b}^{B}\\left( S(Z^{(b)}) - \\overline{S}^* \\right)\n",
    "$$"
   ]
  },
  {
   "cell_type": "markdown",
   "id": "0158746b-24a9-4620-8e7d-723ffc696c95",
   "metadata": {},
   "source": [
    "其中，$Z^{(b)},b=1,\\cdots,B$ 是第 $b$ 次Bootstrap抽样样本集合，$\\overline{S}^*$ 是聚合估计量："
   ]
  },
  {
   "cell_type": "markdown",
   "id": "154b8936-2eb4-47c7-8990-3ab385a007c2",
   "metadata": {},
   "source": [
    "$$\n",
    "\\overline{S}^* = \\frac{1}{B}\\sum_{b=1}^{B} S(Z^{(b)})\n",
    "$$"
   ]
  },
  {
   "cell_type": "markdown",
   "id": "e0334754-40e0-4c57-8808-20434b742860",
   "metadata": {},
   "source": [
    "本质上，$\\hat{\\text{Var}}\\left[ S(Z)\\right]$ 可以当作 $S(Z)$ 方差的**蒙特卡洛估计**"
   ]
  },
  {
   "cell_type": "markdown",
   "id": "017e7277-3e26-4072-ab12-ae566c5d4724",
   "metadata": {},
   "source": [
    "对于一个统计学习问题，回顾模型的**偏差方差分解**，模型 $f$ 的估计误差 $\\text{err}$ 可以分解为："
   ]
  },
  {
   "cell_type": "markdown",
   "id": "833548da-33ee-4286-a387-26794638d6ab",
   "metadata": {},
   "source": [
    "$$\n",
    "\\text{err}(x) = bias^2(x) + var(x) + \\varepsilon^2\n",
    "$$"
   ]
  },
  {
   "cell_type": "markdown",
   "id": "bd277295-678c-4769-a599-1b5c1481229d",
   "metadata": {},
   "source": [
    "回顾各项的含义："
   ]
  },
  {
   "cell_type": "markdown",
   "id": "31321e64-5132-4a63-bc49-db5abee25297",
   "metadata": {},
   "source": [
    "**(1) 偏差项 $bias^2(x)$**  \n",
    "偏差部分 $bias^2(x)$ 是**模型期望预测与真实标签**之间的差距，通过它能判断：\n",
    "* $bias^2(x)$ 刻画**模型自身的拟合能力**\n",
    "* $bias^2(x)$ 刻画**模型的预测是否出现系统性偏差**"
   ]
  },
  {
   "cell_type": "markdown",
   "id": "014dc6fa-b041-46b2-b163-1f71238c1922",
   "metadata": {},
   "source": [
    "**(2) 方差项 $var(x)$**  \n",
    "方差部分 $var(x)$ 度量了**训练集变动对模型学习性能的影响**，通过它能判断：\n",
    "* **模型面对数据扰动的应对能力**，或着说**对不同分布的掌握能力**\n",
    "* **数据分布变化给模型预测带来的影响**"
   ]
  },
  {
   "cell_type": "markdown",
   "id": "5e90894a-1a30-470f-b25d-d7314a12138f",
   "metadata": {},
   "source": [
    "**(3) 噪声项 $\\varepsilon^2$**  \n",
    "噪声部分 $\\varepsilon^2$ 度量了**模型在该机器学习任务下预测误差能达到的下界**，它表明了：\n",
    "* 这是**观测标签和真实标签之间的系统性偏差**，**不是模型能够解决的**\n",
    "* $\\varepsilon^2$ 刻画了该**机器学习问题的难度**"
   ]
  },
  {
   "cell_type": "markdown",
   "id": "aeb73491-d895-4acd-ac7f-ad5c2e6a3a03",
   "metadata": {},
   "source": [
    "因此，**Bootstrap方法的引入使得机器学习模型的表现提升，核心是降低了模型的方差** $var(x)$"
   ]
  },
  {
   "cell_type": "markdown",
   "id": "5abea749-9229-419b-afda-3d2cdd6580d4",
   "metadata": {},
   "source": [
    "### **1.2 Bagging**"
   ]
  },
  {
   "cell_type": "markdown",
   "id": "b439f389-09d4-4a83-837e-c47708081964",
   "metadata": {},
   "source": [
    "#### **1.2.1 Bagging方法思想**"
   ]
  },
  {
   "cell_type": "markdown",
   "id": "0c1f2ce6-d9ee-4a97-9a8e-11efb9b8983e",
   "metadata": {},
   "source": [
    "下面，我们正式将**Bootstrap**引入机器学习模型，得到**Bagging**方法，它是**Bootstrap Aggregation**的简称"
   ]
  },
  {
   "cell_type": "markdown",
   "id": "3d11cd56-82a5-4913-b27f-2da69476f560",
   "metadata": {},
   "source": [
    "**Bagging**方法的大致流程如下：\n",
    "* 从训练样本集中**有放回**的选出样本，对这些样本建立机器学习模型 $E_b$（例如逻辑回归、SVM、决策树等）\n",
    "* 重复上述步骤 $B$ 次，得到 $B$ 个估计器 $E_b,b=1,\\cdots,B$\n",
    "* 在预测时，通过聚合方法完成预测：\n",
    "    * 如果是回归问题，则取 $B$ 个估计器预测的**均值**\n",
    "    * 如果是分类问题，则取 $B$ 个估计器预测的**众数**"
   ]
  },
  {
   "cell_type": "markdown",
   "id": "4d9d18fd-85e8-44af-928c-54b9514da431",
   "metadata": {},
   "source": [
    "将其写作标准算法流程如下"
   ]
  },
  {
   "cell_type": "markdown",
   "id": "fa208c42-c7c3-4868-a3ab-3542d764dfce",
   "metadata": {},
   "source": [
    "**(Algo) Bagging**  \n",
    "* **输入**：数据集 $D=\\{(x_i,y_i)\\}_{i=1}^{N}$，学习算法 $E$，Bootstrap轮数 $B$\n",
    "* **输出**：Bagging聚合学习器 $f(x)\n",
    "* **算法流程**：\n",
    "```python\n",
    "for b in range(B):\n",
    "    D_bs = bootstrap_samples(D) # Bootstrap抽样\n",
    "    E_b = E(D_bs) # 训练第 b 个学习器\n",
    "```\n",
    "在估计时，分为回归问题和分类问题：\n",
    "* 回归问题取均值：\n",
    "$$\n",
    "f(x) = \\frac{1}{B} E_b(x)\n",
    "$$\n",
    "* 分类问题用投票：\n",
    "$$\n",
    "f(x) = \\mathop{\\arg\\max}\\limits_{y\\in\\mathcal{Y}} \\sum_{b=1}^{B} \\mathbb{I}(E_b(x) = y)\n",
    "$$"
   ]
  },
  {
   "cell_type": "markdown",
   "id": "dae72ca3-2ec0-4376-a857-13f231ed1446",
   "metadata": {},
   "source": [
    "#### **1.2.2 Bagging方法优点**"
   ]
  },
  {
   "cell_type": "markdown",
   "id": "d9123c79-b074-499b-a774-24f1dc1f319b",
   "metadata": {},
   "source": [
    "**(1) 计算复杂度低且可并行**"
   ]
  },
  {
   "cell_type": "markdown",
   "id": "f14f7474-67e6-4cec-bc69-d260ab34d91e",
   "metadata": {},
   "source": [
    "我们来考虑Bagging方法的**计算复杂度**，假定训练每个基学习器的计算复杂度为 $\\mathcal{O}(m)$，最后聚合平均的计算复杂度为 $\\mathcal{O}(s)$，则总复杂度为：\n",
    "$$\n",
    "B\\cdot\\mathcal{O}(m) + \\mathcal{O}(s)\n",
    "$$"
   ]
  },
  {
   "cell_type": "markdown",
   "id": "4a483d0c-18c8-4e2f-8b81-3806fb23e775",
   "metadata": {},
   "source": [
    "模型的推理时间 $\\mathcal{O}(s)$ 相比训练时间而言是一个很小的常数，因此**计算复杂度主要在训练部分**"
   ]
  },
  {
   "cell_type": "markdown",
   "id": "8bfc0d3d-79c5-4123-accd-1c822d6906cd",
   "metadata": {},
   "source": [
    "一般而言，$B$ 相比 $\\mathcal{O}(m)$ 而言是一个固定常数，例如 $B = 50$，我们可以认为**Bagging方法的计算复杂度与基学习器同阶**"
   ]
  },
  {
   "cell_type": "markdown",
   "id": "d5a1af11-f43c-4eab-a07e-d92a5ecfd5a4",
   "metadata": {},
   "source": [
    "即使同阶，**Bagging**的训练市场依然会消耗基学习器训练时间的 $B$ 倍，这在 $\\mathcal{O}(m)$ 很大或者 $B$ 很大时显得有些无法接受"
   ]
  },
  {
   "cell_type": "markdown",
   "id": "67181baa-0b36-46f1-9ea9-76bf2df56ca5",
   "metadata": {},
   "source": [
    "但好处在于，**Bagging**方法**各个学习器之间是独立存在**的，从Bootstrap的采样到它们的训练都可以**并行处理**，随着现在处理器核心数量的不断增加，借助多核心优势，我们能快速并行训练Bagging模型，大大缩短训练所需要的时间"
   ]
  },
  {
   "cell_type": "markdown",
   "id": "cdf84945-ddd6-4064-8a1c-089db6254c28",
   "metadata": {},
   "source": [
    "**(2) 降低模型方差**"
   ]
  },
  {
   "cell_type": "markdown",
   "id": "8d87467f-79fe-4b30-a817-ea23fe85ac00",
   "metadata": {},
   "source": [
    "我们正式从**偏差方差分解**的角度来分析Bagging模型"
   ]
  },
  {
   "cell_type": "markdown",
   "id": "188796cc-1b3a-4376-8495-83fcf4136590",
   "metadata": {},
   "source": [
    "假设真实数据服从分布 $y=f(x)+\\varepsilon,\\varepsilon\\sim N(0,\\sigma^2)$，通过某种学习算法，基于训练样本 $T$ 得到了预测模型 $\\hat{f}(x;T)$，对于测试集中的样本 $(x_0,y_0)$，期望预测误差分解为："
   ]
  },
  {
   "cell_type": "markdown",
   "id": "e936f2e7-46ab-4b5b-aea0-46bfda4f24c7",
   "metadata": {},
   "source": [
    "$$\n",
    "\\mathbb{E}\\left( \\hat{f}(x_0;T) - y_0 \\right)^2 = bias^2(x_0) + var(x_0) + \\sigma^2\n",
    "$$"
   ]
  },
  {
   "cell_type": "markdown",
   "id": "76bb233b-9dba-422b-b0ef-e91ff8af4833",
   "metadata": {},
   "source": [
    "其中：\n",
    "* 偏差：$bias(x_0) = \\mathbb{E}_T\\left[ \\hat{f}(x_0;T) \\right] - f(x_0)$\n",
    "* 方差：$var(x_0) = \\mathbb{E}_T\\left( \\hat{f}(x_0;T) - \\mathbb{E}_T\\left[ \\hat{f}(x_0;T) \\right] \\right)^2$"
   ]
  },
  {
   "cell_type": "markdown",
   "id": "aab4adaa-cce4-4ec4-a9a7-0aafec9b0570",
   "metadata": {},
   "source": [
    "假设我们可以从训练样本中**无限次抽样**，则最优的预测函数应该是："
   ]
  },
  {
   "cell_type": "markdown",
   "id": "a48941a7-8c9e-4d21-b34d-abdb7a52f834",
   "metadata": {},
   "source": [
    "$$\n",
    "f_{\\text{bag}}^*(x) = \\mathbb{E}_T[\\hat{f}(x;T)]\n",
    "$$"
   ]
  },
  {
   "cell_type": "markdown",
   "id": "e0995923-612f-4f09-a34c-729c08decece",
   "metadata": {},
   "source": [
    "此时，根据偏差方差分解，对于样本 $(x_0,y_0)$，期望预测误差为："
   ]
  },
  {
   "cell_type": "markdown",
   "id": "6be1dc3d-50c1-4569-96d6-471626a45101",
   "metadata": {},
   "source": [
    "$$\n",
    "\\mathbb{E}\\left(y_0 - f_{\\text{bag}}^*(x_0)\\right)^2 = \\left( \\mathbb{E}_T[\\hat{f}(x_0;T)] - f(x_0)\\right)^2 + \\sigma^2 \\leq \\mathbb{E}\\left( y_0 - \\hat{f}(x_0;T) \\right)^2\n",
    "$$"
   ]
  },
  {
   "cell_type": "markdown",
   "id": "2f6fd110-d169-49d7-8c92-c569ea51a4fd",
   "metadata": {},
   "source": [
    "上式说明，**理想的Bagging估计器是偏差方差分解的下界**"
   ]
  },
  {
   "cell_type": "markdown",
   "id": "a7f1196d-20ee-4270-9480-e341b468d578",
   "metadata": {},
   "source": [
    "但无限次抽样在实际操作中不可行，我们退一步考虑真实的Bagging估计器："
   ]
  },
  {
   "cell_type": "markdown",
   "id": "28891898-f5e2-4c29-828e-c67568178a3b",
   "metadata": {},
   "source": [
    "$$\n",
    "\\overline{f}_{\\text{bag}}(x) = \\frac{1}{B}\\sum_{b=1}^{B}\\hat{f} (x;T^{(b)})\n",
    "$$"
   ]
  },
  {
   "cell_type": "markdown",
   "id": "f0c4dcd1-f8eb-4918-a47d-11131b73b542",
   "metadata": {},
   "source": [
    "再次代入偏差方差分解，会得到："
   ]
  },
  {
   "cell_type": "markdown",
   "id": "68b29891-66f9-4729-bca4-80b2c0c2dc52",
   "metadata": {},
   "source": [
    "$$\n",
    "\\mathbb{E}\\left( y_0 - \\overline{F}_{\\text{bag}}(X_0) \\right)^2 = \\left( \\mathbb{E}_T[\\hat{f}(x_0;T)] - f(x_0)\\right)^2 + \\frac{var(x_0)}{B} + \\sigma^2 \\leq \\mathbb{E}\\left( y_0 - \\hat{f}(x_0;T) \\right)^2\n",
    "$$"
   ]
  },
  {
   "cell_type": "markdown",
   "id": "401a0649-222f-4b6a-b60e-12165b7581d3",
   "metadata": {},
   "source": [
    "上述结果表明，**如果我们能从总体中独立同分布的抽取训练样本** $T^{(b)}$，**则可以通过降低方差** $var(x_0)$ **来降低预测误差**"
   ]
  },
  {
   "cell_type": "markdown",
   "id": "059616e1-5dad-4160-b11e-d95f201bbec4",
   "metadata": {},
   "source": [
    "实际使用时，**总体是未知的，因此Bagging采用的是Bootstrap方案**"
   ]
  },
  {
   "cell_type": "markdown",
   "id": "ec294025-83c6-4b98-a769-ca3d0ca0f29c",
   "metadata": {},
   "source": [
    "**(3) 可以进行包外估计**"
   ]
  },
  {
   "cell_type": "markdown",
   "id": "92cf0ef0-5e1c-4267-b4b6-788f5cce473b",
   "metadata": {},
   "source": [
    "包外估计的思想类似于**交叉验证**，由于Bootstrap阶段，每个基学习器所使用的样本 $T^{(b)}$ 没有包含所有的样本 $x\\in T$，因此，对于基学习器 $E_b$ 而言，那些它未使用的样本就可以用来估计模型的泛化性能"
   ]
  },
  {
   "cell_type": "markdown",
   "id": "37953c67-0f0b-4b02-bea4-b2834fef5b62",
   "metadata": {},
   "source": [
    "假设基学习器 $E_b$ 的采样**只从原始训练集采样** $2/3$ 的样本，则余下的 $1/3$ 的样本就可以作为**验证集**使用，因此**包外估计能够作为Bagging算法提供估计模型泛化误差的方法**"
   ]
  },
  {
   "cell_type": "markdown",
   "id": "f7bf5fb4-45db-4ac4-b1e0-05b0860fff32",
   "metadata": {},
   "source": [
    "设 $T^{(b)}$ 是模型 $E_b$ 实际使用的训练数据，$H^{oob}(x)$ 表示对样本 $x$ 的包外预测，即仅考虑**那些未使用** $x$ **进行训练的基学习器**在 $x$ 上的表现，有："
   ]
  },
  {
   "cell_type": "markdown",
   "id": "8a2014ad-2dc3-43a7-ab9d-c516e4292c1a",
   "metadata": {},
   "source": [
    "* 对于分类问题：\n",
    "$$\n",
    "H^{oob}(x) = \\mathop{\\arg\\max}\\limits_{y\\in \\mathcal{Y}} \\sum_{b=1}^{B} \\mathbb{I}(E_b(x) = y)\\cdot \\mathbb{I}(x\\notin T^{(b)})\n",
    "$$\n",
    "* 对于回归问题：\n",
    "$$\n",
    "H^{oob}(x) = \\frac{1}{\\sum_{b=1}^{B} \\mathbb{I}(x\\notin T^{(b)})} \\sum_{b=1}^{B} E_b(x)\\cdot \\mathbb{I}(x\\notin T^{(b)})\n",
    "$$"
   ]
  },
  {
   "cell_type": "markdown",
   "id": "2a20b28e-23bb-46f0-a328-0048475b8b48",
   "metadata": {},
   "source": [
    "获得包外估计 $H^{oob}(x)$ 后，就可以让他与训练集标签 $y$ 对比，计算相应的评估指标，例如正确率、均方误差等"
   ]
  },
  {
   "cell_type": "markdown",
   "id": "e8db16bc-0530-4a8f-b51f-8cccdec98e20",
   "metadata": {},
   "source": [
    "#### **1.2.3 Bagging实验**"
   ]
  },
  {
   "cell_type": "markdown",
   "id": "9c0e1b5b-d2dc-4465-bf7b-749c75083e5d",
   "metadata": {},
   "source": [
    "首先，我们生成一个简单的二分类数据集"
   ]
  },
  {
   "cell_type": "code",
   "execution_count": 9,
   "id": "ecb0dbb4-4875-4651-aa2c-d77f2a75d75f",
   "metadata": {},
   "outputs": [
    {
     "data": {
      "text/plain": [
       "<matplotlib.legend.Legend at 0x7f0970204670>"
      ]
     },
     "execution_count": 9,
     "metadata": {},
     "output_type": "execute_result"
    },
    {
     "data": {
      "image/png": "[encoded data removed]",
      "text/plain": [
       "<Figure size 300x300 with 1 Axes>"
      ]
     },
     "metadata": {},
     "output_type": "display_data"
    }
   ],
   "source": [
    "# 创建数据集\n",
    "X,y = make_moons(n_samples=20,noise=1,random_state=1234)\n",
    "fig = plt.figure(figsize=(3,3))\n",
    "plt.scatter(X[y==0,0],X[y==0,1],color=colors[0],label=\"Negative\")\n",
    "plt.scatter(X[y==1,0],X[y==1,1],color=colors[1],label=\"Positive\")\n",
    "plt.legend()"
   ]
  },
  {
   "cell_type": "markdown",
   "id": "901b849f-2967-4357-86a7-2eff850d7504",
   "metadata": {},
   "source": [
    "我们定义一个Bootstrap函数`bootstrap_samples()`用来生成Bagging基学习器的样本"
   ]
  },
  {
   "cell_type": "code",
   "execution_count": 10,
   "id": "184a18fa-3e98-4408-9792-b75bf9ba9775",
   "metadata": {},
   "outputs": [],
   "source": [
    "def bootstrap_samples(X : np.ndarray, y : np.ndarray):\n",
    "    # 样本量\n",
    "    N = X.shape[0]\n",
    "    # 随机采样\n",
    "    resample_index = np.random.choice(range(N),N)\n",
    "    resample_X = X[resample_index]\n",
    "    resample_y = y[resample_index]\n",
    "    return resample_X, resample_y"
   ]
  },
  {
   "cell_type": "markdown",
   "id": "492c9cb8-3aaa-4eb0-a3e0-18de32f37e0a",
   "metadata": {},
   "source": [
    "我们再定义一个函数`plot_decision_boundary()`，用于**可视化决策边界**"
   ]
  },
  {
   "cell_type": "code",
   "execution_count": 11,
   "id": "4d5c0353-ff84-487b-9f51-02bada7d8752",
   "metadata": {},
   "outputs": [],
   "source": [
    "def plot_decision_boundary(data, labels, clf):\n",
    "    \"\"\"\n",
    "    绘制决策边界\n",
    "    \n",
    "    Parameters\n",
    "    ----------\n",
    "    data : np.ndarray\n",
    "        特征数据\n",
    "    labels : np.ndarray\n",
    "        数据集标签\n",
    "    clf : Any\n",
    "        训练后的分类器\n",
    "    \"\"\"\n",
    "    plot_step = 0.02\n",
    "    x_min, x_max = data[:,0].min() -1, data[:,0].max() + 1\n",
    "    y_min,y_max = data[:,1].min() -1 , data[:,1].max() + 1\n",
    "    # 绘制决策边界\n",
    "    xx,yy = np.meshgrid(np.arange(x_min,x_max,plot_step),\n",
    "                        np.arange(y_min,y_max,plot_step))\n",
    "    Z = clf.predict(np.c_[xx.ravel(),yy.ravel()])\n",
    "    Z = Z.reshape(xx.shape)\n",
    "    fig = plt.figure(figsize=(3,3))\n",
    "    cs = plt.contourf(xx,yy,Z,cmap=sns.cm.icefire,alpha=0.5)\n",
    "\n",
    "    plt.xlabel('x')\n",
    "    plt.ylabel('y')\n",
    "    plt.title('Decision Boundary')\n",
    "\n",
    "    plt.scatter(data[labels==0,0],data[labels==0,1],color=colors[0],label=\"Negative\")\n",
    "    plt.scatter(data[labels==1,0],data[labels==1,1],color=colors[1],label=\"Positive\")\n",
    "    plt.legend()"
   ]
  },
  {
   "cell_type": "markdown",
   "id": "8ecac3d1-d093-4391-9488-3b42b4f07680",
   "metadata": {},
   "source": [
    "首先，我们以决策树为基学习器，生成Bootstrap样本，训练模型，绘制决策边界"
   ]
  },
  {
   "cell_type": "code",
   "execution_count": 12,
   "id": "f6be9a53-a2c2-4e6e-bad8-acb92158cdba",
   "metadata": {},
   "outputs": [
    {
     "data": {
      "image/png": "[encoded data removed]",
      "text/plain": [
       "<Figure size 300x300 with 1 Axes>"
      ]
     },
     "metadata": {},
     "output_type": "display_data"
    }
   ],
   "source": [
    "# 生成 Bootstrap 样本\n",
    "X_bs, y_bs = bootstrap_samples(X,y)\n",
    "# 创建模型并训练\n",
    "tree = DecisionTreeClassifier()\n",
    "tree.fit(X_bs,y_bs)\n",
    "plot_decision_boundary(X,y,tree)"
   ]
  },
  {
   "cell_type": "markdown",
   "id": "4f073afa-9cca-4f3f-a4bf-f31342869df1",
   "metadata": {},
   "source": [
    "图中观察到**仅使用一组Bootstrap样本，模型预测存在很多误分类样本**，下面，我们尝试使用Bagging学习器，相关参数可以查看文档，这里主要说明两个：\n",
    "* `n_estimators`，整数，控制基学习器的数量 $B$\n",
    "* `n_jobs`，整数，控制Bagging基学习器训练的并行进程数量，最大不超过当前计算机CPU的核心数，**设置为**`-1`**表示使用所有核心并行**"
   ]
  },
  {
   "cell_type": "code",
   "execution_count": 13,
   "id": "185c3c23-63f9-42b1-8090-5e8a71e9eb15",
   "metadata": {},
   "outputs": [
    {
     "data": {
      "image/png": "[encoded data removed]",
      "text/plain": [
       "<Figure size 300x300 with 1 Axes>"
      ]
     },
     "metadata": {},
     "output_type": "display_data"
    }
   ],
   "source": [
    "# 创建Bagging学习器\n",
    "bag_tree = BaggingClassifier(tree,n_estimators=50,n_jobs=-1)\n",
    "# 直接提供原训练数据，BaggingClassifier会自动Bootstrap采样\n",
    "bag_tree.fit(X,y)\n",
    "plot_decision_boundary(X,y,bag_tree)"
   ]
  },
  {
   "cell_type": "markdown",
   "id": "9cf0351d-062b-4844-9cc7-10fe3b527e85",
   "metadata": {},
   "source": [
    "效果立竿见影，Bagging学习器完成了几乎所有样本的正确分类"
   ]
  },
  {
   "cell_type": "markdown",
   "id": "74b2157a-079a-4b44-a56f-def55e7ce40f",
   "metadata": {},
   "source": [
    "由于Bagging方法非常简单，我们也可以自己编写Bagging模型`MyBaggingClassifier`"
   ]
  },
  {
   "cell_type": "code",
   "execution_count": 14,
   "id": "1c5db5dc-a499-4427-9079-dd9939b23043",
   "metadata": {},
   "outputs": [],
   "source": [
    "class MyBaggingClassifier:\n",
    "    def __init__(self, estimator, B : int):\n",
    "        \"\"\"\n",
    "        Parameters\n",
    "        ----------\n",
    "        estimator : Any\n",
    "            基学习器算法\n",
    "        B : int\n",
    "            基学习器个数\n",
    "        \"\"\"\n",
    "        self.estimator = estimator\n",
    "        self.B = B\n",
    "        self.base_estimators = []\n",
    "    \n",
    "    def fit(self, X : np.ndarray, y : np.ndarray):\n",
    "        \"\"\"\n",
    "        训练Bagging模型\n",
    "        \"\"\"\n",
    "        for b in range(self.B):\n",
    "            # 生成 Bootstrap 样本\n",
    "            X_bs, y_bs = bootstrap_samples(X,y)\n",
    "            # 拷贝模型，进行训练\n",
    "            model = deepcopy(self.estimator)\n",
    "            model.fit(X_bs,y_bs)\n",
    "            # 添加到基学习器列表\n",
    "            self.base_estimators.append(model)\n",
    "    \n",
    "    def predict(self, X : np.ndarray):\n",
    "        \"\"\"\n",
    "        进行预测\n",
    "        \"\"\"\n",
    "        # 首先每个基学习器进行预测\n",
    "        x_preds = []\n",
    "        for model in self.base_estimators:\n",
    "            x_preds.append(model.predict(X))\n",
    "        x_preds = np.array(x_preds)\n",
    "        \n",
    "        # 用众数投票汇总\n",
    "        preds = []\n",
    "        for i in range(X.shape[0]):\n",
    "            preds.append(Counter(x_preds[:,i]).most_common()[0][0])\n",
    "        return np.array(preds)"
   ]
  },
  {
   "cell_type": "code",
   "execution_count": 15,
   "id": "8c13acef-9ece-4f40-9625-b41d01758c3d",
   "metadata": {},
   "outputs": [
    {
     "data": {
      "image/png": "[encoded data removed]",
      "text/plain": [
       "<Figure size 300x300 with 1 Axes>"
      ]
     },
     "metadata": {},
     "output_type": "display_data"
    }
   ],
   "source": [
    "# 创建Bagging学习器\n",
    "my_bag_tree = MyBaggingClassifier(tree,B=20)\n",
    "# 直接提供原训练数据，BaggingClassifier会自动Bootstrap采样\n",
    "my_bag_tree.fit(X,y)\n",
    "plot_decision_boundary(X,y,my_bag_tree)"
   ]
  },
  {
   "cell_type": "markdown",
   "id": "37fb858e-cd19-40db-b1b7-e2e2119deb5f",
   "metadata": {},
   "source": [
    "----"
   ]
  },
  {
   "cell_type": "markdown",
   "id": "0e8c69f4-11cc-4e61-9db7-594b7cda1bc2",
   "metadata": {},
   "source": [
    "## **2 随机森林**"
   ]
  },
  {
   "cell_type": "markdown",
   "id": "6f7769be-5465-4c25-8b95-8c69a87f945d",
   "metadata": {},
   "source": [
    "### **2.1随机森林模型**"
   ]
  },
  {
   "cell_type": "markdown",
   "id": "4bba1e2f-c9e8-44a8-bda3-d806efd542be",
   "metadata": {},
   "source": [
    "**随机森林**（**Random Forest**，简称**RF**）是基于决策树的Bagging模型，由于基学习器是决策树，自然地人们形象地将Bagging决策树称为随机森林"
   ]
  },
  {
   "cell_type": "markdown",
   "id": "f5b3451f-a537-4e69-98e8-e95884438301",
   "metadata": {},
   "source": [
    "随机森林在Bagging模型基础上，还根据决策树的特点，额外增加了一些特性，进一步**降低模型方差**"
   ]
  },
  {
   "cell_type": "markdown",
   "id": "64b222c0-fe63-4dfa-8683-d1cf966eb091",
   "metadata": {},
   "source": [
    "随机森林的随机体现在两个方面：\n",
    "* **采样随机性**\n",
    "* **特征选择的随机性**"
   ]
  },
  {
   "cell_type": "markdown",
   "id": "bfc877ce-f697-4fd0-a99b-ceccfa429a61",
   "metadata": {},
   "source": [
    "随机森林算法的大致流程如下，基学习器使用CART决策树：\n",
    "* 假设有 $N$ 个样本，对第 $b$ 棵树，从样本中抽取 $N$ 个样本\n",
    "* 假设每个样本有 $p$ 个特征，在决策树的每个结点处：\n",
    "    * 随即从这 $p$ 个特征中选择出 $q$ 个，满足 $q < p$\n",
    "    * 利用随机选择出的 $q$ 个特征搜索分裂特征和切分点\n",
    "    * 直到第 $b$ 棵决策树生成完毕\n",
    "* 重复上述步骤共 $B$ 次，得到 $B$ 棵决策树\n",
    "* 将基决策树用Bagging的方法集成，回归问题采用平均预测，分类问题投票机制"
   ]
  },
  {
   "cell_type": "markdown",
   "id": "63ed4415-b806-446a-9ff8-7dc3b867cd6a",
   "metadata": {},
   "source": [
    "事实上，**上面流程中的随机性选择特征**，即为**上一章中我们介绍的决策树的**`max_features`**参数**"
   ]
  },
  {
   "cell_type": "markdown",
   "id": "0c88adad-828e-43a1-bfdb-58b2e6231c3a",
   "metadata": {},
   "source": [
    "随机森林具有和Bagging相同的特点，即可以做**包外估计**"
   ]
  },
  {
   "cell_type": "markdown",
   "id": "2b6ba635-0f26-4aed-9834-c4865cc56969",
   "metadata": {},
   "source": [
    "### **2.2 特征重要性**"
   ]
  },
  {
   "cell_type": "markdown",
   "id": "98c5feaf-01d7-4283-a7ce-650d5e453395",
   "metadata": {},
   "source": [
    "既然是基于决策树，那么随机森林自然也可以考虑特征重要性"
   ]
  },
  {
   "cell_type": "markdown",
   "id": "64cca363-cbcb-469f-ba74-392b2f9852d5",
   "metadata": {},
   "source": [
    "在决策树中，我们介绍了两种决策树的特征重要性计算方法，一种是统计每个特征用于分裂结点的次数，一种是计算Gini增益，也成为Gini特征重要性"
   ]
  },
  {
   "cell_type": "markdown",
   "id": "4236ae18-23f8-4627-adb4-9d10f8ce2890",
   "metadata": {},
   "source": [
    "这两种特征重要性的好处是，在**树的分裂过程中就可以进行统计，在决策树生成后，特征重要性也计算完毕了**"
   ]
  },
  {
   "cell_type": "markdown",
   "id": "b6f37f9d-e562-471b-942c-6d710864f3ac",
   "metadata": {},
   "source": [
    "这两种特征重要性可以直接顺延到随机森林，假设 $\\text{FI}_b(j)$ 表示第 $b$ 棵决策树关于特征 $j$ 的特征重要性，则随机森林的特征重要性，可以直接考虑聚合所有基学习器的均值："
   ]
  },
  {
   "cell_type": "markdown",
   "id": "b3974775-e5b2-476c-9cbb-cad270bbd700",
   "metadata": {},
   "source": [
    "$$\n",
    "\\text{FI}(j) = \\frac{1}{B}\\sum_{b=1}^{B}\\text{FI}_b(j),\\quad j=1,\\cdots,p\n",
    "$$"
   ]
  },
  {
   "cell_type": "markdown",
   "id": "ea5f4616-7d35-4e38-a0bf-2ed7cd825921",
   "metadata": {},
   "source": [
    "我们下面要介绍另一种特征重要性的计算方法，称为**置换特征重要性**"
   ]
  },
  {
   "cell_type": "markdown",
   "id": "be830f9c-59e7-4693-b68f-fb5b1d92f378",
   "metadata": {},
   "source": [
    "一种直觉是，**如果某个特征** $j$ **对预测很重要**，**那么当我们随机打乱特征** $j$ **后**，**模型的性能会大打折扣**"
   ]
  },
  {
   "cell_type": "markdown",
   "id": "9f4540d8-831b-485f-b620-676c386e3711",
   "metadata": {},
   "source": [
    "假设数据集是 $T$，标签为 $Y$，样本量为 $N$，评估函数是 $M(Y,f(T))$，**假设** $M(Y,f(T))$ **越高越好**（例如准确率），则对特征 $j$，假设 $f(x_i)$ 表示模型对于样本 $x_i$ 的预测，$\\pi_j$ 表示一个大小为 $N$ 排列，$T_{\\pi_j}$ 表示将数据中的第 $j$ 列特征按照排列 $\\pi_j$ 替换顺序，则 $f(x_{i,\\pi_j})$ 表示经过排列 $\\pi_j$ 替换后模型对样本 $x_i$ 的预测，具体地："
   ]
  },
  {
   "cell_type": "markdown",
   "id": "b1560320-1f17-46f9-aa6d-398b4ef75ca8",
   "metadata": {},
   "source": [
    "$$\n",
    "x_{i,\\pi_j} = \\left( x_{i,1},\\cdots,x_{i,j-1},x_{\\pi_j(i),j},x_{i,j+1},\\cdots,x_p \\right)\n",
    "$$"
   ]
  },
  {
   "cell_type": "markdown",
   "id": "d946f2e9-3712-48dc-acdb-5e97801f4041",
   "metadata": {},
   "source": [
    "因此，对第 $b$ 个基学习器，特征重要性 $\\text{FI}_b(j)$ 表示为："
   ]
  },
  {
   "cell_type": "markdown",
   "id": "6c07ed33-4045-46b7-9da9-36fd4b6450a0",
   "metadata": {},
   "source": [
    "$$\n",
    "\\text{FI}_b(j) = M(Y,f(T)) - M(Y,f(T_{\\pi_j})),\\quad j=1,\\cdots,p,\\quad b=1,\\cdots,B\n",
    "$$"
   ]
  },
  {
   "cell_type": "markdown",
   "id": "06d9fac8-a878-4009-8212-b5e70e4510ff",
   "metadata": {},
   "source": [
    "$\\text{FI}_b(j)$ 表示打乱特征 $j$ 后，模型性能的下降程度"
   ]
  },
  {
   "cell_type": "markdown",
   "id": "79402531-2b94-497a-90c8-72cea17fcfb5",
   "metadata": {},
   "source": [
    "最终的特征重要性可以定义为："
   ]
  },
  {
   "cell_type": "markdown",
   "id": "bd35b99e-14c6-4e1b-8716-59ae21545892",
   "metadata": {},
   "source": [
    "$$\n",
    "\\text{FI}(j) = \\frac{1}{B}\\sum_{b=1}^{B} \\text{FI}_b(j),\\quad j=1,\\cdots,p\n",
    "$$"
   ]
  },
  {
   "cell_type": "markdown",
   "id": "902dd21e-aacf-4769-9d09-8fdb7636a3e6",
   "metadata": {},
   "source": [
    "当然，与其他特征重要性一样，可以将上式进行标准化，让特征重要性的量纲更具有比较性"
   ]
  },
  {
   "cell_type": "markdown",
   "id": "7781ac04-1e9a-4b65-81b1-71f42d8b51b4",
   "metadata": {},
   "source": [
    "### **2.3 随机森林与Bagging**"
   ]
  },
  {
   "cell_type": "markdown",
   "id": "75bffbdf-ec10-4ee8-8bd4-0ec00a1cabe1",
   "metadata": {},
   "source": [
    "我们来进行一个简单的实验**对比Bagging**和**RF**，导入`glass`数据集"
   ]
  },
  {
   "cell_type": "code",
   "execution_count": 16,
   "id": "7776d7dc-40ab-4c65-a991-ebd6ba459869",
   "metadata": {},
   "outputs": [],
   "source": [
    "from sklearn.datasets import fetch_openml\n",
    "X,y = fetch_openml(name=\"glass\",return_X_y=True,version=1,parser=\"auto\")"
   ]
  },
  {
   "cell_type": "code",
   "execution_count": 17,
   "id": "fb826fec-dcc1-4eda-ba01-389a1832c601",
   "metadata": {},
   "outputs": [
    {
     "name": "stdout",
     "output_type": "stream",
     "text": [
      "数据集维度： (214, 9)\n",
      "类别数量： 6\n"
     ]
    }
   ],
   "source": [
    "print(\"数据集维度：\",X.shape)\n",
    "print(\"类别数量：\",len(np.unique(y)))"
   ]
  },
  {
   "cell_type": "markdown",
   "id": "3d1d6792-b067-4ae5-be7d-55d68bc53115",
   "metadata": {},
   "source": [
    "数据集由玻璃的`9`种化学元素含量构成，共有`6`种不同的玻璃类型，数据样本量为`214`"
   ]
  },
  {
   "cell_type": "code",
   "execution_count": 18,
   "id": "d2d674c4-2a62-4cdd-814f-9726a9026268",
   "metadata": {},
   "outputs": [
    {
     "data": {
      "text/html": [
       "<div>\n",
       "<style scoped>\n",
       "    .dataframe tbody tr th:only-of-type {\n",
       "        vertical-align: middle;\n",
       "    }\n",
       "\n",
       "    .dataframe tbody tr th {\n",
       "        vertical-align: top;\n",
       "    }\n",
       "\n",
       "    .dataframe thead th {\n",
       "        text-align: right;\n",
       "    }\n",
       "</style>\n",
       "<table border=\"1\" class=\"dataframe\">\n",
       "  <thead>\n",
       "    <tr style=\"text-align: right;\">\n",
       "      <th></th>\n",
       "      <th>RI</th>\n",
       "      <th>Na</th>\n",
       "      <th>Mg</th>\n",
       "      <th>Al</th>\n",
       "      <th>Si</th>\n",
       "      <th>K</th>\n",
       "      <th>Ca</th>\n",
       "      <th>Ba</th>\n",
       "      <th>Fe</th>\n",
       "    </tr>\n",
       "  </thead>\n",
       "  <tbody>\n",
       "    <tr>\n",
       "      <th>0</th>\n",
       "      <td>1.51793</td>\n",
       "      <td>12.79</td>\n",
       "      <td>3.50</td>\n",
       "      <td>1.12</td>\n",
       "      <td>73.03</td>\n",
       "      <td>0.64</td>\n",
       "      <td>8.77</td>\n",
       "      <td>0.0</td>\n",
       "      <td>0.00</td>\n",
       "    </tr>\n",
       "    <tr>\n",
       "      <th>1</th>\n",
       "      <td>1.51643</td>\n",
       "      <td>12.16</td>\n",
       "      <td>3.52</td>\n",
       "      <td>1.35</td>\n",
       "      <td>72.89</td>\n",
       "      <td>0.57</td>\n",
       "      <td>8.53</td>\n",
       "      <td>0.0</td>\n",
       "      <td>0.00</td>\n",
       "    </tr>\n",
       "    <tr>\n",
       "      <th>2</th>\n",
       "      <td>1.51793</td>\n",
       "      <td>13.21</td>\n",
       "      <td>3.48</td>\n",
       "      <td>1.41</td>\n",
       "      <td>72.64</td>\n",
       "      <td>0.59</td>\n",
       "      <td>8.43</td>\n",
       "      <td>0.0</td>\n",
       "      <td>0.00</td>\n",
       "    </tr>\n",
       "    <tr>\n",
       "      <th>3</th>\n",
       "      <td>1.51299</td>\n",
       "      <td>14.40</td>\n",
       "      <td>1.74</td>\n",
       "      <td>1.54</td>\n",
       "      <td>74.55</td>\n",
       "      <td>0.00</td>\n",
       "      <td>7.59</td>\n",
       "      <td>0.0</td>\n",
       "      <td>0.00</td>\n",
       "    </tr>\n",
       "    <tr>\n",
       "      <th>4</th>\n",
       "      <td>1.53393</td>\n",
       "      <td>12.30</td>\n",
       "      <td>0.00</td>\n",
       "      <td>1.00</td>\n",
       "      <td>70.16</td>\n",
       "      <td>0.12</td>\n",
       "      <td>16.19</td>\n",
       "      <td>0.0</td>\n",
       "      <td>0.24</td>\n",
       "    </tr>\n",
       "  </tbody>\n",
       "</table>\n",
       "</div>"
      ],
      "text/plain": [
       "        RI     Na    Mg    Al     Si     K     Ca   Ba    Fe\n",
       "0  1.51793  12.79  3.50  1.12  73.03  0.64   8.77  0.0  0.00\n",
       "1  1.51643  12.16  3.52  1.35  72.89  0.57   8.53  0.0  0.00\n",
       "2  1.51793  13.21  3.48  1.41  72.64  0.59   8.43  0.0  0.00\n",
       "3  1.51299  14.40  1.74  1.54  74.55  0.00   7.59  0.0  0.00\n",
       "4  1.53393  12.30  0.00  1.00  70.16  0.12  16.19  0.0  0.24"
      ]
     },
     "execution_count": 18,
     "metadata": {},
     "output_type": "execute_result"
    }
   ],
   "source": [
    "X.head()"
   ]
  },
  {
   "cell_type": "markdown",
   "id": "87cd93dd-dba9-46ff-87ff-7614e1e4875a",
   "metadata": {},
   "source": [
    "接下来，我们创建**Bagging**分类器和**随机森林**分类器，并不断提高它们的基学习器数量，观察它们在**测试集**上的表现"
   ]
  },
  {
   "cell_type": "code",
   "execution_count": 19,
   "id": "6ccf2156-aabd-402a-a841-5f871d727663",
   "metadata": {},
   "outputs": [
    {
     "name": "stderr",
     "output_type": "stream",
     "text": [
      "100%|██████████| 100/100 [03:38<00:00,  2.18s/it]\n"
     ]
    }
   ],
   "source": [
    "bag_acc, rf_acc = [], []\n",
    "num_of_estimators = []\n",
    "for b in tqdm(range(1,1000,10)):\n",
    "    num_of_estimators.append(b)\n",
    "    # 切分数据集\n",
    "    X_train, X_test, y_train, y_test = train_test_split(X,y,test_size=0.3,random_state=42)\n",
    "    \n",
    "    # 创建Bagging模型，训练并评估\n",
    "    tree = DecisionTreeClassifier()\n",
    "    bag_model = BaggingClassifier(tree,n_estimators=b)\n",
    "    bag_model.fit(X_train,y_train)\n",
    "    bag_acc.append(1 - accuracy_score(y_test,bag_model.predict(X_test)))\n",
    "    \n",
    "    # 创建RF模型，训练并预测\n",
    "    rf_model = RandomForestClassifier(n_estimators=b)\n",
    "    rf_model.fit(X_train,y_train)\n",
    "    rf_acc.append(1 - accuracy_score(y_test,rf_model.predict(X_test)))"
   ]
  },
  {
   "cell_type": "code",
   "execution_count": 20,
   "id": "4f73ad75-84c8-40a6-b27e-98555094034d",
   "metadata": {},
   "outputs": [
    {
     "data": {
      "text/plain": [
       "<matplotlib.legend.Legend at 0x7f096ef64850>"
      ]
     },
     "execution_count": 20,
     "metadata": {},
     "output_type": "execute_result"
    },
    {
     "data": {
      "image/png": "[encoded data removed]",
      "text/plain": [
       "<Figure size 600x400 with 1 Axes>"
      ]
     },
     "metadata": {},
     "output_type": "display_data"
    }
   ],
   "source": [
    "fig = plt.figure(figsize=(6,4))\n",
    "plt.semilogx(num_of_estimators,bag_acc,label=\"Bagging\",color=\"blue\",ls=\"--\")\n",
    "plt.semilogx(num_of_estimators,rf_acc,label=\"Random Forest\",color=\"red\")\n",
    "plt.xlabel(\"Number of Base Estimators\")\n",
    "plt.ylabel(\"Error Rate\")\n",
    "plt.legend()"
   ]
  },
  {
   "cell_type": "markdown",
   "id": "1c872845-6021-4283-bb74-7fbbf150538e",
   "metadata": {},
   "source": [
    "Amazing😍,实验表明**随机森林在测试集上的误差要小于基础的Bagging**,说明随机森林有更优秀的**泛化能力**"
   ]
  },
  {
   "cell_type": "markdown",
   "id": "f4494d50-0d02-4df7-9b03-0738bc380647",
   "metadata": {},
   "source": [
    "我们一起来分析以下产生这个现象的原因"
   ]
  },
  {
   "cell_type": "markdown",
   "id": "0017c259-07ce-49ff-9340-fad6911c7900",
   "metadata": {},
   "source": [
    "假设随机变量 $X_1,X_2,\\cdots,X_B$ 独立同分布于 $N(\\mu,\\sigma^2)$, 则有:"
   ]
  },
  {
   "cell_type": "markdown",
   "id": "74e3af24-b6b0-4a20-b9de-6c65dcd80577",
   "metadata": {},
   "source": [
    "$$\n",
    "var\\left(\\frac{1}{B}\\sum_{i=1}^{B}X_i \\right) = \\frac{1}{B}\\sigma^2\n",
    "$$"
   ]
  },
  {
   "cell_type": "markdown",
   "id": "e34701fd-5e75-4a64-8f8a-f3eaaa5a1f46",
   "metadata": {},
   "source": [
    "而如果放松部分假设,$X_1,\\cdots,X_B$ **只是同分布**, **两两之间的相关系数**为 $\\rho$, 则有:"
   ]
  },
  {
   "cell_type": "markdown",
   "id": "d25f17a3-5bd8-4d9f-9241-161d8e8e53ee",
   "metadata": {},
   "source": [
    "$$\n",
    "var\\left( \\frac{1}{B}\\sum_{i=1}^{B}X_i \\right) = \\rho\\sigma^2 + \\frac{1-\\rho}{B}\\sigma^2\n",
    "$$"
   ]
  },
  {
   "cell_type": "markdown",
   "id": "7a3ba011-be1a-45ec-bc35-b009ce75a69d",
   "metadata": {},
   "source": [
    "显然, 成立如下式子:"
   ]
  },
  {
   "cell_type": "markdown",
   "id": "ec5860e0-f108-4fa1-ae96-c511ed36f560",
   "metadata": {},
   "source": [
    "$$\n",
    "\\frac{1}{B}\\sigma^2 < \\rho\\sigma^2 + \\frac{1-\\rho}{B}\\sigma^2, \\quad B>1\n",
    "$$"
   ]
  },
  {
   "cell_type": "markdown",
   "id": "ef12a769-d824-4027-8118-28ee127a4c94",
   "metadata": {},
   "source": [
    "上式意味着, 方差 $\\sigma^2/B$ 只是在独立同分布时的理论下界, **当变量间存在相关性时, 方差会偏大**"
   ]
  },
  {
   "cell_type": "markdown",
   "id": "dbae356b-7139-4f98-ae20-d1d5da267b1e",
   "metadata": {},
   "source": [
    "对于某个数据点 $x_0$, Bagging的预测结果为:"
   ]
  },
  {
   "cell_type": "markdown",
   "id": "be5e56e9-6891-4503-96aa-29138750f08f",
   "metadata": {},
   "source": [
    "$$\n",
    "f_{\\text{bag}}(x_0) = \\frac{1}{B}\\sum_{b=1}^{B} \\hat{f}(x_0;T^{(b)})\n",
    "$$"
   ]
  },
  {
   "cell_type": "markdown",
   "id": "ec7be804-64b5-48bb-895b-ca6bb7224ca6",
   "metadata": {},
   "source": [
    "因为Bagging在使用Bootstrap构造 $T^{(b)}$ 时会有重复样本,因此 $\\hat{f}(x_0;T^{(b)})$ 之间会存在相关性, 假设为 $\\rho$, 则:"
   ]
  },
  {
   "cell_type": "markdown",
   "id": "f557aa0d-3ab2-41a9-bcc7-4d772ed0b7f7",
   "metadata": {},
   "source": [
    "$$\n",
    "var(f_{\\text{bag}}(x_0)) = \\rho\\sigma^2 + \\frac{1 - \\rho}{B}\\sigma^2\n",
    "$$"
   ]
  },
  {
   "cell_type": "markdown",
   "id": "e5fd3929-052e-4e23-859f-9726940d6e20",
   "metadata": {},
   "source": [
    "* 上式中, **第一项与** $B$ **无关**, 只与重复抽样的**数据集**有关\n",
    "* **第二项可以通过增大** $B$ **逐渐减小**"
   ]
  },
  {
   "cell_type": "markdown",
   "id": "6357d9ab-86b7-4dbd-8b67-a8572e70be8e",
   "metadata": {},
   "source": [
    "因此,提升Bagging方法, **继续降低方差的另一种方法是减弱所构造基学习器之间的相关性**"
   ]
  },
  {
   "cell_type": "markdown",
   "id": "4fabf83d-ceba-42a3-ba57-090eb7978421",
   "metadata": {},
   "source": [
    "而随机森林通过**构造决策树时使用随机采样样本和随机采样特征**的手段, 达到**降低不同基决策树之间相关性的目的**"
   ]
  },
  {
   "cell_type": "markdown",
   "id": "088935e6-b6fe-4732-b30b-bcb472ac09ba",
   "metadata": {},
   "source": [
    "从而, **随机森林比通常的Bagging效果更好**, 上述讨论与我们在本节一开始的实验结果完全吻合. "
   ]
  },
  {
   "cell_type": "markdown",
   "id": "464afc4f-6102-4775-bf65-4dfc0f411d6f",
   "metadata": {},
   "source": [
    "最后，我们展示随机森林的**特征重要性**"
   ]
  },
  {
   "cell_type": "code",
   "execution_count": 21,
   "id": "8ada1bca-ae1a-45dd-bdc4-0dafb496c081",
   "metadata": {},
   "outputs": [
    {
     "data": {
      "text/plain": [
       "Text(0, 0.5, 'Feature')"
      ]
     },
     "execution_count": 21,
     "metadata": {},
     "output_type": "execute_result"
    },
    {
     "data": {
      "image/png": "[encoded data removed]",
      "text/plain": [
       "<Figure size 400x300 with 1 Axes>"
      ]
     },
     "metadata": {},
     "output_type": "display_data"
    }
   ],
   "source": [
    "model = RandomForestClassifier()\n",
    "model.fit(X,y)\n",
    "FI = model.feature_importances_\n",
    "fig = plt.figure(figsize=(4,3))\n",
    "plt.barh(model.feature_names_in_,model.feature_importances_,color=colors[0])\n",
    "plt.xlabel(\"Feature Importance\")\n",
    "plt.ylabel(\"Feature\")"
   ]
  },
  {
   "cell_type": "markdown",
   "id": "309a0804-f589-4f6f-a0c4-584fa2cdbdc2",
   "metadata": {},
   "source": [
    "### **2.4 随机森林总结**"
   ]
  },
  {
   "cell_type": "markdown",
   "id": "a3553224-0f01-4a6a-a23c-6b88ef05462f",
   "metadata": {},
   "source": [
    "我们简单总结一下作为最强大的一类Bagging模型的**随机森林的优点**：\n",
    "* **能够降低异常样本带来的影响**：由于对样本继续了随机采样建立多个基学习器，异常样本和极端样本在最终预测的贡献被降低了，Bagging模型通过参考多个基学习器的结果，能够很好地避免受到异常值的影响\n",
    "* **降低泛化误差，减少过拟合**：上一节提到，使用决策树很大的一个问题是**模型非常容易过拟合**，现在随机森林借助**样本随机采样**和**特征随机采样**的技术，特征和数据在单个决策树上变少了，降低了过拟合的可能性，且相比一般的Bagging，特征随机化采样降低了基学习器预测之间的相关性，进一步降低模型方差\n",
    "* **易于处理高维度数据**：决策树在面对高维度数据（$p$非常大）时，一方面容易出现过拟合，一方面每次特征分裂的搜索都需要大量的遍历，计算复杂度与 $\\mathcal{O}(p)$ 成正比，现在随机森林每次只采样部分特征，计算复杂度大大降低，只需要增加基学习器数量 $B$，就能够获得很好的效果\n",
    "* **具有Bagging类方法共同的优点：可并行、能进行包外估计**"
   ]
  },
  {
   "cell_type": "markdown",
   "id": "6357c16b-98ec-4abf-af49-020223b7913f",
   "metadata": {},
   "source": [
    "----"
   ]
  },
  {
   "cell_type": "markdown",
   "id": "a8b8de40-66d0-4ee8-8e41-02ee8e231755",
   "metadata": {},
   "source": [
    "## **练习**"
   ]
  },
  {
   "cell_type": "markdown",
   "id": "9a52164a-94b7-4596-a2f4-6af3ea24b43f",
   "metadata": {},
   "source": [
    "1. 熟悉`sklearn`中`RandomForestClassifier()`和`RandomForestRegressor()`的方法参数，明白每个参数所起到的作用，理解每个参数在算法的哪个部分起作用"
   ]
  },
  {
   "cell_type": "markdown",
   "id": "ed20fd1e-c766-4c8c-a01a-8c3abc9b5a3f",
   "metadata": {},
   "source": [
    "2. 使用随机森林对2.3节的`glass`数据集建模，将数据集切分为训练集和测试集，在训练时使用包外估计，对比包外估计的性能和模型在测试集上性能"
   ]
  },
  {
   "cell_type": "markdown",
   "id": "6c879e04-bb1d-48df-8ac8-51a1548c6bba",
   "metadata": {},
   "source": [
    "----"
   ]
  }
 ],
 "metadata": {
  "kernelspec": {
   "display_name": "ML",
   "language": "python",
   "name": "ml"
  },
  "language_info": {
   "codemirror_mode": {
    "name": "ipython",
    "version": 3
   },
   "file_extension": ".py",
   "mimetype": "text/x-python",
   "name": "python",
   "nbconvert_exporter": "python",
   "pygments_lexer": "ipython3",
   "version": "3.9.16"
  }
 },
 "nbformat": 4,
 "nbformat_minor": 5
}
