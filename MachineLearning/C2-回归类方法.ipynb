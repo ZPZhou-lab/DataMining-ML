{
 "cells": [
  {
   "cell_type": "markdown",
   "id": "5dbaa84b-3d8e-4c74-9260-46c23602af07",
   "metadata": {},
   "source": [
    "# **Chap 2：回归类方法**"
   ]
  },
  {
   "cell_type": "code",
   "execution_count": 4,
   "id": "0b7388fa-5bba-48b0-b5c2-35342ea325b0",
   "metadata": {
    "tags": []
   },
   "outputs": [],
   "source": [
    "import numpy as np\n",
    "from matplotlib import pyplot as plt\n",
    "from sklearn.linear_model import LogisticRegression, Ridge, Lasso\n",
    "from sklearn.metrics import accuracy_score, recall_score, precision_score, f1_score, confusion_matrix\n",
    "from sklearn.datasets import make_classification\n",
    "from sklearn.model_selection import train_test_split\n",
    "from keras.datasets import fashion_mnist, mnist"
   ]
  },
  {
   "cell_type": "markdown",
   "id": "9d18d8c7-7f19-4930-bfc1-e39e212124c2",
   "metadata": {
    "tags": []
   },
   "source": [
    "## **1 Logistic Regression**"
   ]
  },
  {
   "cell_type": "markdown",
   "id": "bd33b9c8-34af-4058-a235-2fba4521be1b",
   "metadata": {},
   "source": [
    "### **1.1 从线性回归扩展到二分类问题**"
   ]
  },
  {
   "cell_type": "markdown",
   "id": "d56deb99-b0f8-4d21-826a-d4bfe03ded47",
   "metadata": {},
   "source": [
    "在之前的学习中，我们已经熟悉了使用**线性回归模型**解决回归类问题的方法，我们再回顾一下线性回归模型问题中的一些知识"
   ]
  },
  {
   "cell_type": "markdown",
   "id": "e24e9586-2bb6-4f67-be57-c3d764752883",
   "metadata": {},
   "source": [
    "模型的输入空间 $\\mathcal{X} = \\mathbb{R}^p$，输出空间 $\\mathcal{Y} = \\mathbb{R}$，$T=\\{(x_i,y_i)\\}_{i=1}^{N}$ 构成训练集，设 $\\beta \\in\\mathbb{R}^p$ 是 $p$ 维向量，考虑预测函数 $f_\\beta$：\n",
    "$$ f_\\beta (x) = x\\beta $$"
   ]
  },
  {
   "cell_type": "markdown",
   "id": "71296d6d-8f45-47b0-88b0-aff62657388b",
   "metadata": {},
   "source": [
    "模型的假设空间为：\n",
    "$$\\mathcal{F} = \\{f_\\beta | y=f_{\\beta}(x),\\beta \\in \\mathbb{R}^p\\}$$"
   ]
  },
  {
   "cell_type": "markdown",
   "id": "cf6417ed-43d6-4e91-ac71-edda700e27ec",
   "metadata": {},
   "source": [
    "使用均方误差，构造经验损失函数：\n",
    "$$ R_{emp}(f) = \\frac{1}{N}\\sum_{i=1}^{N} \\left[y_i - f_\\beta(x_i)\\right]^2 = \\frac{1}{N}\\|Y - X\\beta\\|_2^2$$"
   ]
  },
  {
   "cell_type": "markdown",
   "id": "1e83fd7a-fac1-4bfb-9310-06cec00b2dbd",
   "metadata": {},
   "source": [
    "其中，$X \\in \\mathbb{R}^{N\\times p}$, $Y\\in\\mathbb{R}^{N\\times 1}$ 是由样本组成的特征矩阵和标签向量"
   ]
  },
  {
   "cell_type": "markdown",
   "id": "4ca5002e-b1a0-4809-88fa-d22bf850d872",
   "metadata": {},
   "source": [
    "模型的策略是极小化上面的经验损失函数，这等价于求上述关于参数 $\\beta$ 极小化问题：\n",
    "$$\n",
    "f^* = \\mathop{\\arg\\min}\\limits_{f\\in\\mathcal{F}} R_{emp}(f) \\quad \\leftrightarrow \\quad \\beta^* = \\mathop{\\arg\\min}\\limits_{\\beta\\in\\mathbb{R}^p} \\frac{1}{N} \\|Y-X\\beta\\|_2^2\n",
    "$$"
   ]
  },
  {
   "cell_type": "markdown",
   "id": "da594c51-ef24-457e-a518-f2ad77ed32fc",
   "metadata": {},
   "source": [
    "通过求导推到，我们可以得到 $\\beta^*$ 的正规方程：\n",
    "$$ \\beta^* = (X^TX)^{-1}X^TY $$"
   ]
  },
  {
   "cell_type": "markdown",
   "id": "171979a1-ce00-48d9-8f69-3ef25d105eb7",
   "metadata": {},
   "source": [
    "**说明**：在之前，以及接下来的讨论中，为了记号简单，我们都没有提到**截距项**，事实上，**截距项的推广非常简单，这等价于在特征基础上增加了一列 1**"
   ]
  },
  {
   "cell_type": "markdown",
   "id": "cf194e0e-5594-44d2-ace6-f2b0946dbf85",
   "metadata": {},
   "source": [
    "----"
   ]
  },
  {
   "cell_type": "markdown",
   "id": "e8216d93-c00c-4ef7-ad7a-ba7343877592",
   "metadata": {},
   "source": [
    "现在，假设模型的输出空间 $\\mathcal{Y}$ 变为二值离散空间，即 $y_i \\in \\{0,1\\}$，显然沿用之前的预测函数 $f_\\beta(x) \\in (-\\infty,+\\infty)$ 不满足要求，我们应该如何处理呢？"
   ]
  },
  {
   "cell_type": "markdown",
   "id": "0d6966ca-ec3c-42f5-8c52-637c38232d25",
   "metadata": {},
   "source": [
    "核心的关注点是**如何将决策函数的输出映射到 $(0,1)$ 取值**，但改变决策函数之后，整个机器学习模型的后续流程也会随之改变"
   ]
  },
  {
   "cell_type": "markdown",
   "id": "2f802aa9-1f3f-4b58-908e-bdecfadf2534",
   "metadata": {},
   "source": [
    "不变的是，请记住，分析任何机器学习算法，都可以从**模型**，**策略**和**算法**三部分入手，下面对**逻辑回归（Logistic Regression）**的介绍便是如此"
   ]
  },
  {
   "cell_type": "markdown",
   "id": "f7fb8aa9-9411-42ad-80a6-4c26437f83d9",
   "metadata": {},
   "source": [
    "#### **1.1.1 模型**"
   ]
  },
  {
   "cell_type": "markdown",
   "id": "e56c077a-a651-430c-a16e-399e54b5eaa7",
   "metadata": {},
   "source": [
    "逻辑回归的主要想法是**构造从输入变量** $X$ **到输出变量** $Y$ **的条件概率模型** $P(y|x)$，通过概率 $p(y|x)$ 来完成分类"
   ]
  },
  {
   "cell_type": "markdown",
   "id": "0a5cfa73-89fa-4d44-9713-45508875403f",
   "metadata": {},
   "source": [
    "以二分类为入手点，考虑到输出变量 $y_i \\in \\{0,1\\}$，自然想法是构造二点分布模型，即**二项分布**：\n",
    "$$\n",
    "(y|x) \\sim b(1,p(x))\n",
    "$$"
   ]
  },
  {
   "cell_type": "markdown",
   "id": "ebc03992-b451-4d58-8f7a-9c5fa10f7570",
   "metadata": {},
   "source": [
    "具体地，我们可以假设：\n",
    "$$\n",
    "P(y=1|x) = p(x)\\in (0,1) \\quad\\text{and}\\quad P(y=0|x) = 1 - p(x) \\in (0,1)\n",
    "$$"
   ]
  },
  {
   "cell_type": "markdown",
   "id": "6ff3e7b3-eaf9-4d6f-9f9b-42f8b7ecb9e2",
   "metadata": {},
   "source": [
    "概率模型的假设有了，如果我们想要**沿用线性模型的框架**，如何将**内积** $x\\beta \\in \\mathbb{R}$ 与 **概率区间** $(0,1)$ **联系在一起呢？**"
   ]
  },
  {
   "cell_type": "markdown",
   "id": "65def29b-8621-43c8-9bd2-99e649e91bef",
   "metadata": {},
   "source": [
    "我们首先关注到**事件的几率 odds**：\n",
    "$$\n",
    "odds = \\frac{p(x)}{1 - p(x)} = \\frac{P(y=1|x)}{P(y=0|x)} \\in (0, +\\infty)\n",
    "$$"
   ]
  },
  {
   "cell_type": "markdown",
   "id": "28ff50c8-4f68-4b7e-8726-24d19fbee175",
   "metadata": {},
   "source": [
    "odds 衡量了两种事件发生大小的比值，它将概率 $p(x) \\in (0,1)$ 映射到 $(0,+\\infty)$，仅差最后一步，我们将 odds 映射到 $(-\\infty,+\\infty)$，一个自然的想法是使用对数，于是就有了**对数几率**：\n",
    "$$\n",
    "logit = \\log{\\frac{p(x)}{1 - p(x)}} \\in (-\\infty, +\\infty)\n",
    "$$"
   ]
  },
  {
   "cell_type": "markdown",
   "id": "96282bbd-e44d-474c-abd5-c92a70e9a432",
   "metadata": {},
   "source": [
    "下面，将**线性回归模型**的内积部分接入，我们得到模型：\n",
    "$$\n",
    "logit = \\log{\\frac{p(x)}{1 - p(x)}} = x\\beta\n",
    "$$"
   ]
  },
  {
   "cell_type": "markdown",
   "id": "188f0dc2-8c6d-48e0-8b26-0820efe9eb15",
   "metadata": {},
   "source": [
    "经过简单变换，我们能够从上式中解出 $p(x)$ 的具体形式：\n",
    "$$\n",
    "p(x) = \\frac{1}{1 + \\exp{(-x\\beta)}},\\quad 1 - p(x) = \\frac{\\exp{(-x\\beta)}}{1 + \\exp{(-x\\beta)}}\n",
    "$$"
   ]
  },
  {
   "cell_type": "markdown",
   "id": "8abcdec8-a8bb-4386-98cb-d0b3cc159fda",
   "metadata": {},
   "source": [
    "这里我们定义函数 $S(x)$：\n",
    "$$\n",
    "S(x) = \\frac{1}{1 + \\exp(-x)},\\quad x\\in (-\\infty,+\\infty)\n",
    "$$"
   ]
  },
  {
   "cell_type": "markdown",
   "id": "476c1b35-73b9-476d-a04c-47ca6a723399",
   "metadata": {},
   "source": [
    "$S(x)$ **被称为Sigmoid函数**，它在机器学习中非常常见，它将实数映射到区间 $(0,1)$ 范围内，并关于 $(0,0.5)$ 对称，非常适合对概率分布建模，其图像如下所示："
   ]
  },
  {
   "cell_type": "markdown",
   "id": "5d948911-77a5-488d-ab37-f1dc4c46b1ba",
   "metadata": {},
   "source": [
    "<img src=\"./source/Chap2/sigmoid.png\" style=\"width: 600px\" align=\"left\"/>"
   ]
  },
  {
   "cell_type": "markdown",
   "id": "f9f53f16-3a90-4ff5-aa94-6bf737304133",
   "metadata": {},
   "source": [
    "**Sigmoid函数** $S(x)$ 的另一个重要性质是，可以计算验证，它的**导数能用自身的值来计算**：\n",
    "$$\n",
    "S'(x) = S(x)\\cdot \\left(1 - S(x)\\right)\n",
    "$$"
   ]
  },
  {
   "cell_type": "markdown",
   "id": "fcd44af8-84fa-482c-9271-4fa0bd01c27f",
   "metadata": {},
   "source": [
    "我们可以发现，$p(x)$ 实际上是**Sigmoid函数与线性回归决策函数的复合**"
   ]
  },
  {
   "cell_type": "markdown",
   "id": "ee4d49d4-89ad-4a9c-b3a9-49e6ede2f7d7",
   "metadata": {},
   "source": [
    "现在，我们在线性模型的框架上，完成了对二值概率 $p(y|x) = p(x)$ 建模，具体到决策函数，可以考虑：\n",
    "$$\n",
    "f(x) = \\mathbb{I}\\{p(x) > \\tau\\}\n",
    "$$"
   ]
  },
  {
   "cell_type": "markdown",
   "id": "f0817485-b0aa-4cdf-8b30-4462cba3a258",
   "metadata": {},
   "source": [
    "其中，$\\tau$ 是一个**阈值（threshold）**，用于控制在什么置信程度下，我们将概率 $p(y|x) > \\tau$ 的样本判定为正类，即 $y = 1$，默认情况下，我们可以取 $\\tau = 0.5$"
   ]
  },
  {
   "cell_type": "markdown",
   "id": "bb52702e-ee8d-4905-92d9-8b5817602ab0",
   "metadata": {},
   "source": [
    "阈值 $\\tau$ 的确定关系到**样本不平衡**问题，以及**ROC 和 AUC**曲线的分析，我们将在下一部分详细讨论"
   ]
  },
  {
   "cell_type": "markdown",
   "id": "e83f6257-5858-4825-9acb-15294c85ee87",
   "metadata": {},
   "source": [
    "模型的假设空间 $\\mathcal{F}$ 即为：\n",
    "$$\n",
    "\\mathcal{F} = \\{f_\\beta | y = f_\\beta(x) = \\mathbb{I}\\{p_\\beta(x) > \\tau\\}, \\beta\\in\\mathbb{R}^p,\\tau \\in (0,1)\\}\n",
    "$$"
   ]
  },
  {
   "cell_type": "markdown",
   "id": "538dd44f-e8f3-4f67-9dd3-99fb23f2b6f2",
   "metadata": {},
   "source": [
    "#### **1.1.2 策略**"
   ]
  },
  {
   "cell_type": "markdown",
   "id": "9fc06c45-dcf0-45f9-952b-c2818378492c",
   "metadata": {},
   "source": [
    "与线性回归的框架大体相同，在逻辑回归问题中，决策函数 $f$ 依然与参数 $\\beta$ 绑定，构造经验损失函数 $R_{emp}(f)$ 后，模型的策略为：\n",
    "$$\n",
    "f^* = \\mathop{\\arg\\min}\\limits_{f\\in\\mathcal{F}} R_{emp}(f) \\quad \\leftrightarrow \\quad \\beta^* = \\mathop{\\arg\\min}\\limits_{\\beta\\in\\mathbb{R}^p} R_{emp}(f_\\beta)\n",
    "$$"
   ]
  },
  {
   "cell_type": "markdown",
   "id": "8c0c6b13-5d2e-4850-b651-9b4dfdc61f00",
   "metadata": {},
   "source": [
    "接下来的问题变为，**如何选择经验损失函数中的损失函数** $L\\left(y,f(x)\\right)$ ?"
   ]
  },
  {
   "cell_type": "markdown",
   "id": "b63a6f87-e947-48e9-9633-5d7549e21a11",
   "metadata": {},
   "source": [
    "**(1) 用分类错误率**"
   ]
  },
  {
   "cell_type": "markdown",
   "id": "dc5c0313-5cfc-4ddd-9100-1e5716e7c246",
   "metadata": {},
   "source": [
    "一种最朴素的想法是，**关心什么评估指标就把这个指标当作损失函数**"
   ]
  },
  {
   "cell_type": "markdown",
   "id": "1d5efefd-2349-4a75-930f-cd02adccaa79",
   "metadata": {},
   "source": [
    "我们现在想要极大化正确率，即最小化分类错误率：\n",
    "$$\n",
    "R_{emp}(f) = \\frac{1}{N}\\sum_{i=1}^{N} \\mathbb{I}\\{y_i \\ne f(x_i)\\}\n",
    "$$"
   ]
  },
  {
   "cell_type": "markdown",
   "id": "b8c51ed7-ad4c-48ca-8e97-23f5d25e21a6",
   "metadata": {},
   "source": [
    "但**当开始考虑优化问题的求解时，立刻就发现上面的想法不可行，这是一个完全无法优化的函数**，因此，有时候**太直接是行不通的**"
   ]
  },
  {
   "cell_type": "markdown",
   "id": "6db3be10-f394-4646-b31c-eb295fe96ad3",
   "metadata": {},
   "source": [
    "**(2) 沿用MSE**"
   ]
  },
  {
   "cell_type": "markdown",
   "id": "41760b68-d9b5-4dda-ac17-ca6b91254700",
   "metadata": {},
   "source": [
    "另一种想法是**沿用平方损失**，**为了让优化得以进行，我们退一步：不使用决策函数，而是使用概率模型** $p(y|x) = p(x)$ 来参与优化"
   ]
  },
  {
   "cell_type": "markdown",
   "id": "81501bbb-bdbd-42fa-b27d-32c660b1fca1",
   "metadata": {},
   "source": [
    "$$\n",
    "R_{emp}(f) = \\frac{1}{N} \\sum_{i=1}^{N} \\left[y_i - p(x_i)\\right]^2\n",
    "$$"
   ]
  },
  {
   "cell_type": "markdown",
   "id": "b85e0183-0fe1-498f-a863-357c7f9af3c6",
   "metadata": {},
   "source": [
    "首先明确，**上述式子是可优化的**，但会有两个问题：\n",
    "* 直接用实数距离来评估一个概率模型，显得不太“得体”，这从数学理论的解释上不太说得通\n",
    "* 对经验损失关于 $\\beta$ 求导后，会发现结果“丑陋”不美观，不利于优化算法的设计"
   ]
  },
  {
   "cell_type": "markdown",
   "id": "8b18a52d-db18-4161-a650-909f45d9490a",
   "metadata": {},
   "source": [
    "**(3) 使用似然函数**"
   ]
  },
  {
   "cell_type": "markdown",
   "id": "f944f2e6-6509-45cc-8b43-db3a609b6085",
   "metadata": {},
   "source": [
    "**对概率模型损失建模的正确方向是使用似然函数**，逻辑回归模型的似然函数 $L(\\beta)$ 为："
   ]
  },
  {
   "cell_type": "markdown",
   "id": "9141b168-5454-45a5-8fcc-7d023ad882c6",
   "metadata": {},
   "source": [
    "$$\n",
    "L(\\beta) = \\prod_{i=1}^{N} \\left[p_\\beta(x_i)\\right]^{y_i}\\left[1 - p_\\beta(x_i)\\right]^{1 - y_i}\n",
    "$$"
   ]
  },
  {
   "cell_type": "markdown",
   "id": "c3ac1101-a9a6-4e98-8380-88ad249a0989",
   "metadata": {},
   "source": [
    "为了**让模型参数更贴合训练样本**，我们希望**极大化似然函数** $L$，其实本质上，$\\beta$ 的求解就是进行**极大似然估计（MLE）**"
   ]
  },
  {
   "cell_type": "markdown",
   "id": "79644d4f-1b8d-4f3c-87d2-0ef5cac86ac1",
   "metadata": {},
   "source": [
    "$$\n",
    "\\beta^* = \\mathop{\\arg\\max}\\limits_{\\beta \\in \\mathbb{R}^p} L(\\beta)\n",
    "$$"
   ]
  },
  {
   "cell_type": "markdown",
   "id": "1267264c-b225-4c43-94fc-907ac5c2af4b",
   "metadata": {},
   "source": [
    "累乘不便于操作，且为了**与其他机器学习模型极小化经验损失的思想统一**，更一般的方法是考虑**负对数似然函数** $\\ell(\\beta)$："
   ]
  },
  {
   "cell_type": "markdown",
   "id": "013a32d9-95db-4a0c-9620-c0f57fe7ecf4",
   "metadata": {},
   "source": [
    "$$\n",
    "\\begin{array}{rcl}\n",
    "\\ell(\\beta) & = & \\displaystyle{-\\frac{1}{N} \\log L(\\beta)} \\\\\n",
    "& = & \\displaystyle{-\\frac{1}{N} \\{ \\sum_{i=1}^{N} y_i\\log\\left(p_\\beta(x_i)\\right) + (1- y_i)\\log\\left(1 - p_\\beta(x_i)\\right) \\}}\\\\\n",
    "& = & \\displaystyle{\\frac{1}{N} \\sum_{i=1}^{N} \\left(-y_i x_i\\beta + \\log{\\left(1 + \\exp{(x_i\\beta)}\\right)}\\right) }\n",
    "\\end{array}\n",
    "$$"
   ]
  },
  {
   "cell_type": "markdown",
   "id": "a7b187e0-1537-4206-b8ba-bd4743a01e3f",
   "metadata": {},
   "source": [
    "前面的分式 $1 / N$ 用于消除样本量 $N$ 的影响，本质上不会影响最优解 $\\beta^*$，现在，模型的策略为："
   ]
  },
  {
   "cell_type": "markdown",
   "id": "6c2b5d25-a781-4635-ae6b-347125105c4a",
   "metadata": {},
   "source": [
    "$$\n",
    "\\beta^* = \\mathop{\\arg\\min}\\limits_{\\beta\\in\\mathbb{R}^p} \\ell(\\beta) = \\mathop{\\arg\\min}\\limits_{\\beta\\in\\mathbb{R}^p} \\frac{1}{N} \\sum_{i=1}^{N} \\left(-y_i x_i\\beta + \\log{\\left(1 + \\exp{(x_i\\beta)}\\right)}\\right) \n",
    "$$"
   ]
  },
  {
   "cell_type": "markdown",
   "id": "94522428-b88e-4562-b816-ccba8c13b85b",
   "metadata": {},
   "source": [
    "#### **1.1.3 算法**"
   ]
  },
  {
   "cell_type": "markdown",
   "id": "76dddb01-71e6-4c25-a68d-52ecdb84fa28",
   "metadata": {},
   "source": [
    "很遗憾，**负对数似然函数的优化关于** $\\beta$ **没有像线性回归中正规方程那样的解析解**，幸运的是，我们可以使用**梯度下降法**来求解 $\\beta^*$"
   ]
  },
  {
   "cell_type": "markdown",
   "id": "614d1cf8-e63b-4137-ac57-7c3cdc90e3e3",
   "metadata": {},
   "source": [
    "为了便于求导，我们**将负对数似然函数写作Sigmoid函数的表达形式**：\n",
    "$$\n",
    "\\ell(\\beta) = -\\frac{1}{N} \\sum_{i=1}^{N} { \\left[y_i\\log{S(x_i\\beta)} + (1-y_i)\\log{(1 - S(x_i\\beta))} \\right]}\n",
    "$$"
   ]
  },
  {
   "cell_type": "markdown",
   "id": "02bbd19c-caee-497f-9a90-768935970f95",
   "metadata": {},
   "source": [
    "|记住我们有，$S'(x) = S(x)\\left(1 - S(x)\\right)$，因此："
   ]
  },
  {
   "cell_type": "markdown",
   "id": "deb4f52c-e811-462d-bc3a-702bf3183bee",
   "metadata": {},
   "source": [
    "$$\n",
    "\\begin{array}{rcl}\n",
    "\\displaystyle{\\frac{\\partial \\ell}{\\partial \\beta} } & = & \\displaystyle{-\\frac{1}{N} \\sum_{i=1}^{N} \\left[ y_i \\left(1 - S(x_i\\beta)\\right) - (1 - y_i)S(x_i\\beta)  \\right]\\cdot x_i  } \\\\\n",
    "& = & \\displaystyle{-\\frac{1}{N} \\sum_{i=1}^{N} \\left[ y_i - S(x_i\\beta)  \\right]\\cdot x_i  } \\\\\n",
    "& = & \\displaystyle{ \\frac{1}{N} \\sum_{i=1}^{N} \\left[ p_\\beta(x_i) - y_i \\right]\\cdot x_i \\in \\mathbb{R}^p } \\\\\n",
    "\\end{array}\n",
    "$$"
   ]
  },
  {
   "cell_type": "markdown",
   "id": "45591763-d687-43eb-be5c-3782b8353eb6",
   "metadata": {},
   "source": [
    "接下来，就可以按照**梯度下降法**的一般流程，编写代码，完成模型的求解"
   ]
  },
  {
   "cell_type": "code",
   "execution_count": 2,
   "id": "399d8289-dfe8-4702-94b2-7963330e3a7e",
   "metadata": {},
   "outputs": [],
   "source": [
    "def GradientDescentLogistic(X : np.ndarray, y : np.ndarray, lr : float=0.1, eps : float=1e-8) -> np.ndarray:\n",
    "    \"\"\"\n",
    "    梯度下降法法求解线性回归\n",
    "    \n",
    "    Parameters\n",
    "    ----------\n",
    "    X : np.ndarray\n",
    "        输入数据，即特征，维度`(N,p)`\n",
    "    y : np.ndarray\n",
    "        真实标签，即预测值，取二值变量`{0,1}`，维度`(N,)`\n",
    "    lr : float, optional\n",
    "        梯度下降的学习率，默认值`0.1`\n",
    "    eps : float, optional\n",
    "        算法收敛阈值，默认值`1e-8`\n",
    "    \n",
    "    Return\n",
    "    ----------\n",
    "    beta : np.ndarray\n",
    "        逻辑回归模型估计得到的最优系数，维度`(p,)`\n",
    "    \"\"\"\n",
    "    # 定义 sigmoid 函数\n",
    "    def sigmoid(x : np.ndarray) -> np.ndarray:\n",
    "        return 1 / (1 + np.exp(-x))\n",
    "    \n",
    "    # 特征维度和样本量\n",
    "    p = X.shape[1]\n",
    "    N = X.shape[0]\n",
    "    # 随机初始化 beta，使用正太随机数初始化\n",
    "    beta = np.random.randn(p)\n",
    "    # 初始化迭代误差\n",
    "    err = 1\n",
    "    \n",
    "    # 为了防止程序因无法满足阈值条件陷入循环，一般还会设置最大迭代次数保护程序\n",
    "    max_iter = 100\n",
    "    # 用 step 存储当前迭代次数\n",
    "    step = 0\n",
    "    \n",
    "    # 开始迭代，当迭代误差小于阈值，或超过最大迭代次数时，程序停止\n",
    "    while err > eps or step < max_iter:\n",
    "        # 计算提督\n",
    "        grad = (1 / N) * (sigmoid(X @ beta) - y) @ X\n",
    "        # 计算下一步的 beta\n",
    "        beta_new = beta - lr * grad\n",
    "        \n",
    "        # 计算两次迭代之间的误差，使用 L2 范数\n",
    "        err = np.linalg.norm(beta_new - beta,ord=2)\n",
    "        # 更新替换 beta\n",
    "        beta = beta_new\n",
    "        \n",
    "        # 更新迭代次数\n",
    "        step = step + 1\n",
    "    \n",
    "    return beta"
   ]
  },
  {
   "cell_type": "markdown",
   "id": "1b41a203-6849-46d6-9e06-66c8df5454cf",
   "metadata": {},
   "source": [
    "**相比线性回归的梯度下降算法而言，只有计算梯度的一句代码发生了改变**，可见梯度下降方法的普适性和易用性"
   ]
  },
  {
   "cell_type": "markdown",
   "id": "7cbfd7e2-1520-4e76-9fa2-dc1da2af0faf",
   "metadata": {},
   "source": [
    "----"
   ]
  },
  {
   "cell_type": "markdown",
   "id": "c476a5ec-e35f-4735-80b9-c249883e3c4e",
   "metadata": {},
   "source": [
    "我们来生成一组数据看看实际的效果"
   ]
  },
  {
   "cell_type": "code",
   "execution_count": 3,
   "id": "724b8b96-625c-4e76-bc78-b1bcc4c0a69a",
   "metadata": {},
   "outputs": [
    {
     "data": {
      "text/plain": [
       "<matplotlib.legend.Legend at 0x7f5d7f0b45e0>"
      ]
     },
     "execution_count": 3,
     "metadata": {},
     "output_type": "execute_result"
    },
    {
     "data": {
      "image/png": "[encoded data removed]",
      "text/plain": [
       "<Figure size 640x480 with 1 Axes>"
      ]
     },
     "metadata": {
      "needs_background": "light"
     },
     "output_type": "display_data"
    }
   ],
   "source": [
    "# 生成二分类测试数据，样本量 300, 特征维度 2\n",
    "# 各个参数的含义可以查看函数文档，需要满足 n_informative + n_redundant + n_repeated <= n_features\n",
    "X, y = make_classification(n_samples=300, n_features=2, \n",
    "                           n_informative=2, n_redundant=0, n_repeated=0, \n",
    "                           n_classes=2,n_clusters_per_class=1,\n",
    "                           random_state=555)\n",
    "\n",
    "# 绘制样本的分布\n",
    "fig = plt.figure(figsize=(8,6),dpi=80)\n",
    "plt.scatter(X[y==0,0], X[y==0,1], c=\"tomato\",label=\"0\") # class 0\n",
    "plt.scatter(X[y==1,0], X[y==1,1], c=\"royalblue\",label=\"1\") # class 1\n",
    "plt.xlabel(\"$X_1$\")\n",
    "plt.ylabel(\"$X_2$\")\n",
    "plt.legend()"
   ]
  },
  {
   "cell_type": "markdown",
   "id": "2313177c-681f-4703-b550-3c892a161bee",
   "metadata": {},
   "source": [
    "下一步，我们将生成的数据随机划分为**训练集**和**测试集**两部分，测试集占比 20%，让模型在训练集上训练，然后评估他在**训练集**和**测试集**上的准确率"
   ]
  },
  {
   "cell_type": "code",
   "execution_count": 4,
   "id": "84597b77-f7e3-475e-8553-adc7f8fadbc5",
   "metadata": {},
   "outputs": [],
   "source": [
    "X_train, X_test, y_train, y_test = train_test_split(X,y,test_size=0.2)"
   ]
  },
  {
   "cell_type": "markdown",
   "id": "1588cbdc-886c-4a8c-a9be-fc8eecb0e177",
   "metadata": {},
   "source": [
    "用我们编写的函数`GradientDescentLogistic()`求解模型系数"
   ]
  },
  {
   "cell_type": "code",
   "execution_count": 5,
   "id": "b7ec4258-155e-49d3-baa2-a219df3bfc6b",
   "metadata": {},
   "outputs": [
    {
     "name": "stdout",
     "output_type": "stream",
     "text": [
      "[-0.12587924  3.58504452]\n"
     ]
    }
   ],
   "source": [
    "# 用梯度下降法求解模型系数\n",
    "beta = GradientDescentLogistic(X_train,y_train)\n",
    "# 打印结果\n",
    "print(beta)"
   ]
  },
  {
   "cell_type": "markdown",
   "id": "e0d002fc-3456-47b5-bac0-cc28075ee890",
   "metadata": {},
   "source": [
    "定义一个函数`predictLogistic()`来实验预测，将概率大于 0.5 的样本预测为正类，即 $y=1$"
   ]
  },
  {
   "cell_type": "code",
   "execution_count": 6,
   "id": "c258b148-a4a6-48a8-9355-f21dbc83215d",
   "metadata": {},
   "outputs": [],
   "source": [
    "def predictLogistic(X : np.ndarray, beta : np.ndarray) -> np.ndarray:\n",
    "    \"\"\"\n",
    "    predict(X : np.ndarray, beta : np.ndarray) -> np.ndarray\n",
    "        逻辑回归预测函数\n",
    "    \"\"\"\n",
    "    # 做 sigmoid 变换，计算概率\n",
    "    p = 1 / (1 + np.exp(- X @ beta))\n",
    "    # 生成初始预测\n",
    "    y_hat = np.zeros_like(p)\n",
    "    # 概率大于 0.5 的预测为 1\n",
    "    y_hat[p > 0.5] = 1\n",
    "    \n",
    "    return y_hat"
   ]
  },
  {
   "cell_type": "code",
   "execution_count": 7,
   "id": "80a570b4-6d9a-484b-8cf8-844dcf5e2232",
   "metadata": {},
   "outputs": [],
   "source": [
    "# 训练集上的预测\n",
    "y_train_hat = predictLogistic(X_train,beta)\n",
    "# 在测试集上的预测\n",
    "y_test_hat = predictLogistic(X_test,beta)"
   ]
  },
  {
   "cell_type": "markdown",
   "id": "673317ca-c461-42c0-9158-3eef46395464",
   "metadata": {},
   "source": [
    "用**准确率**作为评估指标，查看模型在训练集和测试集上的性能"
   ]
  },
  {
   "cell_type": "code",
   "execution_count": 8,
   "id": "0f037c7d-d4fb-4afe-b0d3-2f2f4333e3cb",
   "metadata": {},
   "outputs": [
    {
     "name": "stdout",
     "output_type": "stream",
     "text": [
      "训练集准确率：0.9250\n",
      "测试集准确率：0.9667\n"
     ]
    }
   ],
   "source": [
    "# 用 sklearn 中的准确率函数计算\n",
    "acc_train = accuracy_score(y_train,y_train_hat)\n",
    "acc_test = accuracy_score(y_test,y_test_hat)\n",
    "\n",
    "# 打印结果\n",
    "print(\"训练集准确率：%.4f\"%(acc_train))\n",
    "print(\"测试集准确率：%.4f\"%(acc_test))"
   ]
  },
  {
   "cell_type": "markdown",
   "id": "95ccebc6-49bd-4699-b9f3-a5498a62dc19",
   "metadata": {},
   "source": [
    "模型性能表现良好，且没有出现**过拟合**"
   ]
  },
  {
   "cell_type": "markdown",
   "id": "6781e15a-702d-472f-a1d1-17372a2df697",
   "metadata": {},
   "source": [
    "**逻辑回归方法在第三方软件包`sklearn`中，已经有了很好的实现**，可以通过下面的方法使用"
   ]
  },
  {
   "cell_type": "markdown",
   "id": "5ef32679-db01-495a-9775-86bb31f48627",
   "metadata": {},
   "source": [
    "```python\n",
    "# 导入线性回归模块\n",
    "from sklearn.linear_model import LogisticRegression\n",
    "\n",
    "# 初始化模型，设定惩罚系数\n",
    "model = LogisticRegression(fit_intercept=False)\n",
    "# 训练模型\n",
    "model.fit(X_train,y_train)\n",
    "\n",
    "# 进行预测\n",
    "y_hat = model.predict(X_test)\n",
    "```"
   ]
  },
  {
   "cell_type": "markdown",
   "id": "0238a90b-69b5-48ac-8ba7-7bcd2df375fc",
   "metadata": {},
   "source": [
    "### **1.2 逻辑回归解决多分类问题**"
   ]
  },
  {
   "cell_type": "markdown",
   "id": "1ad789e0-8cad-4a1e-917e-ceba5d7bb6d5",
   "metadata": {},
   "source": [
    "将上面的逻辑回归模型推广到多分类问题，主要有三种方法：\n",
    "* 不改变模型，进行一对一分类（**OvO**）\n",
    "* 不改变模型，进行一对多分类（**OvR**）\n",
    "* 直接讲模型修改为**多分类**"
   ]
  },
  {
   "cell_type": "markdown",
   "id": "1f1fdd2e-4762-43a8-944d-d5da94be743d",
   "metadata": {},
   "source": [
    "我们将重点介绍**多分类逻辑回归模型**"
   ]
  },
  {
   "cell_type": "markdown",
   "id": "d9bfc9e9-4e2a-4b0a-b53b-e1c9f298752c",
   "metadata": {},
   "source": [
    "我们对模型的假设空间稍作修改，特征空间 $X\\in \\mathbb{R}^p$ 没有改变，输出空间 $\\mathcal{Y}$ 依然是离散空间，但此时有 $K$ 个类别：\n",
    "$$\n",
    "y \\in \\{1,2,\\cdots,K\\}\n",
    "$$"
   ]
  },
  {
   "cell_type": "markdown",
   "id": "23377bb2-e630-4a8c-a7c4-58ea08d63453",
   "metadata": {},
   "source": [
    "#### **1.2.1 一对一 OvO**"
   ]
  },
  {
   "cell_type": "markdown",
   "id": "2fed83a5-0931-4a60-8e85-76be5ed3b93e",
   "metadata": {},
   "source": [
    "**OvO** 的想法是将训练集中的 $K$ 类两两组合，然后对所挑选出的两类样本构建**二分类逻辑回归模型** $f_{p,q}$："
   ]
  },
  {
   "cell_type": "markdown",
   "id": "059ef0ab-d968-4174-9005-9b19a8750bcb",
   "metadata": {},
   "source": [
    "$$\n",
    "f_{p,q},\\quad p<q,\\quad p,q\\in\\{1,2,\\cdots,K\\}\n",
    "$$"
   ]
  },
  {
   "cell_type": "markdown",
   "id": "7538093f-fcad-45af-991f-97ae4d394e1a",
   "metadata": {},
   "source": [
    "因此，**OvO方案总共会得到 $C_{K}^2 = K(K-1) / 2$ 个二分类器**"
   ]
  },
  {
   "cell_type": "markdown",
   "id": "1db915f9-2bf6-4a71-8aa8-ea192a84a44f",
   "metadata": {},
   "source": [
    "在进行决策预测时，我们用 $C_K^2$ 个分类器做出预测：\n",
    "$$\n",
    "\\{ \\hat{y}_{p,q} \\}_{p<q}\n",
    "$$"
   ]
  },
  {
   "cell_type": "markdown",
   "id": "6593f446-1754-4dd5-a9f3-1d79bcca3483",
   "metadata": {},
   "source": [
    "然后我们使用**投票机制**，将这组预测中的**众数**作为最终的预测结果："
   ]
  },
  {
   "cell_type": "markdown",
   "id": "1138313c-3fd8-479f-96a3-4bc18d1a3ee1",
   "metadata": {},
   "source": [
    "$$\\hat{y} = \\text{mode}\\left(\\{y_{p,q}\\} \\right)$$"
   ]
  },
  {
   "cell_type": "markdown",
   "id": "dcb474e3-2a1b-41e8-b92c-2f882b8aaf4c",
   "metadata": {},
   "source": [
    "OvO 的建模过程如下图所示："
   ]
  },
  {
   "cell_type": "markdown",
   "id": "11a1daaf-dc64-4aae-82a3-9c8967c14a75",
   "metadata": {},
   "source": [
    "<img src=\"./source/Chap2/OvO训练.jpg\" style=\"width: 900px\" align=\"left\"/>"
   ]
  },
  {
   "cell_type": "markdown",
   "id": "88403332-8dd5-4e92-95bf-0c6419d4cbcb",
   "metadata": {},
   "source": [
    "<img src=\"./source/Chap2/OvO预测.png\" style=\"width: 600px\" align=\"left\"/>"
   ]
  },
  {
   "cell_type": "markdown",
   "id": "b3141d9d-f397-4a0f-8000-3939e1dec037",
   "metadata": {},
   "source": [
    "#### **1.2.2 一对多 OvR**"
   ]
  },
  {
   "cell_type": "markdown",
   "id": "ead3ca2f-611e-4c5b-aa9e-149a5bd58414",
   "metadata": {},
   "source": [
    "**OvR** 依然基于**二分类逻辑回归**，对于 $K$ 个类别，**每次拿出其中一个类别** $k$ **作为正类 1**，**其余所有其他类别的样本作为负类 0**，总共得到 $K$ 个分类器：\n",
    "$$\n",
    "f_k,\\quad k=1,2,\\cdots, K\n",
    "$$"
   ]
  },
  {
   "cell_type": "markdown",
   "id": "004fbd72-3daf-4582-999b-2ed2e79c523f",
   "metadata": {},
   "source": [
    "在预测时，我们拿到 $K$ 个模型的预测概率 $p_x(x),k=1,2,\\cdots,K$，并**将概率最大所属的类作为最终的预测值**： \n",
    "$$\n",
    "\\hat{y} = \\mathop{\\arg\\max}\\limits_{k=1,2,\\cdots,K} p_k(x)\n",
    "$$"
   ]
  },
  {
   "cell_type": "markdown",
   "id": "c2ed37fa-e81d-454e-bd90-75c95244cff3",
   "metadata": {},
   "source": [
    "OvR 的建模过程如下图所示："
   ]
  },
  {
   "cell_type": "markdown",
   "id": "44cb0181-138d-478d-8001-1d19924bd3c7",
   "metadata": {},
   "source": [
    "<img src=\"./source/Chap2/OvR训练.png\" style=\"width: 700px\" align=\"left\"/>"
   ]
  },
  {
   "cell_type": "markdown",
   "id": "3d4bb0c4-cab5-4e28-8283-d5411b71072b",
   "metadata": {},
   "source": [
    "<img src=\"./source/Chap2/OvR预测.png\" style=\"width: 600px\" align=\"left\"/>"
   ]
  },
  {
   "cell_type": "markdown",
   "id": "dbee6265-b06e-4693-a487-c8048bb301b2",
   "metadata": {},
   "source": [
    "#### **1.2.3 多元逻辑回归建模**"
   ]
  },
  {
   "cell_type": "markdown",
   "id": "af8a6f7b-cbfd-4296-8f1c-85a6fb95a1b8",
   "metadata": {},
   "source": [
    "假设训练一个二元逻辑回归的运算复杂度是 $T$，则我们有：\n",
    "* OvO的训练运算复杂度：$\\mathcal{O}(K^2\\cdot T)$\n",
    "* OvR的训练运算复杂度：$\\mathcal{O}(K\\cdot T)$"
   ]
  },
  {
   "cell_type": "markdown",
   "id": "bd5e8a48-7ed7-4322-9339-dba962a757cb",
   "metadata": {},
   "source": [
    "在预测性能上，二者的性能差距主要取决于类别数据的分布，在多数情况下二者性能比较接近"
   ]
  },
  {
   "cell_type": "markdown",
   "id": "4ab77189-7d2b-4f12-9b29-485bf3fd24f8",
   "metadata": {},
   "source": [
    "一个值得思考的问题是：**OvO 和 OvR 都需要训练多个二分类决策函数组合使用**，比较**繁琐**，有没有方法**只用一个决策函数来对多分类问题建模？**"
   ]
  },
  {
   "cell_type": "markdown",
   "id": "9bb2a1e7-58f8-4f63-b807-5f040c311249",
   "metadata": {},
   "source": [
    "类似于二元逻辑回归，只不过我们此时需要引入 $K$ 个回归系数 $\\beta_k\\in\\mathbb{R}^p,k=1,2\\cdots,K$，然后使用 **Softmax** 变换，来计算样本 $x$ 属于每一类的概率 $p_k(x)$："
   ]
  },
  {
   "cell_type": "markdown",
   "id": "a0e8afa8-4b42-4138-a000-780af96f8593",
   "metadata": {},
   "source": [
    "$$\n",
    "p_k(x) = P(Y=k|x) = \\frac{\\exp(x\\beta_k)}{\\sum_{j=1}^{K} \\exp(x\\beta_j)} \\in (0,1)\n",
    "$$"
   ]
  },
  {
   "cell_type": "markdown",
   "id": "472b749b-524d-4e4d-b810-666981c0f243",
   "metadata": {},
   "source": [
    "注意：$p_1(x) + p_2(x) + \\cdots + p_K(x) = 1$，可以看到，**Softmax** 变换能够将一个 $K$ 维向量 $(x_1,\\cdots,x_K)$ 变换为一个概率分布：\n",
    "$$\n",
    "\\left(\\frac{\\exp(x_1)}{\\sum_{j=1}^{K} \\exp(x_j)} ,\\cdots, \\frac{\\exp(x_K)}{\\sum_{j=1}^{K} \\exp(x_j)}  \\right)\n",
    "$$"
   ]
  },
  {
   "cell_type": "markdown",
   "id": "173002bc-21e1-4ef9-9302-0a53802e0178",
   "metadata": {},
   "source": [
    "**Softmax** 变换时机器学习处理多分类问题，构造概率分布时很常用的一种变换"
   ]
  },
  {
   "cell_type": "markdown",
   "id": "d44d813d-9bac-4dbe-a239-93819653ed02",
   "metadata": {},
   "source": [
    "在预测时，多元逻辑回归模型采用与 **OvR** 相同的思路，即：\n",
    "$$\n",
    "\\hat{y} = \\mathop{\\arg\\max}\\limits_{k=1,2,\\cdots,K} p_k(x)\n",
    "$$"
   ]
  },
  {
   "cell_type": "markdown",
   "id": "2e34a188-2bb2-45bc-9ffa-bdf198fede98",
   "metadata": {},
   "source": [
    "下面，我们具体再说一说多元逻辑回归的建模和求解过程，依然分**模型**，**策略**和**算法**三部分"
   ]
  },
  {
   "cell_type": "markdown",
   "id": "a8e7a608-d796-4c62-80ce-a8a4736d8744",
   "metadata": {},
   "source": [
    "**(1) 模型**"
   ]
  },
  {
   "cell_type": "markdown",
   "id": "ef631253-b266-4eff-8e5a-349b9fbe101f",
   "metadata": {},
   "source": [
    "我们考虑将 $K$ 个系数向量 $\\beta_k \\in \\mathbb{R}^p$ 拼接为一个矩阵 $B$：\n",
    "$$\n",
    "B = \\left[\\beta_1,\\cdots,\\beta_K\\right] \\in \\mathbb{R}^{p\\times K}\n",
    "$$"
   ]
  },
  {
   "cell_type": "markdown",
   "id": "b5291803-bdde-4be6-a076-30816ae015ce",
   "metadata": {},
   "source": [
    "对每个样本 $x\\in \\mathbb{R}^p$，那么概率向量 $\\boldsymbol{p}$：\n",
    "$$\n",
    "\\boldsymbol{p}(x) = \\left(p_1(x),\\cdots,p_K(x)\\right) = \\text{Softmax}(xB) \\in \\mathbb{R}^p\n",
    "$$"
   ]
  },
  {
   "cell_type": "markdown",
   "id": "4d5f0a38-ab9a-4b05-b00f-d254022ee1c5",
   "metadata": {},
   "source": [
    "决策函数就是对概率向量 $\\boldsymbol{p}$ 的下标 $k$ 取最大值：\n",
    "$$\n",
    "f_B(x) = \\mathop{\\arg\\max}\\limits_{k=1,2,\\cdots,K} \\boldsymbol{p}_B(x)\n",
    "$$"
   ]
  },
  {
   "cell_type": "markdown",
   "id": "fcaaf78f-6291-47e6-9eb7-5bf1192cb152",
   "metadata": {},
   "source": [
    "假设空间 $\\mathcal{F}$ 为：\n",
    "$$\n",
    "\\mathcal{F} = \\{f_B | y = f_B(x),B\\in\\mathbb{R}^{p\\times K}\\}\n",
    "$$"
   ]
  },
  {
   "cell_type": "markdown",
   "id": "9f50baaf-da50-4033-8faf-7687247abc2e",
   "metadata": {},
   "source": [
    "**(2) 策略**"
   ]
  },
  {
   "cell_type": "markdown",
   "id": "41b1de53-ec3c-407a-aa3b-931ceceac220",
   "metadata": {},
   "source": [
    "与二分类逻辑回归类似，我们**从似然函数出发，构造经验损失函数** $R_{emp}(f)$，多分类情况下的似然函数 $L$为："
   ]
  },
  {
   "cell_type": "markdown",
   "id": "ab70a06e-ee3b-45da-98af-93788605b3ec",
   "metadata": {},
   "source": [
    "$$\n",
    "L = \\prod_{i=1}^{N} \\left[ \\prod_{j=1}^{K} \\left( p(y_i = j|x_i) \\right)^{\\mathbb{I}(y_i = j)} \\right]\n",
    "$$"
   ]
  },
  {
   "cell_type": "markdown",
   "id": "79d43c23-8f0f-4a78-a2ca-6347fe48b757",
   "metadata": {},
   "source": [
    "然后，我们计算**负对数似然函数**，并增加**样本量的缩放因子** $1 / N$，得到 $\\ell$："
   ]
  },
  {
   "cell_type": "markdown",
   "id": "bf17459d-0861-4065-a821-230218d0272e",
   "metadata": {},
   "source": [
    "$$\n",
    "\\ell(B) = -\\frac{1}{N}\\log{L} = -\\frac{1}{N} \\sum_{i=1}^{N} \\left( \\sum_{j=1}^{K} \\mathbb{I}(y_i = j)\\cdot \\log{p\\left(y_i = j | x_i\\right)} \\right) \n",
    "$$"
   ]
  },
  {
   "cell_type": "markdown",
   "id": "6ed8452b-d458-4ace-bbb7-98ad8011d56b",
   "metadata": {},
   "source": [
    "我们将 $p(y_i = j|x_i)$ 的表达式代入：\n",
    "$$\n",
    "p(y_i = j | x_i) = \\frac{ \\exp(x_i\\beta_j) }{\\sum_{k=1}^{K} \\exp(x_i\\beta_k) } \\quad\\Rightarrow\\quad \\log{p(y_i = j | x_i)} = x_i\\beta_j - \\log{\\left( \\sum_{k=1}^{K} \\exp(x_i\\beta_k) \\right)}\n",
    "$$"
   ]
  },
  {
   "cell_type": "markdown",
   "id": "35c321ed-17bc-41ac-8cc6-3abea1c0c810",
   "metadata": {},
   "source": [
    "$$\n",
    "\\ell(B) = -\\frac{1}{N} \\sum_{i=1}^{N} \\left( \\sum_{j=1}^{K} x_i\\beta_j\\mathbb{I}(y_i = j) - \\log{\\left( \\sum_{j=1}^{K} \\exp(x_i\\beta_j) \\right)} \\cdot \\sum_{j=1}^{K} \\mathbb{I}(y_i = j)  \\right) \n",
    "= \\frac{1}{N} \\sum_{i=1}^{N} \\left(\\log{\\left( \\sum_{j=1}^{K} \\exp(x_i\\beta_j) \\right)} -\\sum_{j=1}^{K} x_i\\beta_j\\mathbb{I}(y_i = j) \\right) \n",
    "$$"
   ]
  },
  {
   "cell_type": "markdown",
   "id": "0826d615-825e-4787-8a5f-3582d0a5bc3a",
   "metadata": {},
   "source": [
    "模型的策略是极小化**负对数似然函数**"
   ]
  },
  {
   "cell_type": "markdown",
   "id": "8442dd7a-6c0e-4ad8-aac3-dbf976916e8c",
   "metadata": {},
   "source": [
    "$$\n",
    "B^* = \\mathop{\\arg\\min}\\limits_{B\\in\\mathbb{R}^{p\\times K}} \\ell(B) = \\mathop{\\arg\\min}\\limits_{B\\in\\mathbb{R}^{p\\times K}} \\frac{1}{N} \\sum_{i=1}^{N} \\left(\\log{\\left( \\sum_{j=1}^{K} \\exp(x_i\\beta_j) \\right)} -\\sum_{j=1}^{K} x_i\\beta_j\\mathbb{I}(y_i = j) \\right) \n",
    "$$"
   ]
  },
  {
   "cell_type": "markdown",
   "id": "519434ca-e776-4f3c-a637-cd9640534be5",
   "metadata": {},
   "source": [
    "**(3) 算法**"
   ]
  },
  {
   "cell_type": "markdown",
   "id": "9ce962b8-524c-483e-81b6-dc43fc21e50b",
   "metadata": {},
   "source": [
    "求解模型的算法依然使用**梯度下降法**，我们只需要计算 $\\ell(B)$ 关于参数 $B$ 的导数"
   ]
  },
  {
   "cell_type": "markdown",
   "id": "315d9839-9c03-4ecf-a73a-95e3a4a53829",
   "metadata": {},
   "source": [
    "如果觉得一个标量函数对矩阵参数求导很困难，我们可以先让 $\\ell$ 对 $\\beta_k$ 求导，再将导数拼起来，就得到了 $\\ell$ 关于 $B$ 的导数"
   ]
  },
  {
   "cell_type": "markdown",
   "id": "0f8db9fe-7613-491e-a3d8-b9e77fa79282",
   "metadata": {},
   "source": [
    "$$\n",
    "\\frac{\\partial \\ell}{\\partial \\beta_k} = \\frac{1}{N} \\sum_{i=1}^{N}\\left( \\frac{ \\exp(x_i\\beta_k) }{ \\sum_{j=1}^{K}\\exp(x_i\\beta_j) } - \\mathbb{I}(y_i=k) \\right)x_i = \n",
    "\\frac{\\partial \\ell}{\\partial \\beta_k} = \\frac{1}{N} \\sum_{i=1}^{N}\\left( \\text{Softmax}(x_iB)_k - \\mathbb{I}(y_i=k) \\right)x_i \\in \\mathbb{R}^p\n",
    "$$"
   ]
  },
  {
   "cell_type": "markdown",
   "id": "8cb2aabb-a5ca-4797-909c-129c21ea7f4b",
   "metadata": {},
   "source": [
    "在实际的编程实验中，如果我们设 $\\boldsymbol{x} \\in \\mathbb{R}^{N\\times p}$ 表示所有样本特征，系数矩阵 $B\\in\\mathbb{B}^{p\\times K}$，并**将 $K$ 个类别的标签编码为一个 $N\\times K$ 的 0-1 矩阵** $\\boldsymbol{y}\\in \\mathbb{R}^{N\\times K}$"
   ]
  },
  {
   "cell_type": "markdown",
   "id": "4381511e-5b7e-4c6d-8d42-7c009e0ff871",
   "metadata": {},
   "source": [
    "其中，$\\boldsymbol{y}$ **的每一行元素中只有一个为1，其余全部为0**，假设第 $i$ 行的第 $k$ 列元素 $y_{i,k} = 1$，意味着第 $i$ 个样本属于第 $k$ 类，而 $y_{i,j}=0,j\\ne k$"
   ]
  },
  {
   "cell_type": "markdown",
   "id": "c8e9848c-6e8f-483a-aa21-b627d845e70a",
   "metadata": {},
   "source": [
    "则经验损失 $\\ell(B)$ 对参数 $B$ 求导的结果为："
   ]
  },
  {
   "cell_type": "markdown",
   "id": "5bf5f5a1-07af-4b07-8310-731523559ef4",
   "metadata": {},
   "source": [
    "$$\n",
    "\\frac{\\partial\\ell}{\\partial B} = \\frac{1}{N} \\boldsymbol{x}^T \\left( \\text{Softmax}(\\boldsymbol{x}B) - \\boldsymbol{y} \\right) \\in \\mathbb{R}^{p\\times K}\n",
    "$$"
   ]
  },
  {
   "cell_type": "markdown",
   "id": "56990986-4dd8-4755-b41b-4b81e7011563",
   "metadata": {},
   "source": [
    "每次进行导数的计算时，都注意时刻检查矩阵、向量做乘法时结果的维度是否正确"
   ]
  },
  {
   "cell_type": "markdown",
   "id": "ca23634e-5459-4b88-883f-bff4dbad4a8f",
   "metadata": {},
   "source": [
    "**一些第三方软件包中（例如`sklearn`），提供了将类别标签编码为 0-1 矩阵的功能**："
   ]
  },
  {
   "cell_type": "markdown",
   "id": "d9b940fa-4a7e-406f-a18b-dd468faf9eea",
   "metadata": {},
   "source": [
    "```python\n",
    "from sklearn.preprocessing import OneHotEncoder\n",
    "\n",
    "# 初始化编码器\n",
    "encoder = OneHotEncoder(dtype=np.float64)\n",
    "# 将标签 y 编码为 0-1 矩阵\n",
    "label = encoder.fit_transform(y.reshape(-1,1)).toarray()\n",
    "```"
   ]
  },
  {
   "cell_type": "markdown",
   "id": "3c1788a3-5d41-4c88-8f95-fb4addd58fe2",
   "metadata": {},
   "source": [
    "----"
   ]
  },
  {
   "cell_type": "markdown",
   "id": "781f14c6-91eb-4ce1-a63c-4dd4da9e1705",
   "metadata": {},
   "source": [
    "## **2 分类问题的模型评估**"
   ]
  },
  {
   "cell_type": "markdown",
   "id": "6cada47f-b816-44d7-9533-a0a4f1d73d49",
   "metadata": {},
   "source": [
    "在之前的介绍中，我们实际上隐含了**分类问题中，各个类别样本所占有的比例相当**的假设，接下来我们将看到**类别不平衡**问题，以及我们如何处理它们，以丰富和完善我们对分类问题的评估手段"
   ]
  },
  {
   "cell_type": "markdown",
   "id": "1a7bf911-ac8d-47a5-9b87-4b28315e0a18",
   "metadata": {},
   "source": [
    "### **2.1 准确率、召回率和精确率**"
   ]
  },
  {
   "cell_type": "markdown",
   "id": "3973f506-a3b4-44dc-9361-a45d85f5f964",
   "metadata": {},
   "source": [
    "在癌症检测分类问题中，由于癌症患病人数极少，例如检测的1000个病患样本中，仅有5个人是患有癌症的，此时就出现了**类别不平衡**问题，设想一下，此时使用**准确率**作为评估指标，会有什么问题？"
   ]
  },
  {
   "cell_type": "markdown",
   "id": "72c87b55-5e6c-418a-835f-4108799d2de0",
   "metadata": {},
   "source": [
    "此时，任何一个模型，**只需要将所有的病患预测为非癌症患者，模型的正确率都有0.995**，如此高的准确率乍一看很唬人，但没有任何实际意义"
   ]
  },
  {
   "cell_type": "markdown",
   "id": "f57e0de1-086a-4b4e-98a5-a963e8465994",
   "metadata": {},
   "source": [
    "出现该问题的原因，在于我们**在评估时，没有考虑各类样本所占有的比例**，为此，人们提出了一些更客观的评估指标，例如：**召回率（查全率）**，**精确率（查准率）**和**F1 Score**"
   ]
  },
  {
   "cell_type": "markdown",
   "id": "b8b8f762-38d5-441e-861a-2a06e90c41d8",
   "metadata": {},
   "source": [
    "我们以二分类问题为例，一个经典的表格为："
   ]
  },
  {
   "cell_type": "markdown",
   "id": "cc286eaa-d369-4924-97d3-85c2fe159a06",
   "metadata": {},
   "source": [
    "<img src=\"./source/Chap2/查全率和查准率.png\" style=\"width: 600px\" align=\"left\"/>"
   ]
  },
  {
   "cell_type": "markdown",
   "id": "ee2ed40e-e348-4e84-a872-c2b66fd9cdeb",
   "metadata": {},
   "source": [
    "我们先定义一些符号：\n",
    "* TP(True Positive)：正确标识为正，即算法预测为 1，真实情况也是 1\n",
    "* FP(False Positive)：错误标识为正，即算法预测为 1，真实情况却是 0\n",
    "* FN(False Negative)：错误标识为负，即算法预测为 0，真实情况却是 1\n",
    "* TN(True Negative)：正确标识为负，即算法预测为 0，真实情况也是 0"
   ]
  },
  {
   "cell_type": "markdown",
   "id": "e3650a0b-e3fa-425e-9095-3b39071e5ab8",
   "metadata": {},
   "source": [
    "接下来，我们就能定义**精确率（查准率，Precision）**和**召回率（查全率，Recall）**:"
   ]
  },
  {
   "cell_type": "markdown",
   "id": "c2dacf80-b3f1-4a96-8775-8cfefa91545b",
   "metadata": {},
   "source": [
    "$$\n",
    "P = \\text{查准率} = \\frac{TP}{TP + FP},\\quad \\text{表示预测为 1 的样本中，有多少真正为 1} \\\\\n",
    "R = \\text{查全率} = \\frac{TP}{TP + FN},\\quad \\text{表示真正为 1 的样本中，有多少预测为 1}\\\\\n",
    "$$"
   ]
  },
  {
   "cell_type": "markdown",
   "id": "cb7a8454-c0eb-4de6-81a3-c5887fe878c9",
   "metadata": {},
   "source": [
    "需要注意，**查全率和查准率是一对矛盾的变量，一般来说，一个指标高，另一个指标就会低**，因此**在模型评估时，我们会根据业务需要，选择关心哪一个指标**"
   ]
  },
  {
   "cell_type": "markdown",
   "id": "1eab4658-60d3-4138-8e9e-b710fdff58a3",
   "metadata": {},
   "source": [
    "例如，在前面的**癌症预测**场景中，对于这种高风险疾病的检测，肯定遵循**宁可错杀，绝不放过**的想法，因此我们应该更关注**查全率**，假设此时模型预测的二维表如下："
   ]
  },
  {
   "cell_type": "markdown",
   "id": "d6b14487-f2da-47e9-8930-ccdb2f6a8cd8",
   "metadata": {},
   "source": [
    "<img src=\"./source/Chap2/癌症检测.png\" style=\"width: 600px\" align=\"left\"/>"
   ]
  },
  {
   "cell_type": "markdown",
   "id": "9a79b796-8343-48ee-9874-c29ad66dc923",
   "metadata": {},
   "source": [
    "此时，很容易计算得到**模型预测癌症的查准率是 1.0，但查全率只有 0.2**，这显然不是一个好的模型"
   ]
  },
  {
   "cell_type": "markdown",
   "id": "244d2e2c-db7b-4349-bdd3-2237a1003311",
   "metadata": {},
   "source": [
    "查准率和查全率是两个矛盾的指标，那有没有办法综合考虑一个模型的预测性能呢？"
   ]
  },
  {
   "cell_type": "markdown",
   "id": "3c6225d6-2b4f-4a1c-adb1-6e6776dd9993",
   "metadata": {},
   "source": [
    "一种办法是使用**F1 Score**，它综合了 P 和 R，定义如下：\n",
    "$$\n",
    "F1 = \\frac{2\\times P\\times R}{P + R} \\in [0,1]\n",
    "$$"
   ]
  },
  {
   "cell_type": "markdown",
   "id": "d4968c22-1b62-4ab2-b5e9-8a7606e0c6f1",
   "metadata": {},
   "source": [
    "F1 Score 的值越大，表明模型对不同类别的区分能力越强，如果模型评估时对 P 或者 R 有一定偏好，例如更看重查全率，可以使用**调整F1 Score**"
   ]
  },
  {
   "cell_type": "markdown",
   "id": "18ec1d91-e9b6-47b0-b1a8-769913f6ec87",
   "metadata": {},
   "source": [
    "$$\n",
    "F_\\beta = \\frac{(1 + \\beta^2)\\times P\\times R}{(\\beta^2 \\times P) + R}\n",
    "$$"
   ]
  },
  {
   "cell_type": "markdown",
   "id": "4c6b6cdb-360d-40b7-8040-914ecee4870f",
   "metadata": {},
   "source": [
    "另外一种方法，我们可以让模型在不同数据下评估，然后绘制出 **P-R** 曲线，如下图所示："
   ]
  },
  {
   "cell_type": "markdown",
   "id": "230e0a96-8c74-4619-b217-57dbed000d3b",
   "metadata": {},
   "source": [
    "<img src=\"./source/Chap2/PR曲线.png\" style=\"width: 600px\" align=\"left\"/>"
   ]
  },
  {
   "cell_type": "markdown",
   "id": "73488898-1258-4efd-84b6-f3aa9f7a0c2f",
   "metadata": {},
   "source": [
    "如果一个模型的P-R曲线完全盖住另一个模型，例如途中 B 盖住 C，则可以认为模型 B 的性能在任何方面都超过了 C"
   ]
  },
  {
   "cell_type": "markdown",
   "id": "da89dfd2-b6af-4806-bf49-6aaf25f68e8e",
   "metadata": {},
   "source": [
    "如果模型性能在P-R曲线上没有出现完全覆盖的情况，例如途中的 A 和 B，我们可以关注**平衡点BEP（Break-Event Point）**，它是对角线 P=R 与P-R曲线的交点"
   ]
  },
  {
   "cell_type": "markdown",
   "id": "2ea67ab5-5759-4208-81d5-d1c84a4e773f",
   "metadata": {},
   "source": [
    "基于BEP比较，我们可以认为BEP位置越高，模型性能越强，例如途中，模型 A 的性能要优于模型 B"
   ]
  },
  {
   "cell_type": "markdown",
   "id": "755a591a-a224-4abf-9d60-0d465e0e43b9",
   "metadata": {},
   "source": [
    "最后需要注意，模型评估需要根据真实场景的需求来确定，不可以盲目选择"
   ]
  },
  {
   "cell_type": "markdown",
   "id": "3122059b-72b6-403d-a3f1-dc111e1c6cd2",
   "metadata": {},
   "source": [
    "此外，**样本不平衡**会对模型训练造成不好的影响，导致模型性能失常，解决样本不平衡的方法也有很多，例如**欠采样**和**过采样**，以及**SMOTE**等，这些不是本课程的重点"
   ]
  },
  {
   "cell_type": "markdown",
   "id": "86e3a88f-6ade-445d-8440-009238069e0e",
   "metadata": {},
   "source": [
    "### **2.2 混淆矩阵**"
   ]
  },
  {
   "cell_type": "markdown",
   "id": "1f974b83-df1d-452f-96fc-ce56a893bbf1",
   "metadata": {},
   "source": [
    "**混淆矩阵**能够帮助我们看**清楚模型预测错误的原因来自何处**，或者说，**认清对于模型而来比较难识别的类别是哪些**，从而指导我们对模型进行优化，这在多分类任务场景中尤为有用"
   ]
  },
  {
   "cell_type": "markdown",
   "id": "d1c1d50e-b94b-4498-b0a1-4a3fdd89a2e1",
   "metadata": {},
   "source": [
    "事实上，前面关于查全率、查准率的介绍中，TN，FN，FP，TP构成的 $2\\times 2$ 表格就是一个二维的混淆矩阵"
   ]
  },
  {
   "cell_type": "markdown",
   "id": "f6f60a0c-ed56-4f04-9b66-9be8dccc70ed",
   "metadata": {},
   "source": [
    "依然以前面癌症患病预测的表格为例："
   ]
  },
  {
   "cell_type": "markdown",
   "id": "3e02cd85-3e4d-4efc-b8a2-3804c4951477",
   "metadata": {},
   "source": [
    "<img src=\"./source/Chap2/癌症检测.png\" style=\"width: 600px\" align=\"left\"/>"
   ]
  },
  {
   "cell_type": "markdown",
   "id": "a78589c1-96f1-4862-a4c5-939911928f53",
   "metadata": {},
   "source": [
    "从上面的混淆矩阵中，我们明确了：\n",
    "* **模型识别真正患癌症的人的能力不足，容易产生疏漏**，将癌症患者错误标记为健康人，这是模型的核心问题所在\n",
    "* **模型对健康人群的识别是优秀的**，它不会将健康人错误地判断为癌症患者"
   ]
  },
  {
   "cell_type": "markdown",
   "id": "73367525-1dfc-4fa3-8dea-70e638fada30",
   "metadata": {},
   "source": [
    "下面，我们以**服装识别分类问题**为例子，再来看看如何使用混淆矩阵分析结果，这是一个 10 分类问题"
   ]
  },
  {
   "cell_type": "markdown",
   "id": "9d3a1344-6d73-4355-9684-3aaeb309c208",
   "metadata": {},
   "source": [
    "`FashionMnist`数据集提供了 10 中不同的常见服饰的图片数据，每种服饰的图片数据都存储为一个 $28 \\times 28$ 的矩阵中"
   ]
  },
  {
   "cell_type": "code",
   "execution_count": 47,
   "id": "6522faab-d0c5-40fe-a059-a78a957ecb6f",
   "metadata": {},
   "outputs": [
    {
     "name": "stdout",
     "output_type": "stream",
     "text": [
      "(60000, 28, 28)\n"
     ]
    }
   ],
   "source": [
    "# 导入数据集\n",
    "(X_train, y_train), (X_test, y_test) = fashion_mnist.load_data()\n",
    "\n",
    "# 打印维度\n",
    "print(X_train.shape)"
   ]
  },
  {
   "cell_type": "code",
   "execution_count": 50,
   "id": "fc5f8f5f-d1df-473d-a6ab-0107e2440be5",
   "metadata": {},
   "outputs": [
    {
     "data": {
      "image/png": "[encoded data removed]",
      "text/plain": [
       "<Figure size 1600x480 with 10 Axes>"
      ]
     },
     "metadata": {
      "needs_background": "light"
     },
     "output_type": "display_data"
    }
   ],
   "source": [
    "# 绘制 10 个样本\n",
    "fig, ax = plt.subplots(2,5,figsize=(20,6),dpi=80)\n",
    "ax = ax.flatten()\n",
    "for i in range(10):\n",
    "    ax[i].imshow(X_train[i])\n",
    "    ax[i].set_title(\"label: %d\"%(y_train[i]))\n",
    "plt.tight_layout()"
   ]
  },
  {
   "cell_type": "markdown",
   "id": "4f3ec32a-e26f-4c83-b023-1aa3217a9b27",
   "metadata": {},
   "source": [
    "我们对图片的特征数据做两个预处理，以便于我们的逻辑回归模型能够正确使用：\n",
    "* 图片的像素值在 $[0, 255]$ 之间，我们通过一个线性变换将其转换为 $(-1,1)$ 之间\n",
    "* 特征 $X$ 是一个 $28\\times 28$ 的矩阵，我们将它**拉直**，成为一个 $28\\times 28 = 784$ 维的向量"
   ]
  },
  {
   "cell_type": "code",
   "execution_count": 52,
   "id": "ace47d99-638b-4298-880f-2c2a1279ef59",
   "metadata": {},
   "outputs": [],
   "source": [
    "# 预处理特征\n",
    "X_train = (X_train - 128) / 128\n",
    "X_train = np.reshape(X_train, (X_train.shape[0],28*28)) # 第一个维度是样本量 N，特征维度为 28*28 = 784\n",
    "\n",
    "X_test = (X_test - 128) / 128\n",
    "X_test = np.reshape(X_test, (X_test.shape[0],28*28))"
   ]
  },
  {
   "cell_type": "markdown",
   "id": "06cbbbea-f4bb-4de4-b276-209c5de0aa3f",
   "metadata": {},
   "source": [
    "接下来，构建模型，进行训练，然后做出预测，评估模型在训练集和测试集上的准确率"
   ]
  },
  {
   "cell_type": "code",
   "execution_count": 80,
   "id": "0658a150-fd87-4cda-a857-ea16f623941b",
   "metadata": {},
   "outputs": [
    {
     "name": "stderr",
     "output_type": "stream",
     "text": [
      "/root/miniconda3/envs/ML/lib/python3.9/site-packages/sklearn/linear_model/_sag.py:352: ConvergenceWarning: The max_iter was reached which means the coef_ did not converge\n",
      "  warnings.warn(\n"
     ]
    }
   ],
   "source": [
    "# 构造模型\n",
    "model = LogisticRegression(solver=\"sag\")\n",
    "\n",
    "# 训练\n",
    "model.fit(X_train, y_train)\n",
    "# 预测\n",
    "y_train_hat = model.predict(X_train)\n",
    "y_test_hat = model.predict(X_test)"
   ]
  },
  {
   "cell_type": "code",
   "execution_count": 81,
   "id": "ea241d0f-26ae-4a0c-853a-4efeac8ef2bc",
   "metadata": {},
   "outputs": [
    {
     "name": "stdout",
     "output_type": "stream",
     "text": [
      "训练集准确率：0.6357\n",
      "测试集准确率：0.6094\n"
     ]
    }
   ],
   "source": [
    "# 性能评估\n",
    "acc_train = accuracy_score(y_train,y_train_hat)\n",
    "acc_test = accuracy_score(y_test,y_test_hat)\n",
    "\n",
    "print(\"训练集准确率：%.4f\"%(acc_train))\n",
    "print(\"测试集准确率：%.4f\"%(acc_test))"
   ]
  },
  {
   "cell_type": "markdown",
   "id": "54d1126f-9e78-4f00-8077-df9bfdaf4441",
   "metadata": {},
   "source": [
    "模型好像没有出现**过拟合**，但预测准确率不高，我们来通过**混淆矩阵**分析，模型在哪些类别上预测效果不理想，下面的函数能够帮助我们将**混淆矩阵可视化**"
   ]
  },
  {
   "cell_type": "code",
   "execution_count": 75,
   "id": "a8333df2-ade5-4f4f-a22b-3e6cc7b1d8af",
   "metadata": {},
   "outputs": [],
   "source": [
    "def plot_confusion_matrix(y_true, y_pred, labels):\n",
    "    \"\"\"\n",
    "    plot_confusion_matrix(y_true, y_pred)\n",
    "        绘制混淆矩阵\n",
    "        \n",
    "    Parameters\n",
    "    ----------\n",
    "    y_true : np.ndarray\n",
    "        数据的真实标签\n",
    "    y_pred : np.ndarray\n",
    "        模型的预测结果\n",
    "    labels : list\n",
    "        各个类别的含义\n",
    "    \"\"\"\n",
    "    import itertools\n",
    "\n",
    "    acc = accuracy_score(y_true, y_pred)\n",
    "    mat = confusion_matrix(y_true, y_pred)\n",
    "    print(\"accuracy: %.4f\"%(acc))\n",
    "    \n",
    "    # 绘制混淆矩阵\n",
    "    fig = plt.figure(figsize=(10,10),dpi=100)\n",
    "    plt.imshow(mat,cmap=plt.cm.Blues)\n",
    "    \n",
    "    thresh = mat.max() / 2\n",
    "    for i, j in itertools.product(range(mat.shape[0]), range(mat.shape[1])):\n",
    "        # 在每个位置添加上样本量\n",
    "        plt.text(j, i, mat[i, j],\n",
    "                 horizontalalignment=\"center\",\n",
    "                 color=\"white\" if mat[i, j] > thresh else \"black\")\n",
    "    plt.tight_layout()\n",
    "    plt.xticks(range(mat.shape[0]),labels)\n",
    "    plt.yticks(range(mat.shape[0]),labels)\n",
    "    plt.ylabel('True label')\n",
    "    plt.xlabel('Predicted label')"
   ]
  },
  {
   "cell_type": "markdown",
   "id": "8a391d76-61b2-49e1-b1e0-97e68e853ffd",
   "metadata": {},
   "source": [
    "下表是每个标签对应的服装的含义"
   ]
  },
  {
   "cell_type": "markdown",
   "id": "fea9acf7-f38c-49ad-a309-a83bcf46a7b1",
   "metadata": {},
   "source": [
    "| Label | Description |\n",
    "|:-----:|-------------|\n",
    "|   0   | T-shirt/top |\n",
    "|   1   | Trouser     |\n",
    "|   2   | Pullover    |\n",
    "|   3   | Dress       |\n",
    "|   4   | Coat        |\n",
    "|   5   | Sandal      |\n",
    "|   6   | Shirt       |\n",
    "|   7   | Sneaker     |\n",
    "|   8   | Bag         |\n",
    "|   9   | Ankle boot  |"
   ]
  },
  {
   "cell_type": "code",
   "execution_count": 76,
   "id": "0b83df7c-cbb7-471b-9b58-6a4b3151438a",
   "metadata": {},
   "outputs": [
    {
     "name": "stdout",
     "output_type": "stream",
     "text": [
      "accuracy: 0.6082\n"
     ]
    },
    {
     "data": {
      "image/png": "[encoded data removed]",
      "text/plain": [
       "<Figure size 1000x1000 with 1 Axes>"
      ]
     },
     "metadata": {
      "needs_background": "light"
     },
     "output_type": "display_data"
    }
   ],
   "source": [
    "# 进行混淆矩阵分析\n",
    "labels = [\"T-shirt\",\"Trouser\",\"Pullover\",\"Dress\",\"Coat\",\"Sandal\",\"Shirt\",\"Sneaker\",\"Bag\",\"Ankle Boot\"]\n",
    "plot_confusion_matrix(y_test,y_test_hat,labels)"
   ]
  },
  {
   "cell_type": "markdown",
   "id": "9509c9c8-116a-43f0-bb93-7d50439e4f27",
   "metadata": {},
   "source": [
    "越集中在对角线的类别，说明模型的预测效果越好，越分散的类别，模型的识别能力越差，从混淆矩阵中，我们能得到：\n",
    "* 模型对`Trouser`，`Sneaker`，`Ankle Boot`的识别能力优秀\n",
    "* 模型预测`Pullover`，`Shirt`的能力弱，具体来说：\n",
    "    * 模型容易将`Pullover`与`Coat`和`Shirt`混淆\n",
    "    * 模型容易将`Shirt`与`T-shirt`，`Pullover`，`Coat`混淆"
   ]
  },
  {
   "cell_type": "markdown",
   "id": "95495f8c-c05e-4c74-be04-8654dbc2b561",
   "metadata": {},
   "source": [
    "因此，模型在外形相似的几个服饰上容易产生混淆，这也是**混淆矩阵**名称的由来"
   ]
  },
  {
   "cell_type": "markdown",
   "id": "cf27e2f3-799e-4ba8-ad9b-3e30d4f8f85a",
   "metadata": {},
   "source": [
    "### **2.3 ROC 与 AUC**"
   ]
  },
  {
   "cell_type": "markdown",
   "id": "ade52c76-5245-46d1-8253-228805161e0e",
   "metadata": {},
   "source": [
    "在我们介绍二分类逻辑回归时，提到了一个阈值参数 $\\tau\\in (0,1)$，我们的决策函数 $f$：\n",
    "$$\n",
    "f_\\beta(x) = \\mathbb{I}\\{p_\\beta(x) < \\tau\\}\n",
    "$$"
   ]
  },
  {
   "cell_type": "markdown",
   "id": "af67560b-2839-46c5-b27c-292d14ac3d71",
   "metadata": {},
   "source": [
    "默认情况下，我们选择 $\\tau = 0.5$，但如果遇到了**样本不平衡**等问题，$\\tau = 0.5$ 可能就不是最优选择，这时候该如何确定 $\\tau$ 呢？"
   ]
  },
  {
   "cell_type": "markdown",
   "id": "a7813d08-0ef4-4453-8aaf-ef0f54647bc8",
   "metadata": {},
   "source": [
    "**很多分类器都是为测试样本产生一个概率预测** $p$，**然后将这个预测值与一个阈值** $\\tau$ **对比**，来决定分为哪一类，此时我们可以借助**真正例率 TPR**和**假正例率 FPR**绘制**ROC曲线**来判断"
   ]
  },
  {
   "cell_type": "markdown",
   "id": "59538554-7d9b-4ca8-bf1d-1e94cd516139",
   "metadata": {},
   "source": [
    "$$\n",
    "TPP = \\text{真正例率} = \\frac{TP}{TP + FP},\\quad \\text{表示真正为 1 的样本中，有多少预测为 1} \\\\\n",
    "FPR = \\text{假正例率} = \\frac{FP}{FP + TN},\\quad \\text{表示真正为 0 的样本中，有多少预测为 1}\\\\\n",
    "$$"
   ]
  },
  {
   "cell_type": "markdown",
   "id": "a4a3f679-bd68-4be3-a1f6-5d9a287be2b9",
   "metadata": {},
   "source": [
    "可以发现，**真正例率就是召回率**"
   ]
  },
  {
   "cell_type": "markdown",
   "id": "394f3a8c-ced7-418a-91ab-130d65451d86",
   "metadata": {},
   "source": [
    "**在选择参数** $\\tau$ 时，可以**让** $\\tau$ **以一定步长遍历区间** $[0,1]$，为每个 $\\tau$ 计算TPR和FPR，然后横轴纵轴分别为FPR-TPR，就可以绘制如下的ROC曲线"
   ]
  },
  {
   "cell_type": "markdown",
   "id": "14357614-5802-4cca-9715-2af43d15e3c0",
   "metadata": {},
   "source": [
    "<img src=\"./source/Chap2/ROC.jpeg\" style=\"width: 600px\" align=\"left\"/>"
   ]
  },
  {
   "cell_type": "markdown",
   "id": "a9957925-d649-41b6-a307-026fbd3c24a2",
   "metadata": {},
   "source": [
    "在进行学习器比较时，与**P-R曲线**类似，有两种方法：\n",
    "* **如果某个模型 A 的ROC曲线完全盖住另一个模型 B**，则认为 A 完全优于 B\n",
    "* 如果模型 A 和 B 的ROC曲线有交叉，则可以考虑**AUC（Area Under ROC Curve）**，即**ROC曲线下方的面积**，**AUC越大，分类器性能越好**，具体的：\n",
    "    * AUC = 1，这是一个完美分类器，对应ROC曲线填满整个正方形，采用这个模型时，不管设定什么阈值 $\\tau$，都能得到完美预测，绝大多数情况下不存在完美分类器\n",
    "    * 0.5 < AUC < 1，优于随机猜测，这个分类器妥善设定阈值能有预测价值\n",
    "    * AUC = 0.5，模型预测效果和随机猜测一样，没有预测价值\n",
    "    * AUC < 0.5，模型预测比随机猜测还差，这时候只需要反着预测结果而行，就会优于随机预测"
   ]
  },
  {
   "cell_type": "markdown",
   "id": "7f536057-2fee-47b7-aa7c-f617cc6ae4a5",
   "metadata": {},
   "source": [
    "-----"
   ]
  },
  {
   "cell_type": "markdown",
   "id": "8d905d59-e6cb-4d09-87a6-50f2b328fdd4",
   "metadata": {},
   "source": [
    "## **3 扩展回归方法：L1惩罚和L2惩罚**"
   ]
  },
  {
   "cell_type": "markdown",
   "id": "bbc417df-b51a-4162-ba72-9464759e994c",
   "metadata": {},
   "source": [
    "我们在本章的最后一节简单介绍两个扩展的线性回归模型框架：**Ridge** 和 **Lasso**"
   ]
  },
  {
   "cell_type": "markdown",
   "id": "9194050c-66e9-4ec6-a671-71bbadfa303d",
   "metadata": {},
   "source": [
    "首先介绍**正则化（Regularization）**的概念，事实上，大部分机器学习模型在构建初期都不会考虑**过拟合问题**，而是尽可能复杂化模型、增加可用的参数以使得模型的学习能力足够强，当发现模型的性能“过剩”，容易在训练集上过拟合时，我们再**在其损失函数中，加入对模型复杂度的惩罚项，以削弱模型的拟合能力**，这个操作就叫做**正则化**"
   ]
  },
  {
   "cell_type": "markdown",
   "id": "61af3ebe-9cc1-406f-ace1-92a583bfa313",
   "metadata": {},
   "source": [
    "Ridge 和 Lasso 是最经典的两种**正则化方法**，可以用于缓解过拟合，Lasso 还能用于**特征筛选**，两种方法分别对应**L1惩罚**和**L2惩罚**，这两种惩罚是机器学习中最常用的正则化手段，因此在这里引入它们，后续的机器学习模型中我们会时不时看到它们的身影"
   ]
  },
  {
   "cell_type": "markdown",
   "id": "34697a42-6746-43aa-a87a-1580a2763dc2",
   "metadata": {},
   "source": [
    "### **3.1 Ridge**"
   ]
  },
  {
   "cell_type": "markdown",
   "id": "9e0d50a0-ffc6-415e-8c68-c1e61a9d2cf6",
   "metadata": {},
   "source": [
    "在上一章的习题部分，我们已经提及到了 Ridge 方法，即**岭回归**，他在线性回归模型的基础上，将回归系数的**2-范数**加入到经验损失中一起优化："
   ]
  },
  {
   "cell_type": "markdown",
   "id": "b512c8ef-1a57-45d0-bf20-a984ce115f1b",
   "metadata": {},
   "source": [
    "$$\n",
    "L(\\beta) = MSE + \\lambda\\cdot \\|\\beta\\|_2^2 =  \\frac{1}{N}\\sum_{i=1}^{N} \\left[y_i - x_i\\beta\\right]^2 + \\lambda\\cdot \\sum_{k=1}^{p}\\beta_k^2\n",
    "$$"
   ]
  },
  {
   "cell_type": "markdown",
   "id": "31ef4ee0-97f7-4720-92dc-d869b382c820",
   "metadata": {},
   "source": [
    "$\\lambda > 0$ 是惩罚系数，用于控制惩罚强度，当 $\\lambda = 0$ 时，Ridge 就是普通的线性回归，由于添加的惩罚项时系数的2-范数，因此又被称为**L2惩罚**"
   ]
  },
  {
   "cell_type": "markdown",
   "id": "99ead327-ebfd-48d2-bcdf-3d0cffc1a4aa",
   "metadata": {},
   "source": [
    "针对逻辑回归，L2惩罚依然适用，在负对数似然函数的基础上加上系数的2-范数即可"
   ]
  },
  {
   "cell_type": "markdown",
   "id": "51b194d6-b33a-4688-9272-721a8ee46384",
   "metadata": {},
   "source": [
    "很容易想象，改变 $\\lambda$，模型的性能会在过拟合和欠拟合之间变动：\n",
    "* 当 $\\lambda \\to 0$ 时，$\\lambda \\cdot \\|\\beta\\|_2^2$ 对模型的惩罚小，模型容易在训练集上过拟合\n",
    "* 当 $\\lambda \\to \\infty$时，为了最小化损失函数，极端一些，所有系数都设置为 0，$\\lambda \\cdot \\|\\beta\\|_2^2$ 就不会再惩罚模型，损失仅来自前一部分的数据拟合误差，而这一部分误差与 $\\lambda$ 无关是有上限的，此时模型严重欠拟合（因为完全失去了拟合能力）"
   ]
  },
  {
   "cell_type": "markdown",
   "id": "3042382b-aa56-4bdd-be56-0ba408414101",
   "metadata": {},
   "source": [
    "下图展示了，一个 $\\beta \\in \\mathbb{R}^8$ 的模型的系数是如何随着 $\\lambda$ 的增大，**逐步被惩罚到 0 的**"
   ]
  },
  {
   "cell_type": "markdown",
   "id": "55fac09b-68f7-47a3-94f6-781cad16a10a",
   "metadata": {},
   "source": [
    "<img src=\"./source/Chap2/ridge.png\" style=\"width: 600px\" align=\"left\"/>"
   ]
  },
  {
   "cell_type": "markdown",
   "id": "dceddab4-6af2-4019-9989-df010753b4e7",
   "metadata": {
    "tags": []
   },
   "source": [
    "此外，**L2惩罚是一种“光滑”惩罚，或软惩罚**，这里所说的光滑性体现在：\n",
    "* 加入L2惩罚的经验损失函数依然能够对参数 $\\beta$ 求导\n",
    "* 从上图观察到，随着 $\\lambda$ 增大，系数 $\\beta$ 的**各个分量是同时渐渐顺滑的衰减**到 0 的，**这和 Lasso 有很大不同**"
   ]
  },
  {
   "cell_type": "markdown",
   "id": "699cafd2-5e27-45e3-8ed4-56b423699ed8",
   "metadata": {},
   "source": [
    "**Ridge方法同样在`sklearn`中有成熟的实现**，使用方法如下："
   ]
  },
  {
   "cell_type": "markdown",
   "id": "aea91792-820a-4828-940c-4ec3da095ccd",
   "metadata": {},
   "source": [
    "```python\n",
    "from sklearn.linear_model import Ridge\n",
    "\n",
    "# 建立模型\n",
    "model = Ridge(alpha=1) # 设置惩罚系数\n",
    "# 训练模型\n",
    "model.fit(X_train,y_train)\n",
    "# 进行预测\n",
    "y_hat = model.predict(X_test)\n",
    "```"
   ]
  },
  {
   "cell_type": "markdown",
   "id": "93255a6a-8bb8-4e72-a729-d8e7d00403ba",
   "metadata": {},
   "source": [
    "如果你**想在逻辑回归任务中使用 Ridge 方法**，指定**惩罚项（penalty）**为`l2`即可"
   ]
  },
  {
   "cell_type": "markdown",
   "id": "9dc2855a-c52c-4f0e-b042-3fe1f28b3e07",
   "metadata": {},
   "source": [
    "```python\n",
    "from sklearn.linear_model import LogisticRegression\n",
    "\n",
    "# 建立模型\n",
    "model = LogisticRegression(penalty='l2',C=1.0) # 指定使用 L2 惩罚，设置惩罚系数 C，这里 C = 1 / lambda\n",
    "# 训练模型\n",
    "model.fit(X_train,y_train)\n",
    "# 进行预测\n",
    "y_hat = model.predict(X_test)\n",
    "```"
   ]
  },
  {
   "cell_type": "markdown",
   "id": "4a6ca57b-b2fe-462f-b19d-eb6b9dbe2e5b",
   "metadata": {},
   "source": [
    "### **3.2 Lasso**"
   ]
  },
  {
   "cell_type": "markdown",
   "id": "f9cdc6a7-9fba-4bcd-9dd8-5cf10ccdac17",
   "metadata": {},
   "source": [
    "Lasso 同样在经验损失中加入对系数的惩罚，不过这次加入的是系数的**1-范数**:"
   ]
  },
  {
   "cell_type": "markdown",
   "id": "d3227193-0626-47fe-8759-282f12818570",
   "metadata": {},
   "source": [
    "$$\n",
    "L(\\beta) = MSE + \\lambda\\cdot \\|\\beta\\|_1= \\frac{1}{N}\\sum_{i=1}^{N} \\left[y_i - x_i\\beta\\right]^2 + \\lambda\\cdot \\sum_{k=1}^{p}|\\beta_k|\n",
    "$$"
   ]
  },
  {
   "cell_type": "markdown",
   "id": "8cac3b5f-a611-46f5-856c-a0aa406bf847",
   "metadata": {},
   "source": [
    "$\\lambda > 0$ 是惩罚系数，用于控制惩罚强度，当 $\\lambda = 0$ 时，Ridge 就是普通的线性回归，由于添加的惩罚项时系数的1-范数，因此又被称为**L1惩罚**"
   ]
  },
  {
   "cell_type": "markdown",
   "id": "45db66b8-2ab3-4e33-97ff-e95a2300cc49",
   "metadata": {},
   "source": [
    "针对逻辑回归，L1惩罚依然适用，在负对数似然函数的基础上加上系数的1-范数即可"
   ]
  },
  {
   "cell_type": "markdown",
   "id": "c06502bb-a856-45bd-9d5f-6a808c2c7ef7",
   "metadata": {},
   "source": [
    "**Lasso 惩罚与 Ridge 的相同点**在于，当 $\\lambda \\to 0$ 时，惩罚力度小，模型接近一般的线性回归，容易在训练集上**过拟合**；当 $\\lambda \\to\\infty$ 时，惩罚力度大，**模型复杂度降低，直至所有系数被惩罚到 0**"
   ]
  },
  {
   "cell_type": "markdown",
   "id": "9f2e609f-3838-4a00-9077-a276da4c1f35",
   "metadata": {},
   "source": [
    "但 Lasso 与 Ridge 在系数惩罚的衰减特性上，有很大的不同，Lasso 进行的是**稀疏惩罚**。对于同一个 $\\beta\\in\\mathbb{R}^8$ 的问题，Lasso 估计的系数随着 $\\lambda$ 变化的规律如下图："
   ]
  },
  {
   "cell_type": "markdown",
   "id": "7a280540-9fc8-465a-8d66-1b27eae59265",
   "metadata": {},
   "source": [
    "<img src=\"./source/Chap2/lasso.png\" style=\"width: 600px\" align=\"left\"/>"
   ]
  },
  {
   "cell_type": "markdown",
   "id": "a5427f90-1b64-4924-9be7-f6f3b3b3e312",
   "metadata": {},
   "source": [
    "从图中，我们可以观察到，**随着 $\\lambda$ 增大，系数 $\\beta$ 的每个分量，被一个一个惩罚到 0**，这就是我们所说的**稀疏性惩罚**，而 **RIdge 没有这个特性**，它仅在 $\\lambda \\to \\infty$ 时，所有系数同时衰减到 0"
   ]
  },
  {
   "cell_type": "markdown",
   "id": "f17a84a7-8117-4e03-8085-78054cd7b489",
   "metadata": {},
   "source": [
    "**L1惩罚作为\"稀疏\"惩罚，或硬惩罚**，有以下性质：\n",
    "* 系数被逐个惩罚到 0，因此当为模型选定某个 $\\lambda$ 时，只有部分系数不为 0，这就是所谓的**稀疏性**\n",
    "* 从惩罚路径图可以看到，$\\beta$ 各个分量的变化是**分段线性的**，而 Ridge 惩罚的路径是光滑的\n",
    "* **L1惩罚在加入损失函数后，损失函数对参数无法求导**，此时想要求解优化模型，可以考虑**次梯度**以及**坐标下降法**等更复杂的优化方法\n",
    "* **稀疏性产生的本质原因，是因为L1范数作为系数的函数，是奇异的**，这里的**奇异性指存在不可导的点**，Lasso 不是唯一会产生稀疏解的模型（例如**SCAD**）"
   ]
  },
  {
   "cell_type": "markdown",
   "id": "4db0a32e-5a9a-47bb-8426-fb60cf2b60e3",
   "metadata": {},
   "source": [
    "**Lasso方法同样在`sklearn`中有成熟的实现**，使用方法如下："
   ]
  },
  {
   "cell_type": "markdown",
   "id": "9fd362d7-b1cf-4644-960a-0d1f48afb1c5",
   "metadata": {},
   "source": [
    "```python\n",
    "from sklearn.linear_model import Lasso\n",
    "\n",
    "# 建立模型\n",
    "model = Lasso(alpha=1) # 设置惩罚系数\n",
    "# 训练模型\n",
    "model.fit(X_train,y_train)\n",
    "# 进行预测\n",
    "y_hat = model.predict(X_test)\n",
    "```"
   ]
  },
  {
   "cell_type": "markdown",
   "id": "187e87fa-b537-486e-897e-0fd1b395b5e7",
   "metadata": {},
   "source": [
    "如果你**想在逻辑回归任务中使用 Lasso 方法**，指定**惩罚项（penalty）**为`l1`，并**挑选一个支持L1惩罚的优化器**"
   ]
  },
  {
   "cell_type": "markdown",
   "id": "9ede63dd-3750-40c9-bd40-3900b854ed32",
   "metadata": {},
   "source": [
    "```python\n",
    "from sklearn.linear_model import LogisticRegression\n",
    "\n",
    "# 建立模型\n",
    "# 记得指定优化器，这里可以使用 'liblinear' 或者 'saga'\n",
    "model = LogisticRegression(penalty='l1',C=1.0,solver='liblinear') # 指定使用 L2 惩罚，设置惩罚系数 C，这里 C = 1 / lambda\n",
    "# 训练模型\n",
    "model.fit(X_train,y_train)\n",
    "# 进行预测\n",
    "y_hat = model.predict(X_test)\n",
    "```"
   ]
  },
  {
   "cell_type": "markdown",
   "id": "252bbe72-18b4-429e-a89b-a374da0999e5",
   "metadata": {},
   "source": [
    "### **3.3 Ridge 和 Lasso 对比**"
   ]
  },
  {
   "cell_type": "markdown",
   "id": "5266170d-f78f-41ec-a7ca-4edde4402e81",
   "metadata": {},
   "source": [
    "我们还能再进一步讨论**L1惩罚**和**L2惩罚**的区别，以及我们该如何做选择"
   ]
  },
  {
   "cell_type": "markdown",
   "id": "a620a0af-20c7-4210-ac7d-5d7e2272a664",
   "metadata": {},
   "source": [
    "在优化相关的课程中，可以证明以下两个优化问题等价："
   ]
  },
  {
   "cell_type": "markdown",
   "id": "a17669bc-011e-4678-a84e-a2fb281ec1eb",
   "metadata": {},
   "source": [
    "$$\n",
    "\\min {\\sum_{i=1}^{N} \\left[y_i - x_i\\beta\\right]^2 + \\lambda\\cdot \\sum_{j=1}^{p} |\\beta_j|^q} \\quad\\Leftrightarrow\\quad \\exists C>0,\\quad \\min {\\sum_{i=1}^{N} \\left[y_i - x_i\\beta\\right]^2} \\quad\\text{s.t.}\\quad \\sum_{j=1}^{p} |\\beta_j|^q\\leq C\n",
    "$$"
   ]
  },
  {
   "cell_type": "markdown",
   "id": "a56cad17-72af-4e62-a3c0-ac866ed14da1",
   "metadata": {},
   "source": [
    "那么**L1惩罚**和**L2惩罚**对应的优化问题可以写作："
   ]
  },
  {
   "cell_type": "markdown",
   "id": "56e1089e-25e8-44a6-8017-472dfa4b54e6",
   "metadata": {},
   "source": [
    "$$\n",
    "\\text{L1: }\\quad \\min {\\sum_{i=1}^{N} \\left[y_i - x_i\\beta\\right]^2} \\quad\\text{s.t.}\\quad \\sum_{j=1}^{p} |\\beta_j|\\leq C \\\\\n",
    "\\text{L2: }\\quad \\min {\\sum_{i=1}^{N} \\left[y_i - x_i\\beta\\right]^2} \\quad\\text{s.t.}\\quad \\sum_{j=1}^{p} \\beta_j^2\\leq C \\\\\n",
    "$$"
   ]
  },
  {
   "cell_type": "markdown",
   "id": "74571b40-ae27-445f-a7df-0f85cb9ab060",
   "metadata": {},
   "source": [
    "这时候，一个**最经典的图来**描述**L1惩罚**和**L2惩罚**的区别如下图："
   ]
  },
  {
   "cell_type": "markdown",
   "id": "b86635ee-fb2d-4341-b77e-7aecb18c36b6",
   "metadata": {},
   "source": [
    "<img src=\"./source/Chap2/L1L2对比.png\" style=\"width: 800px\" align=\"left\"/>"
   ]
  },
  {
   "cell_type": "markdown",
   "id": "4ba34e6f-755c-42be-915f-0795996da986",
   "metadata": {},
   "source": [
    "左边的场景代表L1惩罚，右边的图代表L2惩罚，如何解读上面的图呢？\n",
    "* 两张图右上部分的同心椭圆环代表等价问题中的优化目标等值线图，在这里就是均方误差：\n",
    "$$ \\sum_{i=1}^{N} \\left[y_i - x_i\\beta\\right]^2 $$\n",
    "* $\\hat{\\beta}$ 代表优化目标的极值点，即我们的目标所求，如果是均方误差，则 $\\hat{\\beta} = (X^TX)^{-1}X^Ty$\n",
    "* 蓝色区域代表了优化问题中的约束，**L1的绝对值函数对应正方形，L2的平方函数对应圆形**\n",
    "$$ \\text{L1: }\\quad\\sum_{j=1}^{p} |\\beta_j| \\leq C\\quad\\quad  \\text{L2: }\\quad\\sum_{j=1}^{p} \\beta_j^2 \\leq C$$\n",
    "* 上面提到的等价优化问题，需要在蓝色区域内，找到距离 $\\hat{\\beta}$ 最近的点\n",
    "* 对 **L2 惩罚**，**优化目标等值线与圆周上任何一点接触的概率相等**，此时**产生稀疏解（即落到圆周与坐标轴交点）的概率为0**\n",
    "* 对 **L1 惩罚**，**优化目标等值线大概率会与正方形与坐标轴的交点接触**(或者反过来，可以说明**等值线与正方形四边先接触的概率零测**)，此时就产生了**稀疏解**"
   ]
  },
  {
   "cell_type": "markdown",
   "id": "e272974a-b8ee-4a4b-8c5d-b9ac9f29a8fe",
   "metadata": {},
   "source": [
    "还有另一种解释**L1惩罚**和**L2惩罚**区别的方法，是从参数 $\\beta$ 的先验分布出发：\n",
    "* **L2惩罚** 假设 $\\beta$ 的先验分布是 **Gauss 分布**\n",
    "* **L1惩罚** 假设 $\\beta$ 的先验分布是 **Laplace 分布**，从而产生了稀疏解"
   ]
  },
  {
   "cell_type": "markdown",
   "id": "759a2065-b8af-46c6-94c5-2cdf33d72971",
   "metadata": {},
   "source": [
    "更多相关的讨论，可以查阅相关的文献和资料，我们**在实践中更关心的问题是，该如何选择使用哪一种惩罚方法呢？**"
   ]
  },
  {
   "cell_type": "markdown",
   "id": "744cf83b-f733-4a68-b227-a4adc1ecec18",
   "metadata": {},
   "source": [
    "该问题没有标准答案，需要根据实际问题分析，但总体可以总结为下面两条：\n",
    "* 如果**希望所有特征都参与建模预测**，让每个特征都发挥作用，或者有**先验知识知道每个特征都是有效的（informative）**，又或者**特征维度** $p$ **不太大**，样本量 $N$ 充足时，可以优先考虑**L2惩罚**\n",
    "* 如果**特征维度** $p$ **较大**，且**缺乏对哪些特征是有效的先验知识时**，优先考虑**L1惩罚**，L1惩罚得到的稀疏系数，还能帮助我们做**特征筛选**"
   ]
  },
  {
   "cell_type": "markdown",
   "id": "7d8b32f2-fbaf-4a48-93de-f0d21a7ed687",
   "metadata": {},
   "source": [
    "当然，还有另外一种选择，全都要！我们可以**在损失函数中同时加入L1惩罚和L2惩罚**，这就得到了**弹性网络（ElasticNet）**"
   ]
  },
  {
   "cell_type": "markdown",
   "id": "55efc9cb-e080-4b9d-a892-847c3d20d6dd",
   "metadata": {},
   "source": [
    "$$\n",
    "L(\\beta) = MSE + \\lambda_1\\cdot \\|\\beta\\|_1 + \\lambda_2\\cdot \\|\\beta\\|_2^2 = \\frac{1}{N}\\sum_{i=1}^{N} \\left[y_i - x_i\\beta\\right]^2 + \\lambda_1\\cdot \\sum_{k=1}^{p}|\\beta_k|\\cdot \\lambda_2\\cdot \\sum_{k=1}^{p} \\beta_k^2\n",
    "$$"
   ]
  },
  {
   "cell_type": "markdown",
   "id": "db13bdc7-5dc0-426f-9c3f-3a86052ac5ed",
   "metadata": {},
   "source": [
    "**`sklearn`中已经有了很好的实现，直接使用即可**"
   ]
  },
  {
   "cell_type": "markdown",
   "id": "30150370-9b3d-4339-8095-8a6a49f0c1de",
   "metadata": {},
   "source": [
    "```python\n",
    "from sklean.linear_model import ElasticNet\n",
    "```"
   ]
  },
  {
   "cell_type": "markdown",
   "id": "7ea643a2-78a4-4e27-bd77-f3f393775ec8",
   "metadata": {},
   "source": [
    "---"
   ]
  },
  {
   "cell_type": "markdown",
   "id": "ed5ca435-71dd-45d5-aa61-3390cce39226",
   "metadata": {},
   "source": [
    "## **练习**"
   ]
  },
  {
   "cell_type": "markdown",
   "id": "8f3b0ff9-034d-4297-84e1-6c34f17de066",
   "metadata": {},
   "source": [
    "1. 我们利用`make_classification()`函数来生成一组分类数据，在完成多分类任务的同时，理解L1和L2惩罚的区别"
   ]
  },
  {
   "cell_type": "markdown",
   "id": "4215d1e6-29ca-4a16-bd51-13b468b5dadf",
   "metadata": {},
   "source": [
    "(1) 用`make_classification()`生成一组样本 $X,y$，参数设置如下：\n",
    "* 样本量：n_samples = 200\n",
    "* 特征数量：n_features = 6\n",
    "* 有效特征数量：n_informative = 2\n",
    "* 冗余特征数量：n_redundant = 0\n",
    "* 重复特征数量：n_repeated = 0\n",
    "* 类别数量：n_classes = 4\n",
    "* 每个类别的聚集数量：n_clusters_per_class = 1\n",
    "* 类别之间间隔：class_sep = 1.5\n",
    "* 随机数种子：random_state = 4321"
   ]
  },
  {
   "cell_type": "markdown",
   "id": "926e145e-68ac-4327-8360-04b3852f7c03",
   "metadata": {},
   "source": [
    "(2) 用`train_test_split()`函数将样本随机切分为训练集`(X_train,y_train)`和测试集`(X_test,y_test)`，测试集比例为40%"
   ]
  },
  {
   "cell_type": "markdown",
   "id": "79daafff-0047-4a7d-9dff-266beb0889bb",
   "metadata": {},
   "source": [
    "(3) 由于特征维度 $p=6$ 大于 $2$，因此我们无法直接可视化数据，下面的函数`plot_classes()`能通过投影的方式，将数据可视化到两两坐标轴上，将`(X_train,y_train)`作为参数传入进行可视化"
   ]
  },
  {
   "cell_type": "markdown",
   "id": "260e1edf-7a5a-4b50-8212-ac452a8a4586",
   "metadata": {},
   "source": [
    "根据可视化的结果，你能判断**哪两个特征是数据生成时的有效特征(imformative)吗？**"
   ]
  },
  {
   "cell_type": "code",
   "execution_count": 63,
   "id": "2124a188-4c8b-4a92-82c7-57eefa543c29",
   "metadata": {},
   "outputs": [],
   "source": [
    "def plot_classes(X : np.ndarray, y : np.ndarray):\n",
    "    \"\"\"\n",
    "    利用投影，将分类数据集可视化到两两坐标轴上\n",
    "    \n",
    "    Parameters\n",
    "    ----------\n",
    "    X : np.ndarray\n",
    "        输入数据，即特征，维度`(N,p)`\n",
    "    y : np.ndarray\n",
    "        真实标签，即预测值，离散变量`{0,1,...,K}`，维度`(N,)`\n",
    "    \"\"\"\n",
    "    fig, ax = plt.subplots(3,5,figsize=(20,12),dpi=80)\n",
    "    ax = ax.flatten()\n",
    "    loc = 0\n",
    "    colors = [\"royalblue\",\"tomato\",\"limegreen\",\"magenta\"]\n",
    "    for i in range(6):\n",
    "        for j in range(i+1,6):\n",
    "            for k in range(4):\n",
    "                ax[loc].scatter(X[y == k,i],X[y == k,j],c=colors[k],label=k)\n",
    "                ax[loc].set_xlabel(\"$X_%s$\"%(i+1),fontsize=14)\n",
    "                ax[loc].set_ylabel(\"$X_%s$\"%(j+1),fontsize=14)\n",
    "            loc += 1\n",
    "    plt.tight_layout()"
   ]
  },
  {
   "cell_type": "markdown",
   "id": "94ff58d5-404d-4632-b7ce-3855bf368805",
   "metadata": {},
   "source": [
    "(4) 使用`sklearn`中的`LogisticRegression()`方法，分别设置`penalty`参数对模型进行L1和L2惩罚，惩罚系数 $C$ 以 $0.02$ 为间隔，从 $2$ 减小到 $0.02$，绘制6个特征对应的回归系数 $\\beta_1,\\cdots,\\beta_6$ 随着 $C$ 的变化趋势"
   ]
  },
  {
   "cell_type": "markdown",
   "id": "81197555-6fcd-447e-a237-c35045b03181",
   "metadata": {},
   "source": [
    "* 观察L1惩罚和L2惩罚的异同\n",
    "* 哪个惩罚更适合做特征筛选？\n",
    "* 根据系数变化曲线，筛选得到的两个特征和在**滴3问**中你的观察结果一致吗？\n",
    "* 比较L1惩罚和L2惩罚在测试集上的准确率"
   ]
  },
  {
   "cell_type": "markdown",
   "id": "9b360b6c-2eaf-4233-9ee2-f864c007488a",
   "metadata": {},
   "source": [
    "(5) 如果你感兴趣，可以尝试在生成数据时，保持其他参数不变，特征数量`n_features`改为50，此时再使用L1和L2惩罚，对比它们在测试集上的准确率，你会得到什么结论？"
   ]
  },
  {
   "cell_type": "markdown",
   "id": "1539a359-db15-4c6f-94cd-4dd6dc6570d3",
   "metadata": {},
   "source": [
    "2. 我们来使用逻辑回归算法实现**数字识别**"
   ]
  },
  {
   "cell_type": "markdown",
   "id": "c53a5425-fefc-4f2f-9dd2-6b04d15a9620",
   "metadata": {},
   "source": [
    "(1) 利用`keras`中的模块，导入**手写数字识别数据集**，代码如下"
   ]
  },
  {
   "cell_type": "code",
   "execution_count": null,
   "id": "15abb0e8-47b2-451c-83e6-3e489612ec07",
   "metadata": {},
   "outputs": [],
   "source": [
    "# 导入手写数字识别数据集\n",
    "(X_train, y_train), (X_test, y_test) = mnist.load_data()"
   ]
  },
  {
   "cell_type": "markdown",
   "id": "fd910550-e5eb-4ade-806a-ff8a79de563c",
   "metadata": {},
   "source": [
    "下面的代码能帮助你绘制前十个样本"
   ]
  },
  {
   "cell_type": "code",
   "execution_count": null,
   "id": "e9f96963-1cc1-406f-be57-e50667284cfc",
   "metadata": {},
   "outputs": [],
   "source": [
    "# 绘制前10个样本\n",
    "fig, ax = plt.subplots(2,5,figsize=(10,4),dpi=80)\n",
    "ax = ax.flatten()\n",
    "for i in range(10):\n",
    "    ax[i].imshow(X_train[i],cmap=plt.cm.Greys)\n",
    "    ax[i].set_title(\"Label: %d\"%(y_train[i]))\n",
    "plt.tight_layout()"
   ]
  },
  {
   "cell_type": "markdown",
   "id": "38d2dae7-67d9-49c2-8934-0880292c931a",
   "metadata": {},
   "source": [
    "(2) 为了输入符合要求，我们需要对输入的图像做变换：\n",
    "* 由于图片的像素值处于 $[0,255]$ 之间，请将值变换到区间 $[0,1]$ 范围之内\n",
    "* 图片输入是一个二维矩阵，逻辑回归不支持直接以矩阵特征，可使用`np.reshape()`方法，将矩阵“拉直”为向量"
   ]
  },
  {
   "cell_type": "markdown",
   "id": "e413e39d-adea-40ca-8254-f4a6a1381fa4",
   "metadata": {},
   "source": [
    "(3) 训练逻辑回归模型，汇报它在训练集上和测试集上的准确率，模型有出现过拟合吗？"
   ]
  },
  {
   "cell_type": "markdown",
   "id": "19285826-d92d-4bbd-a945-9ebcc4a4b263",
   "metadata": {},
   "source": [
    "(4) 绘制模型在测试集上的混淆矩阵，模型最容易把哪个数字识别错？"
   ]
  },
  {
   "cell_type": "markdown",
   "id": "95da3550-51f0-4bbc-98f4-567d17b62bd1",
   "metadata": {},
   "source": [
    "----"
   ]
  }
 ],
 "metadata": {
  "kernelspec": {
   "display_name": "dev",
   "language": "python",
   "name": "dev"
  },
  "language_info": {
   "codemirror_mode": {
    "name": "ipython",
    "version": 3
   },
   "file_extension": ".py",
   "mimetype": "text/x-python",
   "name": "python",
   "nbconvert_exporter": "python",
   "pygments_lexer": "ipython3",
   "version": "3.9.12"
  }
 },
 "nbformat": 4,
 "nbformat_minor": 5
}
