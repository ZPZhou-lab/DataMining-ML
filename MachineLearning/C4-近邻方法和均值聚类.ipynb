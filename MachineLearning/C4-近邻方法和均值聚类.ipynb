{
 "cells": [
  {
   "cell_type": "markdown",
   "id": "b673b321-4f5b-4c5b-9783-9c0c6240bd34",
   "metadata": {
    "slideshow": {
     "slide_type": "slide"
    }
   },
   "source": [
    "# **Chap 4：近邻方法和均值聚类**"
   ]
  },
  {
   "cell_type": "code",
   "execution_count": 1,
   "id": "d1ccee03-72bc-413e-b145-4cb197138f91",
   "metadata": {},
   "outputs": [
    {
     "name": "stderr",
     "output_type": "stream",
     "text": [
      "/home/admin/software/miniconda3/envs/dev/lib/python3.9/site-packages/scipy/__init__.py:146: UserWarning: A NumPy version >=1.16.5 and <1.23.0 is required for this version of SciPy (detected version 1.23.1\n",
      "  warnings.warn(f\"A NumPy version >={np_minversion} and <{np_maxversion}\"\n"
     ]
    }
   ],
   "source": [
    "import numpy as np\n",
    "from matplotlib import pyplot as plt\n",
    "import seaborn as sns\n",
    "from sklearn.neighbors import KNeighborsClassifier, KNeighborsRegressor, KDTree\n",
    "from sklearn.cluster import KMeans\n",
    "from sklearn.datasets import make_regression, make_moons, make_blobs\n",
    "from sklearn.metrics import accuracy_score, mean_squared_error\n",
    "from sklearn.model_selection import train_test_split\n",
    "import time\n",
    "from IPython import display"
   ]
  },
  {
   "cell_type": "markdown",
   "id": "5b5ece01-a43c-441f-84a2-048805e5d93e",
   "metadata": {},
   "source": [
    "本章，我们价绍两种基于**近邻**和**距离度量**思想的最经典的机器学习方法，**K近邻方法**（又称为**K-NN**）和**K均值方法**（又称为**K-Means**）\n",
    "* **KNN**能够用于解决**有监督**的**分类**和**回归**问题\n",
    "* **K-Means**用于解决**无监督**的聚类问题"
   ]
  },
  {
   "cell_type": "markdown",
   "id": "56dd9842-c52e-41a9-9947-37efdd2556df",
   "metadata": {
    "slideshow": {
     "slide_type": "slide"
    }
   },
   "source": [
    "## **1 KNN：K近邻方法**"
   ]
  },
  {
   "cell_type": "markdown",
   "id": "31556677-9d6c-4b72-821b-7b0f37b51693",
   "metadata": {},
   "source": [
    "**K-NN** 方法是一种基本的分类与回归方法，它以实例的特征向量 $X_0\\in \\mathbb{R}^p$ 为输入，然后寻找他在经验数据集 $T$ 中**最近**的 $k$ 个**邻居**，然后使用**一定规则**进行预测，例如：\n",
    "* 对于分类问题，利用**多数表决**的方案完成分类\n",
    "* 对于回归问题，利用**平均值**完成预测"
   ]
  },
  {
   "cell_type": "markdown",
   "id": "816c9c85-ee3e-4b7a-9e68-f51d5ca677e8",
   "metadata": {},
   "source": [
    "因此，**K-NN** 模型与大多数机器学习模型不同，除了超参数邻居个数 $k$ 外，它**没有模型参数**，因此**不具备显式的学习过程**，K-NN 实际上是**利用训练集对特征向量空间进行划分**，并将划分得到的“规则”作为“”模型“”"
   ]
  },
  {
   "cell_type": "markdown",
   "id": "9f1ea02c-397c-4a40-8772-4864a45ae535",
   "metadata": {
    "slideshow": {
     "slide_type": "subslide"
    }
   },
   "source": [
    "对K-NN模型而言，有三个基本的核心要素：\n",
    "* 特征空间中**距离度量的方式**，用于确定邻居\n",
    "* 决策规则，不同决策规则对应于所考虑的损失函数\n",
    "* $k$ 值的选择"
   ]
  },
  {
   "cell_type": "markdown",
   "id": "9768a347-975c-4d46-8b88-207abd661ae4",
   "metadata": {},
   "source": [
    "与一般得机器学习模型得介绍方法不同，我们这次将按照**算法**，**模型**和**策略**得顺序介绍**K-NN**"
   ]
  },
  {
   "cell_type": "markdown",
   "id": "95828421-d9c7-43be-86dc-ba68584f44de",
   "metadata": {
    "slideshow": {
     "slide_type": "slide"
    }
   },
   "source": [
    "### **1.1 KNN算法**"
   ]
  },
  {
   "cell_type": "markdown",
   "id": "741cbc92-1f67-4d90-b874-e9f4e7b40660",
   "metadata": {},
   "source": [
    "K-NN算法简单，直观，给定一个训练数据集，对新的输入实例，在训练数据集中，找到与该实例最近的 $k$ 个实例，然后使用对应的决策规则完成预测"
   ]
  },
  {
   "cell_type": "markdown",
   "id": "2c58c05b-075e-4236-9b78-2466a4e40ff0",
   "metadata": {},
   "source": [
    "下面我们用数学语言较为严谨的表述KNN算法"
   ]
  },
  {
   "cell_type": "markdown",
   "id": "11e91c82-1ce3-4c2f-8f0c-94da98c4f2a7",
   "metadata": {},
   "source": [
    "假设我们拥有历史训练数据集 $T=\\{(x_1,y_1),\\cdots,(X_N,y_N)\\}$，其中，$x_i\\in\\mathbb{R}^p$ 为实例的特征向量，$y_i$ 是实例的标签，如果是分类问题，则 $y_i\\in\\{1,2,\\cdots,K\\}$ （离散空间），如果是回归问题，则 $y_i\\in \\mathbb{R}$（连续空间）"
   ]
  },
  {
   "cell_type": "markdown",
   "id": "dcc56f5b-899c-490c-94cc-d7fe6304591f",
   "metadata": {
    "slideshow": {
     "slide_type": "subslide"
    }
   },
   "source": [
    "给定测试实例 $x\\in\\mathbb{R}^p$，我们根据给定的**距离度量方式**，在训练集 $T$ 中找出与 $x$ 最邻近的 $k$ 个点，我们将涵盖这 $k$ 个点的 $x$ 的邻近集合记作 $N_k(x)$"
   ]
  },
  {
   "cell_type": "markdown",
   "id": "699ed954-f687-4b3d-b032-f3af6e452467",
   "metadata": {},
   "source": [
    "* 对于分类问题，假设损失函数为**0-1损失**，因此最优决策规则为**投票表决**，实例 $x$ 的预测类别 $\\hat{y}$ 为：\n",
    "$$\n",
    "\\hat{y} = \\mathop{\\arg\\max}\\limits_{k\\in\\{1,2,\\cdots,K\\}} \\sum_{x_i\\in N_k(x)} \\mathbb{I}(y_i=k)\n",
    "$$\n",
    "* 对于回归问题，假设损失函数为**平方误差**，因此最优决策规则为**均值预测**，实例 $x$ 的回归预测 $\\hat{y}$ 为：\n",
    "$$\n",
    "\\hat{y} = \\frac{1}{k} \\sum_{x_i\\in N_k(x)} y_i\n",
    "$$"
   ]
  },
  {
   "cell_type": "markdown",
   "id": "0c517b03-dd08-4500-a750-1c9a066e5667",
   "metadata": {
    "slideshow": {
     "slide_type": "subslide"
    }
   },
   "source": [
    "KNN算法的特殊情况是 $k=1$ 时的情形，此时算法被称为**最邻近算法**，对于待预测的实例 $x$，它的所有预测结果完全取决于距离它最近的点"
   ]
  },
  {
   "cell_type": "markdown",
   "id": "12da9a5b-4bfe-4b80-8a45-3cb83894f692",
   "metadata": {},
   "source": [
    "从上面的介绍我们能看到，**KNN没有显式的学习过程**，但仍然有一些问题需要我们解决，例如**距离度量的选择**，**找到邻居后决策规则的选择**，$k$ **值的选择**"
   ]
  },
  {
   "cell_type": "markdown",
   "id": "c888123c-557a-4cc2-8961-033ff5a6babe",
   "metadata": {
    "slideshow": {
     "slide_type": "slide"
    }
   },
   "source": [
    "### **1.2 KNN模型**"
   ]
  },
  {
   "cell_type": "markdown",
   "id": "7a7b37e7-41c7-4b2a-aa7f-9c39e557258e",
   "metadata": {},
   "source": [
    "**KNN没有显式的模型结构**，例如回归方法中我们有 $y=f(x)=x\\beta$，或者朴素贝叶斯方法中，我们用一系列先验和似然的概率对样本的后验概率建模"
   ]
  },
  {
   "cell_type": "markdown",
   "id": "723d1aa2-9fa8-4b94-8fd3-ad62d7a25d13",
   "metadata": {},
   "source": [
    "回顾上一节中，我们提及到的**决策边界**的概念，在这里我们希望在之后的学习过程中能对模型的决策逻辑有更整体的认知，我们**将模型建立的过程**视为模型在**特征空间**中建立了**决策流形**"
   ]
  },
  {
   "cell_type": "markdown",
   "id": "e2f93f45-b4e5-4359-b181-ec3d3c83ef43",
   "metadata": {},
   "source": [
    "事实上，对于KNN方法，当给定训练集 $T$，距离度量的方法（例如欧式距离）和 $k$ 值，模型对特征空间的划分就已经完成了，即**决策流形**的结构已经建立，接下来只需要提供决策规则就可以得到预测函数"
   ]
  },
  {
   "cell_type": "markdown",
   "id": "5dc144fc-103f-4cb4-a4c7-3922fb294d3a",
   "metadata": {
    "slideshow": {
     "slide_type": "subslide"
    }
   },
   "source": [
    "下面的例子，我们以**分类问题**和**欧式距离**为背景进行讨论. 特征空间中，对每个训练实例点 $x_i$，距离该点比其他点更近的所有点组成一个区域，叫做**单元**（**cell**），每个训练实例点都有一个单元"
   ]
  },
  {
   "cell_type": "markdown",
   "id": "b5a11f4c-9b0d-4de1-b34d-caa586182e46",
   "metadata": {},
   "source": [
    "所有训练实例点的单元构成**对特征空间的一个划分**，而 $k=1$ 时的最邻近算法将 $x_i$ 的标签 $y_i$ 作为其单元中所有点的类别预测结果，这样每个单元中的实例点的类别是确定的，而KNN需要考虑多个单元的结果做出综合判断"
   ]
  },
  {
   "cell_type": "markdown",
   "id": "01425246-62fe-438b-9e44-85d0a8fd9b90",
   "metadata": {
    "slideshow": {
     "slide_type": "subslide"
    }
   },
   "source": [
    "下图展示了在**欧式距离**下，一组训练数据对二维特征空间划分得到的单元"
   ]
  },
  {
   "cell_type": "markdown",
   "id": "3e519b21-bb87-4c52-a905-d56474608003",
   "metadata": {},
   "source": [
    "<img src=\"./source/Chap4/特征空间中的单元.png\" style=\"width: 500px\" align=\"left\"/>"
   ]
  },
  {
   "cell_type": "markdown",
   "id": "a9a87106-84e6-4d6a-b8a9-4d827dfd10bb",
   "metadata": {
    "slideshow": {
     "slide_type": "subslide"
    }
   },
   "source": [
    "因此，KNN模型在**构造决策流形时依赖距离度量的方式**. 不同的距离度量方法，会得到不同的空间划分"
   ]
  },
  {
   "cell_type": "markdown",
   "id": "f6ee8e7b-c0de-43fb-bbd9-4541d16d2900",
   "metadata": {},
   "source": [
    "特征空间中两个实例点的距离是**两个实例点的相似程度的一种体现**，大多数情况下，我们可以认为**距离越近，那么两个实例点越相似**，它们对用的标签结果也应该尽可能接近"
   ]
  },
  {
   "cell_type": "markdown",
   "id": "434b9815-6bab-4836-9a79-42ac3c70362b",
   "metadata": {},
   "source": [
    "KNN模型的特征空间一般是 $\\mathbb{R}^p$，使用的距离是**欧氏距离**，但也可以是其他距离，如一般的 $L_p$ **距离**或者 **Minkowski距离**"
   ]
  },
  {
   "cell_type": "markdown",
   "id": "aa000828-2078-4d66-b75a-3f79e444d7ae",
   "metadata": {},
   "source": [
    "设特征空间为 $\\mathbb{R}^p$，$x_i,y_j\\in\\mathbb{R}^p$，即 $x_i=(x_i^{(1)},\\cdots,x_i^{(p)})$，$x_j=(x_j^{(1)},\\cdots,x_j^{(p)})$，则 $x_i,x_j$ 的 $L_p$ 距离定义为：\n",
    "$$\n",
    "L_p(x_i,x_j) = \\left( \\sum_{k=1}^{p} |x_i^{(k)} - x_j^{(k)}|^p \\right)^{\\frac{1}{p}}, \\quad p\\geq 1\n",
    "$$"
   ]
  },
  {
   "cell_type": "markdown",
   "id": "7ca54e4d-2c8b-482a-8baf-1269e5fffa3c",
   "metadata": {
    "slideshow": {
     "slide_type": "subslide"
    }
   },
   "source": [
    "三种比较特殊的距离：\n",
    "* $p=2$ 时，即我们熟知的**欧氏距离**\n",
    "* $p=1$ 时，称为**曼哈顿距离**，它是各个维度坐标绝对值差的和\n",
    "* $p=\\infty$ 时，$L_{\\infty}(x_i,x_j)=\\max_{k} |x_i^{(k)} - x_j^{(k)}|$，即各个维度坐标绝对值差的最大值"
   ]
  },
  {
   "cell_type": "markdown",
   "id": "2accf15c-6507-4724-84ef-d967c94cb277",
   "metadata": {},
   "source": [
    "在这里需要明确的有两点：\n",
    "* 度量的选择会影响最邻近的结果（见习题）\n",
    "* **默认情况下选择欧氏距离即可**，但如果有特殊的距离度量需求，则根据实际的场景和问题规划距离的计算方法"
   ]
  },
  {
   "cell_type": "markdown",
   "id": "8c892a4e-47ac-41df-949a-0aaf010dcde6",
   "metadata": {
    "slideshow": {
     "slide_type": "slide"
    }
   },
   "source": [
    "### **1.3 KNN策略**"
   ]
  },
  {
   "cell_type": "markdown",
   "id": "1ce5e0ea-a836-4bc0-94bb-d484988fb4f2",
   "metadata": {},
   "source": [
    "假设给定实例 $x$ 后的 $k$ 近邻 $N_k(x)$ 已经确定，下面我们来讨论**决策规则**，我们分别就**分类问题**和**回归问题**进行讨论"
   ]
  },
  {
   "cell_type": "markdown",
   "id": "7cb6f7e2-a934-4f1d-a403-f5b540569e27",
   "metadata": {},
   "source": [
    "**(1) 分类问题**"
   ]
  },
  {
   "cell_type": "markdown",
   "id": "92af68b8-121d-4734-a5cb-04685e750db9",
   "metadata": {},
   "source": [
    "假设分类问题所考虑的损失函数为**0-1损失**：\n",
    "$$\n",
    "L(y,\\hat{y}) = \\mathbb{I}(y\\ne \\hat{y})\n",
    "$$"
   ]
  },
  {
   "cell_type": "markdown",
   "id": "9010e154-0843-4dcf-97e6-00d8afe6b54c",
   "metadata": {},
   "source": [
    "模型得到的分类函数 $f$ 满足：\n",
    "$$\n",
    "f : \\mathbb{R}^p \\to \\{1,2,\\cdots,K\\}\n",
    "$$"
   ]
  },
  {
   "cell_type": "markdown",
   "id": "9a14ccf8-1e39-40d4-8ace-ba02c37b6635",
   "metadata": {},
   "source": [
    "则给定测试样本 $(x,y)$ 的**误分类概率**为：\n",
    "$$\n",
    "P\\left(y\\ne f(x)\\right) = 1 - P\\left(y = f(x)\\right)\n",
    "$$"
   ]
  },
  {
   "cell_type": "markdown",
   "id": "28142835-716a-4c34-8576-7f2f6904d4b7",
   "metadata": {
    "slideshow": {
     "slide_type": "subslide"
    }
   },
   "source": [
    "设实例 $x$ 的 $k$ 个最近邻为 $N_k(x)$，**假设区域** $N_k(x)$ **的类别被判定为** $j$，则误分类率为：\n",
    "$$\n",
    "\\frac{1}{k}\\sum_{x_i\\in N_k(x)} \\mathbb{I}(y_i\\ne j) = 1 - \\frac{1}{k}\\sum_{x_i \\in N_k(x)} \\mathbb{I}(y_i = j)\n",
    "$$"
   ]
  },
  {
   "cell_type": "markdown",
   "id": "eb930482-502a-40c6-bc24-1617ee54ca6f",
   "metadata": {},
   "source": [
    "要使得**误分类率最小**，即**最小化经验风险**，就要**最大化**：\n",
    "$$\n",
    "\\sum_{s_i\\in N_k(x)} \\mathbb{I}(y_i = j)\n",
    "$$"
   ]
  },
  {
   "cell_type": "markdown",
   "id": "fa6fc28e-5e65-4f1a-ac5c-eb665f9f6242",
   "metadata": {},
   "source": [
    "自然地，区域 $N_k(x)$ 的类别 $j$ 应该被标定为：\n",
    "$$\n",
    "j^* = \\mathop{\\arg\\max}\\limits_{k\\in \\{1,2,\\cdots,K\\}} \\sum_{x_i\\in N_k(x)} \\mathbb{I}(y_i = k)\n",
    "$$"
   ]
  },
  {
   "cell_type": "markdown",
   "id": "57b38ba4-626e-415b-8884-5b0532d64049",
   "metadata": {},
   "source": [
    "这就是在**0-1损失函数**下，最优决策规则是**多数表决**（或者叫做**投票法**，**众数法**）的原因"
   ]
  },
  {
   "cell_type": "markdown",
   "id": "83a0f640-0843-4683-9858-ff9f52ffa3a1",
   "metadata": {
    "slideshow": {
     "slide_type": "subslide"
    }
   },
   "source": [
    "**(2) 回归问题**"
   ]
  },
  {
   "cell_type": "markdown",
   "id": "efb96412-c81e-46c4-bc65-9e6dba22f89a",
   "metadata": {},
   "source": [
    "假设回归问题所考虑的损失函数为**平方损失**：\n",
    "$$\n",
    "L(y,\\hat{y}) = (y - \\hat{y})^2\n",
    "$$"
   ]
  },
  {
   "cell_type": "markdown",
   "id": "48c6e362-ae68-4324-b9fa-aedfc4f0c0e2",
   "metadata": {},
   "source": [
    "模型得到的预测函数 $f$ 满足：\n",
    "$$\n",
    "f : \\mathbb{R}^p \\to \\mathbb{R}\n",
    "$$"
   ]
  },
  {
   "cell_type": "markdown",
   "id": "55f9d942-61c3-4c09-a4c4-dfd75f06450a",
   "metadata": {},
   "source": [
    "则给定测试样本 $(x,y)$ 的**误差损失**为：\n",
    "$$\n",
    "L = \\left(y - f(x) \\right)^2\n",
    "$$"
   ]
  },
  {
   "cell_type": "markdown",
   "id": "22518996-eb86-42e7-bb1c-c1887793710a",
   "metadata": {
    "slideshow": {
     "slide_type": "subslide"
    }
   },
   "source": [
    "设实例 $x$ 的 $k$ 个最近邻为 $N_k(x)$，**假设测试实例** $(x,y)$ **和区域** $N_k(x)$ **中实例** $(x_i,y_i)$ **的分布相同**，**均为** $F$，则我们**结论上的最优预测** $f^*(x)$ 满足：\n",
    "$$\n",
    "f^*(x) = \\mathbb{E}_F(y) = \\mathop{\\arg\\min}\\limits_{\\theta\\in\\mathbb{R}} \\mathbb{E}_F\\left[(y - \\theta)^2\\right]\n",
    "$$"
   ]
  },
  {
   "cell_type": "markdown",
   "id": "2037f685-bbac-498e-b512-c6395ba74954",
   "metadata": {},
   "source": [
    "这是**Chap 1**习题中证明的内容，我们在这里简单的给出最直观的证明方法，注意到："
   ]
  },
  {
   "cell_type": "markdown",
   "id": "1b92cf05-8b88-4964-b33d-85fe095ab76a",
   "metadata": {},
   "source": [
    "$$\n",
    "\\mathbb{E}_F\\left[(y-\\theta)^2\\right] = \\mathbb{E}_F\\left[(y- \\mathbb{E}_F(y) + \\mathbb{E}_F(y) -  \\theta)^2\\right] = \\mathbb{E}_F\\left[(y- \\mathbb{E}_F(y))^2\\right]  + (\\mathbb{E}_F(y) -  \\theta)^2 \\geq \\mathbb{E}_F\\left[(y- \\mathbb{E}_F(y))^2\\right]\n",
    "$$"
   ]
  },
  {
   "cell_type": "markdown",
   "id": "b4b6d0e2-0c64-4b9b-bd91-4bdcd0799417",
   "metadata": {},
   "source": [
    "因此，对于任何 $\\theta \\ne \\mathbb{E}_F(y)$，**预测所带来的平方损失只会更大**"
   ]
  },
  {
   "cell_type": "markdown",
   "id": "13152329-2649-4a63-8e5a-9f09ec01f42f",
   "metadata": {},
   "source": [
    "从**经验损失**考虑，我们只能用**样本**来估计期望 $\\mathbb{E}_F(y)$，因此，实际的预测函数为：\n",
    "$$\n",
    "\\hat{y} = f^*(x)  = \\frac{1}{k} \\sum_{x_i\\in N_k(x)}y_i\n",
    "$$"
   ]
  },
  {
   "cell_type": "markdown",
   "id": "b7a2cc20-2174-4f81-aa0d-40617b1c7375",
   "metadata": {},
   "source": [
    "这就是在**平方损失**下，最优决策规则使用**平均值估计**的原因"
   ]
  },
  {
   "cell_type": "markdown",
   "id": "12074cca-ab49-41a3-a1ef-a3a30e2baf9b",
   "metadata": {
    "slideshow": {
     "slide_type": "slide"
    }
   },
   "source": [
    "### **1.4 考虑 $k$ 值选择**"
   ]
  },
  {
   "cell_type": "markdown",
   "id": "c427b911-33b6-40af-aabe-2613f0dd8b5c",
   "metadata": {},
   "source": [
    "事实上，在一般的KNN算法使用过程中，$k$ **值对模型预测性能的影响是最大的**"
   ]
  },
  {
   "cell_type": "markdown",
   "id": "eeb646fb-26ff-40a6-abce-a8008216d12f",
   "metadata": {},
   "source": [
    "如果选择一个较小的 $k$ 值，就相当于用较小的邻域中的训练实例逆行预测，“学习”的**近似误差**会减小，只有与输入实例较接近（相似的）实例才会对预测结果起作用，但此时“学习”的**泛化误差**，或者**估计误差**会增大，预测结果会对近邻 $N_k(x)$ 包含的实例点**非常敏感**. 设想，如果此时邻近点恰好都是**无效的噪声点**，则预测结果完全不可靠. 总结来说，$k$ **值减小就意味着模型整体变得复杂，容易发生过拟合**"
   ]
  },
  {
   "cell_type": "markdown",
   "id": "20c75f51-e250-4657-a7c0-3d3a6f861654",
   "metadata": {},
   "source": [
    "极端情况下，$k=1$ 的最近邻算法每次预测仅考虑单个样本提供的信息，如果准备期末考试只参考一套模拟卷的结果，效果往往不好"
   ]
  },
  {
   "cell_type": "markdown",
   "id": "ee69cccf-1495-4237-a64e-0e20ae6600f9",
   "metadata": {
    "slideshow": {
     "slide_type": "subslide"
    }
   },
   "source": [
    "如果选择一个较大的 $k$ 值，就相当于用较大的邻域中的训练实例进行预测，有点是可以减少“学习”的**估计误差**，但缺点是“学习”的**近似误差**会增大，因为参考了太多的样本. 此时与输入实例距离较远的点（不相似的）也都会对预测起作用，导致预测结果的不可靠. 总结来说，$k$ **值增大就意味着模型整体变得简单，容易导致欠拟合**"
   ]
  },
  {
   "cell_type": "markdown",
   "id": "6b8f6371-ae3f-4115-a1b4-52a132aee1bf",
   "metadata": {},
   "source": [
    "极端情况下，$k=N$ 的KNN算法表示对任何测试样例 $x$，预测结果都完全相同，模型过于简单，使用整个训练集 $T$ 的样本进行预测，这完全忽略了训练样本中的大量有用信息（相似度），是不可取的"
   ]
  },
  {
   "cell_type": "markdown",
   "id": "44619368-27c7-49be-a505-af911a1e45a8",
   "metadata": {
    "slideshow": {
     "slide_type": "subslide"
    }
   },
   "source": [
    "如果准备期末考试参考了历史所有的模拟卷导致复习没有针对性，效果同样不好"
   ]
  },
  {
   "cell_type": "markdown",
   "id": "2e065155-6e29-4b16-bcd2-066c0763a460",
   "metadata": {},
   "source": [
    "在实际使用中，$k$ 的取值不会太大，可以采用**交叉验证**法来选择最优的 $k$ 值"
   ]
  },
  {
   "cell_type": "markdown",
   "id": "77ce1d16",
   "metadata": {},
   "source": [
    "我们用一个实验来探究 $k$ 值变化对模型性能的影响，首先利用`sklearn`中的`make_moons()`函数构造300个样本，然后将 40% 切分留作测试集使用"
   ]
  },
  {
   "cell_type": "code",
   "execution_count": 2,
   "id": "13cd765c",
   "metadata": {
    "slideshow": {
     "slide_type": "subslide"
    }
   },
   "outputs": [
    {
     "data": {
      "text/plain": [
       "<matplotlib.legend.Legend at 0x7f047867b8b0>"
      ]
     },
     "execution_count": 2,
     "metadata": {},
     "output_type": "execute_result"
    },
    {
     "data": {
      "image/png": "[encoded data removed]",
      "text/plain": [
       "<Figure size 480x480 with 1 Axes>"
      ]
     },
     "metadata": {
      "needs_background": "light"
     },
     "output_type": "display_data"
    }
   ],
   "source": [
    "# 生成数据\n",
    "X,y = make_moons(n_samples=300,noise=0.4,random_state=2022)\n",
    "X_train, X_test, y_train, y_test = train_test_split(X,y,test_size=0.4,random_state=0)\n",
    "# 绘制数据\n",
    "fig = plt.figure(figsize=(6,6),dpi=80)\n",
    "colors = [\"blue\",\"red\"] # 设定两种类别的颜色\n",
    "for cls in [0,1]:\n",
    "    plt.scatter(X_train[y_train==cls,0],X_train[y_train==cls,1],c='None',edgecolors=colors[cls],label=\"Class %d Train\"%(cls))\n",
    "    plt.scatter(X_test[y_test==cls,0],X_test[y_test==cls,1],c=colors[cls],marker='+',alpha=0.5,label=\"Class %d Test\"%(cls))\n",
    "plt.xlabel(\"$X_1$\")\n",
    "plt.ylabel(\"$X_2$\")\n",
    "plt.title(\"Scatter Plot of Training and Testing Data\")\n",
    "plt.legend()"
   ]
  },
  {
   "cell_type": "markdown",
   "id": "86a26656",
   "metadata": {
    "slideshow": {
     "slide_type": "subslide"
    }
   },
   "source": [
    "我们利用`sklearn`中的`KNeighborsClassifier`方法来实现**KNN分类器**，然后设定不同的 $k$ 值，绘制模型在测试集上的准确率随着 $k$ 的变化情况"
   ]
  },
  {
   "cell_type": "code",
   "execution_count": 3,
   "id": "fea15d18",
   "metadata": {},
   "outputs": [],
   "source": [
    "acc_test = [] # 用一个列表存储准确率分数\n",
    "k_list = list(range(1,50)) # k 取 1, 2, ..., 50，用列表存储\n",
    "for k in k_list:\n",
    "    # 构建模型, 使用欧式距离，即 L2 距离\n",
    "    knn_model = KNeighborsClassifier(n_neighbors=k,p=2)\n",
    "    # 训练模型，完成空间划分\n",
    "    knn_model.fit(X_train,y_train)\n",
    "    # 在测试机上预测\n",
    "    y_pred = knn_model.predict(X_test)\n",
    "    # 计算正确率，并添加到列表中保存\n",
    "    acc_test.append(accuracy_score(y_test,y_pred))"
   ]
  },
  {
   "cell_type": "code",
   "execution_count": 4,
   "id": "492dea2d",
   "metadata": {
    "slideshow": {
     "slide_type": "subslide"
    }
   },
   "outputs": [
    {
     "data": {
      "text/plain": [
       "Text(0.5, 1.0, 'The Relationship between Accuracy and $k$ on Test Data')"
      ]
     },
     "execution_count": 4,
     "metadata": {},
     "output_type": "execute_result"
    },
    {
     "data": {
      "image/png": "[encoded data removed]",
      "text/plain": [
       "<Figure size 640x480 with 1 Axes>"
      ]
     },
     "metadata": {
      "needs_background": "light"
     },
     "output_type": "display_data"
    }
   ],
   "source": [
    "# 绘制准确率随 k 的变化情况\n",
    "fig = plt.figure(figsize=(8,6),dpi=80)\n",
    "plt.plot(k_list,acc_test,ls='--',c='blue')\n",
    "plt.text(0,0.80,\"Small $k$ leads to \\nhigh variance model.\\nThe model is overfitted.\",fontdict={\"color\": \"darkred\", \"fontsize\": 12})\n",
    "plt.text(32,0.84,\"Large $k$ leads to \\nhigh bias model.\\nThe model is underfitted.\",fontdict={\"color\": \"darkred\", \"fontsize\": 12})\n",
    "plt.xlabel(\"$k$\")\n",
    "plt.ylabel(\"Accuracy\")\n",
    "plt.title(\"The Relationship between Accuracy and $k$ on Test Data\")"
   ]
  },
  {
   "cell_type": "markdown",
   "id": "3ab2b0ff",
   "metadata": {
    "slideshow": {
     "slide_type": "subslide"
    }
   },
   "source": [
    "正如前面所讨论的那样，$k$ 代表了**KNN模型的复杂度**：\n",
    "* $k$ 越小，模型复杂度越高，**KNN容易过拟合**，从偏差-方差分解的角度，我们得到了一个**高方差**模型\n",
    "* $k$ 越大，模型复杂度越低，**KNN容易欠拟合**，从偏差-方差分解的角度，我们得到了一个**高偏差**模型"
   ]
  },
  {
   "cell_type": "markdown",
   "id": "fb934bde",
   "metadata": {},
   "source": [
    "一个合适的 $k$ 值能够帮助我们在测试集上取得不错的成绩，你还可以绘制出**训练集准确率与** $k$ **的关系曲线**进一步验证前面几节中我们讨论过的方差-偏差权衡问题，在不会绘制曲线前，你能猜想到曲线大致的趋势吗？"
   ]
  },
  {
   "cell_type": "markdown",
   "id": "453b2fdd",
   "metadata": {},
   "source": [
    "随着模型讨论的深入以及各种新方法的引入，我们会发现**方差-偏差权衡**或者说**过拟合和欠拟合的判别**是任何机器学习模型都绕不开的话题"
   ]
  },
  {
   "cell_type": "markdown",
   "id": "a3c795b3-d890-46d2-818f-2f4ec2191c19",
   "metadata": {
    "slideshow": {
     "slide_type": "slide"
    }
   },
   "source": [
    "### **1.5 kd树**"
   ]
  },
  {
   "cell_type": "markdown",
   "id": "2a7bb848-0154-4df1-94ea-3a827eec02dc",
   "metadata": {},
   "source": [
    "在这一节，我们介绍**如何快速找到** $k$ **个最近邻居的方法**，这一部分知识**不属于**机器学习知识的范畴，包含的知识主要是**算法和数据结构**，讨论的是关于**KNN的高效实现**问题"
   ]
  },
  {
   "cell_type": "markdown",
   "id": "102cfa1e",
   "metadata": {},
   "source": [
    "如果你只关注**KNN算法原理本身**，可以跳过这一部分内容，但如果你想更深入了解该算法的高效实现，以后也想和**算法**打交道，那么接下来的内容还是值得一看的"
   ]
  },
  {
   "cell_type": "markdown",
   "id": "fa8ebd29-94c5-4487-acfb-fdbb22fdeaed",
   "metadata": {},
   "source": [
    "实现KNN算法，主要考虑的问题是如何对训练数据进行快速的 $k$ 近邻搜索，这在特征空间维度 $p$ 较大以及训练数据的样本量 $N$ 较大时显得尤为重要"
   ]
  },
  {
   "cell_type": "markdown",
   "id": "7bea5994-8d73-42db-9a79-0eaa44d4054e",
   "metadata": {
    "slideshow": {
     "slide_type": "subslide"
    }
   },
   "source": [
    "假设计算一对样本之间的距离度量所需花费的时间是 $M(p)$，它和空间维度 $p$ 有关且 $M(p)$ 对 $p$ 单调递增$k$，近邻搜索的最简单的想法是**线性扫描**，即对于每个给定的测试实例 $x$，我们计算它和所有训练数据 $T$ 中每一个实例的距离，然后在其中找到最近的 $k$ 个，因此，**线性扫描方法**完成单个样本预测所需要的计算复杂度 $T$ 为：\n",
    "$$\n",
    "T = M(p)\\cdot N\n",
    "$$"
   ]
  },
  {
   "cell_type": "markdown",
   "id": "2127f0dd-110e-4024-bfa4-a7f59821efd4",
   "metadata": {},
   "source": [
    "可以看到，这在 $N$ 很大，$p$ 很大的时候，**计算非常耗时**，这种方法在实际操作中是不可行的"
   ]
  },
  {
   "cell_type": "markdown",
   "id": "ed228eff-611d-473c-ac07-e7a6bcf36072",
   "metadata": {},
   "source": [
    "并且上述计算复杂度也只是一个粗糙的估计，真实的复杂度还会比上式要大，因为我们还没有考虑\"从 $N$ 个距离度量中找到前 $k$ 小的距离\"所需要的计算量，实现该目标可以借助[**优先队列**](https://baike.baidu.com/item/%E4%BC%98%E5%85%88%E9%98%9F%E5%88%97/9354754?fr=aladdin)等其他数据结构，这里不做展开"
   ]
  },
  {
   "cell_type": "markdown",
   "id": "b48b8ff4-5a92-4a92-afdc-4b1b90b8574f",
   "metadata": {},
   "source": [
    "为了提高 $k$ 近邻搜索的效率，可以考虑**使用特殊的数据结构存储训练集**，以减少计算距离的次数，具体方法有很多，我们以**kd树**（**kd-tree**）为例进行介绍，kd树算法分为两个部分：**构造kd树**和**搜索kd树**"
   ]
  },
  {
   "cell_type": "markdown",
   "id": "e760b4e4",
   "metadata": {
    "slideshow": {
     "slide_type": "subslide"
    }
   },
   "source": [
    "#### **1.5.1 构造kd树**"
   ]
  },
  {
   "cell_type": "markdown",
   "id": "cdf2a1a6",
   "metadata": {},
   "source": [
    "kd树是一种对 $p$ 维空间中的实例点进行存储以便对其进行快速检索的**树形**数据结构. **kd树是二叉树**，表示对 $p$ 维空间的一个**划分**. **构造kd树相当于不断地用垂直于坐标轴的超平面将** $p$ **维空间切分**，构成一系列的 $p$ 维**超矩形区域**，kd树的**每个结点对应于一个** $p$ **维超矩形区域**"
   ]
  },
  {
   "cell_type": "markdown",
   "id": "c155d793",
   "metadata": {},
   "source": [
    "构造kd树的方法如下：首先构造**根结点**，使**根结点对应于** $p$ **维空间中包含所有实例点的超矩形区域**，然后通过下面的**递归方法**，不断地对 $p$ 维空间进行切分，生成子结点. \n",
    "* 在超矩形区域（**结点**）上选择一个**坐标轴**和在此坐标轴上的一个**切分点**，确定一个**超平面**（$p-1$ 维），这个**超平面通过选定的切分点并垂直于选定的坐标轴**\n",
    "* 将当前超矩形区域切分为**左右两个子区域**，对应得到**左右两个子结点**\n",
    "* 这时，实例点会被划分到两个子区域，这个过程**直到子区域内没有实例时停止**（终止时的结点为叶结点）  "
   ]
  },
  {
   "cell_type": "markdown",
   "id": "3caff690",
   "metadata": {
    "slideshow": {
     "slide_type": "subslide"
    }
   },
   "source": [
    "在上述的递归过程中，将实例保存在相应的结点上. 通常，**依次选择坐标轴对空间进行切分**，并选择**训练实例点**在**选定坐标轴**上的**中位数**作为**切分点**，这样做得到的kd树是**平衡的**，**平衡的kd树一定程度上保证了第二阶段搜索kd树的效率**，但**未必是最优的**，[**平衡二叉树AVL**](https://www.cnblogs.com/sench/p/7786718.html)是树形数据结构中很重要的一种，简单来说，它需要满足：\n",
    "* 左子树和右子树都是平衡二叉树\n",
    "* 左子树和右子树的深度（高度）之差的绝对值不超过1"
   ]
  },
  {
   "cell_type": "markdown",
   "id": "56ce3ebe",
   "metadata": {},
   "source": [
    "更多的讨论和细节请参考**数据结构和算法**有关知识，这里不能做过多展开"
   ]
  },
  {
   "cell_type": "markdown",
   "id": "f5c99eb1",
   "metadata": {
    "slideshow": {
     "slide_type": "subslide"
    }
   },
   "source": [
    "我们将**构造kd树**的算法流程用标准的语言表达如下："
   ]
  },
  {
   "cell_type": "markdown",
   "id": "d6fcf694",
   "metadata": {},
   "source": [
    "* **输入**：$p$ 维空间训练集 $T=\\{x_1,x_2,\\cdots,x_N\\}$，其中，$x_i = \\left(x_i^{(1)},\\cdots,x_i^{(p)}\\right)\\in\\mathbb{R}^p$\n",
    "* **输出**：一颗kd树\n",
    "* **算法流程**：\n",
    "  * (1) 构造树的根结点，根结点对应于包含整个 $T$ 的 $p$ 维空间的超矩形区域\n",
    "  * (2) 选择 $x^{(1)}$ （第一分量）为坐标轴，以 $T$ 中所有实例的 $x^{(1)}$ 坐标的中位数为切分点，将根结点对应的超矩形区域划分为两个子区域，切分由通过切分点并与坐标轴 $x^{(1)}$ 垂直的超平面实现\n",
    "  * (3) 由根结点生成深度为 $1$ 的左右子结点，左子结点对应坐标 $x^{(1)}$ 小于切分点的子区域，右子结点对应坐标 $x^{(1)}$ 大于切分点的子区域，将落在切分超平面上的实例保存在根结点上\n",
    "  * (4) **重复**：对深度为 $j$ 的结点，选择 $x^{(k)},\\quad k=j(\\mod k)+1$ 为切分的坐标轴，以该结点的区域中所有的实例的 $x^{(k)}$ 坐标的中位数为切分点，按照(1)~(3)步骤划分得到两个子区域，得到两个深度为 $j+1$ 的子结点\n",
    "  * **停止**：直到两个子区域没有实例存在（即不再需要切分）时停止，从而形成了kd树的区域划分"
   ]
  },
  {
   "cell_type": "markdown",
   "id": "ce303c20",
   "metadata": {
    "slideshow": {
     "slide_type": "subslide"
    }
   },
   "source": [
    "我们用一个例子来说明kd树的构造流程，假设我们有二维空间的训练集 $T$：\n",
    "$$\n",
    "T = \\{(2,3),(5,4),(9,6),(4,7),(8,1),(7,2)\\}\n",
    "$$"
   ]
  },
  {
   "cell_type": "markdown",
   "id": "1db0d090",
   "metadata": {},
   "source": [
    "则kd树构造后得到的空间划分如下图所示："
   ]
  },
  {
   "cell_type": "markdown",
   "id": "80dac0a2",
   "metadata": {},
   "source": [
    "<img src=\"./source/Chap4/kd树划分区域.png\" style=\"width: 500px\" align=\"left\"/>"
   ]
  },
  {
   "cell_type": "markdown",
   "id": "907008ba",
   "metadata": {
    "slideshow": {
     "slide_type": "subslide"
    }
   },
   "source": [
    "我们得到的kd树的结构如下图所示："
   ]
  },
  {
   "cell_type": "markdown",
   "id": "172448ee",
   "metadata": {},
   "source": [
    "<img src=\"./source/Chap4/kd树.png\" style=\"width: 500px\" align=\"left\"/>"
   ]
  },
  {
   "cell_type": "markdown",
   "id": "b5f60c7a",
   "metadata": {},
   "source": [
    "最后，我们指明，对于样本量为 $N$ 的训练集 $T$，**构造kd树所需要的计算复杂度为** $\\mathcal{O}(N\\log N)$"
   ]
  },
  {
   "cell_type": "markdown",
   "id": "7a4c8028",
   "metadata": {
    "slideshow": {
     "slide_type": "subslide"
    }
   },
   "source": [
    "#### **1.5.2 搜索kd树**"
   ]
  },
  {
   "cell_type": "markdown",
   "id": "3c085817",
   "metadata": {},
   "source": [
    "利用kd树对空间划分的结构，我们能够省去大部分数据点的搜索，从而减少 $k$ 近邻搜索的计算量，下面我们以**最近邻**为例叙述**搜索kd树**的算法过程，这非常容易扩展到 $k$ 近邻搜索，即 $k>1$ 的场合"
   ]
  },
  {
   "cell_type": "markdown",
   "id": "821607a5",
   "metadata": {},
   "source": [
    "给定一个测试样例 $x$，我们用下面的流程在kd树中搜索它的最近邻：\n",
    "* 首先，找到包含目标点 $x$ 的叶结点\n",
    "* 然后，从该结点出发，依次**递归**回归到每一层父结点，不断查找与目标点最近邻的结点\n",
    "  * **包含目标点** $x$ 的**叶结点**对应**包含目标点的最小超矩形区域**，以此叶结点的实例点作为当前的最近点，$x$ **的最近邻一定在以目标点为中心并通过当前最近点的超球体的内部**\n",
    "  * 然后返回当前结点的**父结点**，如果**父结点的另一个子节点的超矩形区域与超球体相交**，那么在相交的区域内寻找与 $x$ 更近的实例点，**如果这样的点存在，则将此点更新为当前的最近点**\n",
    "  * 算法**转到更上一级的父结点**，重复上述过程\n",
    "  * 如果**父结点的另一个子结点的超矩形区域与超球体不相交，或不存在比当前最近点更近的点**，则无需搜索"
   ]
  },
  {
   "cell_type": "markdown",
   "id": "b1d76d6c",
   "metadata": {
    "slideshow": {
     "slide_type": "subslide"
    }
   },
   "source": [
    "搜索被限定在空间的局部区域上进行，因此比较次数远小于线性扫描的 $N$ 次，效率大大提高"
   ]
  },
  {
   "cell_type": "markdown",
   "id": "ad684830",
   "metadata": {},
   "source": [
    "我们将**搜索kd树**的算法流程用标准的语言表达如下："
   ]
  },
  {
   "cell_type": "markdown",
   "id": "dab41e27",
   "metadata": {},
   "source": [
    "* **输入**：已经构造好的kd树，查询测试样例 $x$\n",
    "* **输出**：$x$ 的最近邻\n",
    "* **算法流程**：\n",
    "  * (1) 在kd树中找出包含 $x$ 的叶结点，从根节点出发，递归向下访问kd树，根据每个结点划分的坐标轴及切分点，可以决定应该向左还是向右递归，若目标点 $x$ 当前维的坐标小于切分点，则移动到左子结点，否则移动到右子结点，直到子结点为叶结点停止\n",
    "  * (2) 以该叶结点为“当前最近邻”\n",
    "  * (3) **递归地**向上回退，在每个结点进行如下操作\n",
    "    * (a) 如果该结点保存的实例点比当前最近邻更近，则以该实例点为新的“当前最近邻”\n",
    "    * (b) 当前最近邻一定存在于该结点一个子结点对应的区域，检查该子结点的父结点的另一子结点对应的区域是否有更近的点. 具体地，**检查另一个子结点对应的区域是否与以** $x$ **为球心**，**以** $x$ **和\"当前最近邻\"的距离为半径的超球体相交**\n",
    "      * 如果相交，可能在另一个子结点对应的区域内存在距离更近的点，移动到另一个子结点，接着，**递归执行最近邻搜索算法**\n",
    "      * 如果不相交，向上回退\n",
    "  * (4) 当**回归到根节点**时无法继续回退时，搜索结束，最后的“当前最近邻”即为 $x$ 的最近邻点"
   ]
  },
  {
   "cell_type": "markdown",
   "id": "71254df3",
   "metadata": {
    "slideshow": {
     "slide_type": "subslide"
    }
   },
   "source": [
    "我们接着刚才的例子，训练数据集 $T$ 依然是：\n",
    "$$\n",
    "T = \\{(2,3),(5,4),(9,6),(4,7),(8,1),(7,2)\\}\n",
    "$$"
   ]
  },
  {
   "cell_type": "markdown",
   "id": "3d2a6fa4",
   "metadata": {},
   "source": [
    "假设要搜索的点是 $x=(2,5)$，如下图所示"
   ]
  },
  {
   "cell_type": "markdown",
   "id": "ab69b1d7",
   "metadata": {},
   "source": [
    "<img src=\"./source/Chap4/搜索kd树.png\" style=\"width: 500px\" align=\"left\"/>"
   ]
  },
  {
   "cell_type": "markdown",
   "id": "2c34ae15",
   "metadata": {
    "slideshow": {
     "slide_type": "subslide"
    }
   },
   "source": [
    "一开始，我们可以判断 $x$ 落入叶结点 $(4,7)$ 所划定的超矩形区域，$(4,7)$ 也作为初始的\"当前最近邻\"，但很容易发现，真实的最近邻并不是 $(4,7)$，二十包含在以 $x$ 为圆心，$x$ 到 $(4,7)$ 的距离为半径的超球体范围内的另一个点 $(2,3)$"
   ]
  },
  {
   "cell_type": "markdown",
   "id": "a88e0c63",
   "metadata": {},
   "source": [
    "下图用kd树展示了整个搜索算法的执行过程，我们对每一步做出解释：\n",
    "* (1)：根节点处，因为 $x^{(1)}=4 < 7$，进入左子节点分支 $(5,4)$\n",
    "* (2)：因为 $x^{(2)}= 5 > 4$，进入右子节点分支 $(4,7)$，此时 $(4,7)$ 已经是叶结点，初始的“当前最近邻”为 $(4,7)$\n",
    "* (3)：向上回退到父结点 $(5,4)$，$(5,4)$ 与 $x$ 的距离大于当前最近邻，不更新最近邻，$(5,4)$ 的另一个子结点 $(2,3)$ 包含的区域与当前最近邻超球体相交，准备跳转到 $(2,3)$\n",
    "* (4)：跳转到叶结点 $(2,3)$，从这里**递归执行最近邻搜索算法**，由于以 $(2,3)$ 为根的子树只有 $(2,3)$ 一个结点，它即为子进程的最近邻，比较发现，$(2,3)$ 距 $x$ 更近，替换“当前最近邻”为 $(2,3)$\n",
    "* (5)：结点 $(5,4)$ 的搜索结束，继续向上回退到父结点 $(7,2)$\n",
    "* (6)：$(7,2)$ 的另一个子结点 $(9,6)$ 包含的区域与当前最近邻超球体不相交，不需要跳转到 $(9,6)$\n",
    "* (7)：$(7,2)$ 已经是根节点，无法继续回归，搜索结束，算法得到的最近邻为 $(2,3)$"
   ]
  },
  {
   "cell_type": "markdown",
   "id": "ece0b1a2",
   "metadata": {
    "slideshow": {
     "slide_type": "subslide"
    }
   },
   "source": [
    "<img src=\"./source/Chap4/搜索过程.png\" style=\"width: 500px\" align=\"left\"/>"
   ]
  },
  {
   "cell_type": "markdown",
   "id": "1c99b257",
   "metadata": {
    "slideshow": {
     "slide_type": "subslide"
    }
   },
   "source": [
    "我们最后指出，如果实例点是随机分布的，**kd树搜索每个测试实例点最近邻的平均（期望）计算复杂度是** $\\mathcal{O}(\\log N)$，这里 $N$ 即为训练集 $T$ 的样本量. 设想一下，这在 $N$ 很大的情况下，相比线性扫描的性能是成百上千倍的提升"
   ]
  },
  {
   "cell_type": "markdown",
   "id": "0a6aded2",
   "metadata": {},
   "source": [
    "kd树更适用于训练数据量 $N$ 远大于空间维度 $p$ 的 $k$ 近邻搜索，即$N\\gg p$，当 $N\\approx p$ 时，该方法的效率会迅速下降，几乎接近线性扫描"
   ]
  },
  {
   "cell_type": "markdown",
   "id": "7bac4d60-0400-404c-b8e2-17daf0c0adff",
   "metadata": {},
   "source": [
    "----"
   ]
  },
  {
   "cell_type": "markdown",
   "id": "4e9ed00e-b0af-4aad-a248-3989aec6bdcf",
   "metadata": {
    "slideshow": {
     "slide_type": "slide"
    }
   },
   "source": [
    "## **2 K-Means：K均值方法**"
   ]
  },
  {
   "cell_type": "markdown",
   "id": "cb21ef4e-a5bf-4946-86e9-18903d788bb9",
   "metadata": {},
   "source": [
    "**K-Means**是一种**无监督**的**聚类方法**，它基于样本集合划分聚类，**K-Means**将样本集合划分为正好 $k$ 个子集，构成 $k$ 个类，然后将 $N$ 个样本分配到 $k$ 个类中"
   ]
  },
  {
   "cell_type": "markdown",
   "id": "19cde3a2-4d54-44ce-a5b4-4cd46695c66c",
   "metadata": {},
   "source": [
    "**K-Means**聚类结果的特点是**每个样本到其所属的类的中心的距离最小，且每个样本仅属于一个类**，因此**K-Means是硬聚类**"
   ]
  },
  {
   "cell_type": "markdown",
   "id": "083c0007-ad6f-4973-8414-a3d5e1cbf235",
   "metadata": {},
   "source": [
    "我们依然按照机器学习三要素：**模型、策略、算法**的顺序介绍**K-Means**方法"
   ]
  },
  {
   "cell_type": "markdown",
   "id": "2719a104-74a3-4b37-a99c-57ca642bb774",
   "metadata": {},
   "source": [
    "### **2.1 K-Means模型**"
   ]
  },
  {
   "cell_type": "markdown",
   "id": "6307ca36-f925-4f03-8601-c22b198ab213",
   "metadata": {},
   "source": [
    "给定 $N$ 个样本的集合 $X={x_1,x_2,c\\dots,x_n}$，每个样本 $x_i\\in\\mathbb{R}^p$，K均值聚类的目标是将 $N$ 个样本分到 $k$ 个不同的类（或称为簇）中，这里假设 $k<N$"
   ]
  },
  {
   "cell_type": "markdown",
   "id": "c638ed26-84a3-4c61-9ceb-bca97c7e8924",
   "metadata": {},
   "source": [
    "$k$ 个类 $G_1,G_2,\\cdots,G_k$ 形成对样本集合 $X$ 的划分，其中：\n",
    "$$\n",
    "G_i\\cap G_j=\\boldsymbol{\\emptyset},i\\ne j,\\quad \\bigcup_{i=1}^{k}G_i = X\n",
    "$$"
   ]
  },
  {
   "cell_type": "markdown",
   "id": "c6b511a2-2746-4cd3-97b1-c42738b8cebb",
   "metadata": {},
   "source": [
    "我们用 $C$ 表示划分，一个划分对应着一个聚类的结果，划分 $C$ 是一个多对一的函数. 事实上，如果把每个样本用一个整数 $i\\in\\{1,2,\\cdots,N\\}$ 表示，每个类用一个整数 $l\\in \\{1,2,\\cdots,k\\}$ 表示，那么划分结果可以用函数 $l=C(i)$ 表示. 所有K均值聚类的模型是一个从样本到类的函数."
   ]
  },
  {
   "cell_type": "markdown",
   "id": "1da25afb-9868-437d-95b3-1ac6f92d1c18",
   "metadata": {},
   "source": [
    "### **2.2 K-Means策略**"
   ]
  },
  {
   "cell_type": "markdown",
   "id": "2518600e-5e8e-491c-a488-0f32e6c929e3",
   "metadata": {},
   "source": [
    "K均值聚类归结为样本 $X$ 的划分，或者从样本到类的函数的选择问题. $k$ 均值聚类的策略是通过损失函数的最小化选取最优的划分或函数 $C^*$"
   ]
  },
  {
   "cell_type": "markdown",
   "id": "390e0915",
   "metadata": {},
   "source": [
    "首先，采用**欧式距离平方**作为样本之间的距离 $d(x_i,x_j)$：\n",
    "$$\n",
    "d(x_i,x_j) = \\sum_{m=1}^{p}(x_i^{(m)} - x_j^{(m)})^2 = \\|x_i - x_j\\|_2^2\n",
    "$$"
   ]
  },
  {
   "cell_type": "markdown",
   "id": "7b088349",
   "metadata": {},
   "source": [
    "然后，定义样本与其所属类的中心之间的距离的总和为损失函数，即：\n",
    "$$\n",
    "W(C) = \\sum_{l=1}^{k}\\sum_{C(i)=l} \\|x_i - \\overline{x}_l\\|_2^2\n",
    "$$"
   ]
  },
  {
   "cell_type": "markdown",
   "id": "254b8472",
   "metadata": {},
   "source": [
    "其中，$\\overline{x}_l = (\\overline{x}_l^{(1)},\\cdots,\\overline{x}_l^{(p)})$ 是第 $l$ 个类的**均值**或**重心**，$n_l$ 表示第 $l$ 个类中样本的数量：\n",
    "$$\n",
    "n_l = \\sum_{i=1}^{n} \\mathbb{I}(C(i)=l)\n",
    "$$"
   ]
  },
  {
   "cell_type": "markdown",
   "id": "d8ff9b99",
   "metadata": {},
   "source": [
    "函数 $W(C)$ 也被称为**能量函数**，它表示**相同类中，样本相似的程度**"
   ]
  },
  {
   "cell_type": "markdown",
   "id": "68ead97c",
   "metadata": {},
   "source": [
    "K均值聚类的策略是求解下面的**最优化问题**：\n",
    "$$\n",
    "\\begin{array}{rcl}\n",
    "C^* & = & \\mathop{\\arg\\min}\\limits_{C} W(C) \\\\\n",
    "& = & \\mathop{\\arg\\min}\\limits_{C} \\sum_{l=1}^{k}\\sum_{C(i)=l} \\|x_i - \\overline{x}_l\\|_2^2\n",
    "\\end{array}\n",
    "$$"
   ]
  },
  {
   "cell_type": "markdown",
   "id": "1704f604",
   "metadata": {},
   "source": [
    "相似的样本被聚到同类时，**损失函数** $W(C)$ **的值最小**，这个目标函数的最优化能达到聚类的目的，但是，这是一个**组合优化**问题，将 $N$ 个样本分配到 $k$ 类，所有可能的方法树目是：\n",
    "$$\n",
    "S(N,k) = \\frac{1}{k!}\\sum_{l=0}^{k}(-1)^{k-l}\\binom{k}{l}(k-l)^N\n",
    "$$"
   ]
  },
  {
   "cell_type": "markdown",
   "id": "d32bb3f1",
   "metadata": {},
   "source": [
    "$S(N,k)$ 是指数级的，也被称为**斯特林第二类数**，我们没有办法通过枚举搜索的方式求解，事实上，K均值聚类的最优解求解问题是**NP困难问题**，我们会使用**迭代求解**的方法进行"
   ]
  },
  {
   "cell_type": "markdown",
   "id": "9d0deca9",
   "metadata": {},
   "source": [
    "### **2.3 K-Means算法**"
   ]
  },
  {
   "cell_type": "markdown",
   "id": "5e0d912c",
   "metadata": {},
   "source": [
    "K均值聚类的算法是一个迭代的过程，每次迭代包括两个步骤. 首先选择 $k$ 个类的中心，**将样本诸葛指派到与其最近的中心的类中**，得到一个聚类结果，然后**更新每个类的样本的均值**（更新重心），作为类的新的中心，重负上述两个步骤，直到收敛"
   ]
  },
  {
   "cell_type": "markdown",
   "id": "fa8e1f9a",
   "metadata": {},
   "source": [
    "具体来说：\n",
    "* 首先，对于给定的 $k$ 个中心 $(m_1,m_2,\\cdots,m_k)$，求一个划分 $C$，使得目标函数极小化：\n",
    "$$\n",
    "\\min_C \\sum_{l=1}^{k}\\sum_{C(i)=l} \\|x_i - m_l\\|_2^2\n",
    "$$\n",
    "即**在类别中心已经确定的情况下，将每个样本分配到一个类中**，使样本何其所属类的中心之间的距离综合最小. 很容易想到最优方案是，将每个样本指派到与其最接近的中心 $m_l$ 的类 $G_l$ 中\n",
    "* 然后，对于给定的划分 $C$，再求哥哥类的中心 $(m_1,m_2,\\cdots,m_k)$，使得目标函数极小化：\n",
    "$$\n",
    "\\min_{m_1,\\cdots,m_k} \\sum_{l=1}^{k}\\sum_{C(i)=l} \\|x_i - m_l\\|_2^2\n",
    "$$\n",
    "这一步是说，**在划分给定的情况下，是样本和其所属的类的中心之间的距离总和最小**，对上式每个 $m_l$ 求偏导可得，对于每个包含 $n_l$ 个样本的类 $G_l$，更新其中心均值 $m_l$ 为：\n",
    "$$\n",
    "m_l = \\frac{1}{n_l}\\sum_{C(i)=l} x_i,\\quad l=1,\\cdots,k\n",
    "$$"
   ]
  },
  {
   "cell_type": "markdown",
   "id": "7c44ec13",
   "metadata": {},
   "source": [
    "重复以上的两个步骤，**直到划分** $C$ **不再改变**，或者说**聚类中心** $(m_1,\\cdots,m_k)$ **不再改变**，得到聚类结果"
   ]
  },
  {
   "cell_type": "markdown",
   "id": "0b2e2187",
   "metadata": {},
   "source": [
    "我们用标准的语言描述K均值聚类的算法流程：\n",
    "* **输入**：$N$ 个样本的集合 $X$\n",
    "* **输出**：样本集合的聚类 $C^*$\n",
    "* **算法流程**\n",
    "  * (1) 初始化：零 $t=0$，随机选择 $k$ 个样本点作为初始聚类中心 $\\boldsymbol{m}^{(0)}=(m_1^{(0)},\\cdots,m_k^{(0)})$\n",
    "  * (2) 对样本进行聚类，对固定的类中心 $\\boldsymbol{m}^{(t)}$，计算每个样本到类中心的距离，将每个样本指派到与其最近的中心的类中，构成聚类结果 $C^{(t)}$\n",
    "  * (3) 计算新的类中心，对聚类结果 $C^{(t)}$，计算当前各个类的样本的均值作为新的中心 $\\boldsymbol{m}^{(t+1)}$，然后 $t=t+1$\n",
    "  * (4) 检查迭代是否满足收敛条件，满足条件输出 $C^* = C^{(t)}$，否则 $t=t+1$，然后返回到第(2)步"
   ]
  },
  {
   "cell_type": "markdown",
   "id": "fa57c5ee",
   "metadata": {},
   "source": [
    "**K均值聚类算法的计算复杂度为** $\\mathcal{O}(Npk)$，$N$ 表示样本量，$p$ 是特征维度，$k$ 是类别个数"
   ]
  },
  {
   "cell_type": "markdown",
   "id": "4e2911f2",
   "metadata": {},
   "source": [
    "下面，我们定义一个函数来展示K均值聚类的更新过程"
   ]
  },
  {
   "cell_type": "code",
   "execution_count": 5,
   "id": "77276465",
   "metadata": {},
   "outputs": [
    {
     "data": {
      "text/plain": [
       "<matplotlib.legend.Legend at 0x7f0477cd6460>"
      ]
     },
     "execution_count": 5,
     "metadata": {},
     "output_type": "execute_result"
    },
    {
     "data": {
      "image/png": "[encoded data removed]",
      "text/plain": [
       "<Figure size 480x400 with 1 Axes>"
      ]
     },
     "metadata": {
      "needs_background": "light"
     },
     "output_type": "display_data"
    }
   ],
   "source": [
    "# 生成数据，真实的类别含有 3 类\n",
    "X, labels = make_blobs(n_samples=600,n_features=2,centers=3,cluster_std=0.75,random_state=0)\n",
    "colors = [\"tomato\",\"royalblue\",\"green\"]\n",
    "# 绘制聚类情况\n",
    "fig = plt.figure(figsize=(6,5),dpi=80)\n",
    "for i in range(3):\n",
    "    plt.scatter(X[labels==i,0],X[labels==i,1],c=colors[i],edgecolors=\"black\",alpha=0.4,label=\"Class %d\"%(i+1),s=50)\n",
    "plt.xlabel(\"$X_1$\")\n",
    "plt.ylabel(\"$X_2$\")\n",
    "plt.legend()"
   ]
  },
  {
   "cell_type": "code",
   "execution_count": 6,
   "id": "91601e87",
   "metadata": {},
   "outputs": [],
   "source": [
    "# 展示K均值聚类的动态过程\n",
    "def show_clustering(X : np.ndarray, k : int, colors : list):\n",
    "    \"\"\"\n",
    "    show_clustering(X : np.ndarray, k : int)\n",
    "        动态展示K均值聚类过程\n",
    "    \n",
    "    Parameters\n",
    "    ----------\n",
    "    X : np.ndarray\n",
    "        样本集合，维度`(N,p)`\n",
    "    k : int\n",
    "        聚类的个数\n",
    "    colors : list\n",
    "        为每个类指定颜色\n",
    "    \"\"\"\n",
    "    # 将样本分配到每个类\n",
    "    def assign_cluster(X : np.ndarray, centers : np.ndarray):\n",
    "        # 统计样本量\n",
    "        N = X.shape[0]\n",
    "        # 计算 X 到每个聚类中心的距离\n",
    "        dist = np.zeros((N,k))\n",
    "        for i in range(k):\n",
    "            dist[:,i] = np.linalg.norm(X - centers[i],axis=1)\n",
    "        # 找到每个样本最近的类\n",
    "        labels = np.argmin(dist,axis=1)\n",
    "        return labels\n",
    "    \n",
    "    # 绘制聚类分布\n",
    "    def plot_cluster(X : np.ndarray, labels : np.ndarray, ax, fig):\n",
    "        # 清理画布并重新画图\n",
    "        ax.clear()\n",
    "        for i in range(k):\n",
    "            ax.scatter(X[labels==i,0],X[labels==i,1],c=colors[i],edgecolors=\"black\",alpha=0.4,s=50)\n",
    "        ax.set_xlabel(\"$X_1$\")\n",
    "        ax.set_ylabel(\"$X_2$\")\n",
    "        display.display(fig) # 展示画布\n",
    "        display.clear_output(wait=True) # 清空画布\n",
    "    \n",
    "    # 统计维度\n",
    "    p = X.shape[1]\n",
    "    # 随机生成聚类中心\n",
    "    centers = np.random.randn(k,p)*2\n",
    "    # 初始化画板\n",
    "    fig, ax = plt.subplots(1,1,figsize=(6,5),dpi=80)\n",
    "    ax.set_xlabel(\"$X_1$\")\n",
    "    ax.set_ylabel(\"$X_2$\")\n",
    "    \n",
    "    # 初始化分配结果\n",
    "    labels = assign_cluster(X=X,centers=centers)\n",
    "    plot_cluster(X,labels,ax,fig) # 绘制聚类\n",
    "\n",
    "    while True:\n",
    "        # 设置每次仅迭代一步\n",
    "        model = KMeans(n_clusters=k,max_iter=1,init=centers,random_state=0,n_init=1)\n",
    "        model.fit(X)\n",
    "        # 更新后的聚类中心\n",
    "        centers_update = model.cluster_centers_\n",
    "        # 达到停止条件\n",
    "        if np.linalg.norm(centers_update - centers) < 1e-8:\n",
    "            break\n",
    "        # 更新聚类中心\n",
    "        centers = centers_update\n",
    "        # 更新聚类图\n",
    "        time.sleep(1) # 减慢动画\n",
    "        labels = assign_cluster(X=X,centers=centers)\n",
    "        plot_cluster(X,labels,ax,fig) # 绘制聚类"
   ]
  },
  {
   "cell_type": "code",
   "execution_count": 7,
   "id": "af4e9376",
   "metadata": {},
   "outputs": [
    {
     "data": {
      "image/png": "[encoded data removed]",
      "text/plain": [
       "<Figure size 480x400 with 1 Axes>"
      ]
     },
     "metadata": {
      "needs_background": "light"
     },
     "output_type": "display_data"
    }
   ],
   "source": [
    "colors = [\"tomato\",\"royalblue\",\"green\",\"gold\"]\n",
    "show_clustering(X=X,k=2,colors=colors)"
   ]
  },
  {
   "cell_type": "markdown",
   "id": "197dce9f",
   "metadata": {},
   "source": [
    "我们简单总结K均值聚类算法的几个特点：\n",
    "* K均值聚类是基于划分的聚类方法，类别数 $k$ 需要事先给定，并以欧式距离表示样本之间的距离，以均值表示样本中心类别，以样本和其所属类别中心之间的距离总和作为最优化目标函数\n",
    "* K均值聚类算法是迭代算法，该方法属于**启发式算法**，算法只保证**逐步最优**，无法保证收敛到**全局最优**\n",
    "* 初始中心 $\\boldsymbol{m}^{(0)}$ 的选择会直接影响聚类的结果，**初始中心可以使用随机初始化的方法确定**，也有其他方法辅助选择初始中心"
   ]
  },
  {
   "cell_type": "markdown",
   "id": "f90f14b6",
   "metadata": {},
   "source": [
    "### **2.4 如何选择 $k$ 值**"
   ]
  },
  {
   "cell_type": "markdown",
   "id": "667ad7f6",
   "metadata": {},
   "source": [
    "K均值聚类中的类别数 $k$ 值需要预先指定，而在实际应用中最优的 $k$ 值是不知道的，$k$ 值的选择可以通过尝试不同的 $k$ 值聚类，检验各个 $k$ 得到的聚类结果的质量来判断"
   ]
  },
  {
   "cell_type": "markdown",
   "id": "909d4963",
   "metadata": {},
   "source": [
    "聚类结果的质量可以使用**类的平均直径**来衡量，一般地，类别数变小，平均直径会增大，而当类别数变大超过某个值后，平均直径不会改变，或者说几乎不会改变，我们可以选择使平均直径下降到几乎不变前的 $k$ 值"
   ]
  },
  {
   "cell_type": "markdown",
   "id": "81ad1e89",
   "metadata": {},
   "source": [
    "另一种衡量聚类质量的方法，可以直接参考损失函数 $W(C)$，我们绘制 $W(C)$ 随 $k$ 的变化情况，它也会呈现与上述类平均直径相同的变化趋势，在一开始 $k$ 增大的时候，$W(C)$ 迅速下降，继续增大 $k$ 时，$W(C)$ 缓慢下降或几乎不变"
   ]
  },
  {
   "cell_type": "markdown",
   "id": "514f0e5f",
   "metadata": {},
   "source": [
    "以上两种方法都可以称为**手肘法**，我们从关于 $k$ 的聚类质量曲线中，找到**拐点**，并认为拐点处的 $k$ 值是最优的"
   ]
  },
  {
   "cell_type": "markdown",
   "id": "eebb1244",
   "metadata": {},
   "source": [
    "下图展示了一般情形下，聚类质量 $Q$ 和类别数 $k$ 关系的曲线，图中的拐点即为我们所求"
   ]
  },
  {
   "cell_type": "markdown",
   "id": "d6bb4830",
   "metadata": {},
   "source": [
    "<img src=\"./source/Chap4/手肘法.png\" style=\"width: 500px\" align=\"left\"/>"
   ]
  },
  {
   "cell_type": "markdown",
   "id": "0b3e4608",
   "metadata": {},
   "source": [
    "以前文的样本 `X` 为例，我们来计算不同聚类数量 `k` 下，损失的变化情况"
   ]
  },
  {
   "cell_type": "code",
   "execution_count": 8,
   "id": "817b2b11",
   "metadata": {},
   "outputs": [],
   "source": [
    "def compute_clustering_loss(X : np.ndarray, k : int):\n",
    "    # 创建模型，拟合模型\n",
    "    model = KMeans(n_clusters=k)\n",
    "    model.fit(X)\n",
    "    # 计算每个样本所属的类别\n",
    "    labels = model.predict(X)\n",
    "    # 初始化损失\n",
    "    loss = 0\n",
    "    # 顺序迭代每一类样本\n",
    "    for label in np.unique(labels):\n",
    "        index = (labels == label) # 找到该类样本的索引\n",
    "        X_sub = X[index] # 获取样本子集\n",
    "        # 计算该类别样本的聚类中心\n",
    "        center = np.mean(X_sub) \n",
    "        # 计算距离\n",
    "        dist = np.linalg.norm(X_sub - center,ord=2)\n",
    "        loss += (dist**2) # 添加到loss\n",
    "    return loss"
   ]
  },
  {
   "cell_type": "code",
   "execution_count": 9,
   "id": "bb7174a4",
   "metadata": {},
   "outputs": [],
   "source": [
    "# 顺序迭代 k 值，取 k = 2,3,...,7\n",
    "k_nums = np.arange(2,8)\n",
    "losses = [] # 存储损失\n",
    "for k in k_nums:\n",
    "    loss = compute_clustering_loss(X,k=k)\n",
    "    losses.append(loss)"
   ]
  },
  {
   "cell_type": "code",
   "execution_count": 10,
   "id": "fb4642ee",
   "metadata": {},
   "outputs": [
    {
     "data": {
      "text/plain": [
       "Text(0, 0.5, 'Loss')"
      ]
     },
     "execution_count": 10,
     "metadata": {},
     "output_type": "execute_result"
    },
    {
     "data": {
      "image/png": "[encoded data removed]",
      "text/plain": [
       "<Figure size 432x288 with 1 Axes>"
      ]
     },
     "metadata": {
      "needs_background": "light"
     },
     "output_type": "display_data"
    }
   ],
   "source": [
    "# 绘制手肘图\n",
    "fig = plt.figure(figsize=(6,4))\n",
    "plt.plot(k_nums,losses,c=\"blue\")\n",
    "plt.scatter(k_nums[1],losses[1],s=200,c=\"none\",edgecolors=\"red\")\n",
    "plt.annotate(\"Elbow\",(k_nums[1],losses[1]),\n",
    "             (k_nums[1]+0.4,losses[1]+2),\n",
    "             color=\"tomato\",\n",
    "             arrowprops=dict(facecolor='tomato',edgecolor=\"tomato\",shrink=1))\n",
    "plt.xlabel(\"Number of the clusters $k$\")\n",
    "plt.ylabel(\"Loss\")"
   ]
  },
  {
   "cell_type": "markdown",
   "id": "08a575a8",
   "metadata": {},
   "source": [
    "实际场景中，对于计算复杂度较小的场合，可以使用网格搜索的方式确定 $k$，如果计算复杂度较高，可以尝试使用**二分搜索**来找到最优的 $k$"
   ]
  },
  {
   "cell_type": "markdown",
   "id": "c48aee13",
   "metadata": {},
   "source": [
    "另一种选择 $k$ 的方法是**借助有监督**的**下游任务**，来衡量模型划分结果的好坏，我们举一个例子具体说明"
   ]
  },
  {
   "cell_type": "markdown",
   "id": "4f59df5b",
   "metadata": {},
   "source": [
    "假设现在我们有大量的客户信息，并且根据专家经验，客户之间存在比较强的**异质性**，即客户的特征和偏好有明显不同，假设现在我们需要建立一个模型预测用户的购买行为\n",
    "* 传统的方法，将所有用户放入到一个回归模型中，用一套系数对用户购买行为建模，但这没有考虑客户之间的**异质性**，模型可能存在很大偏差，预测效果差，假设预测正确率为 $P$\n",
    "* 一种思路是，先对客户聚类，识别出用户的**异质性**将用户分层，假设分为 $k$ 类，然后在每个类中建立各自的回归模型，用 $k$ 套系数对用户的购买行为建模，此时不同模型适用不同类型的客户，模型偏差变小，预测性能提升，准确率 $P$ 上升\n",
    "* 但事先不知道应该将用户聚为几个类别，此时类别个数 $k$ 的选择，就可以根据**下游任务**（即**用户购买行为预测**）的性能表现 $P$ 来抉择，$P$ 此时是与 $k$ 有关的函数，我们可以选择 $k^* = \\mathop{\\arg\\max}\\limits_{k} P(k)$"
   ]
  },
  {
   "cell_type": "markdown",
   "id": "65efb8f4-ba05-4908-b3f6-120b6a57e8dc",
   "metadata": {},
   "source": [
    "----"
   ]
  },
  {
   "cell_type": "markdown",
   "id": "3376d2a3-5db3-4e9b-a145-074517e5a5c7",
   "metadata": {},
   "source": [
    "## **练习**"
   ]
  },
  {
   "cell_type": "markdown",
   "id": "0755b0d7-5adf-4086-aaeb-f296b701fde0",
   "metadata": {},
   "source": [
    "1. 考虑二维空间中的3个点 $x_1=(1,1)$，$x_2 = (5,1)$，$x_3=(4,4)$，用 $L_p$ 距离并取 $p=1,2,3,4$，计算不同 $L_p$ 距离下 $x_1$ 的最近邻点"
   ]
  },
  {
   "cell_type": "markdown",
   "id": "0ac61fd3-b4be-4dbf-b353-ccb8e280b690",
   "metadata": {},
   "source": [
    "2. 如果在使用KNN算法解决回归问题时，建模所考虑的损失函数是**绝对值损失**：\n",
    "$$\n",
    "L(y,\\hat{y}) = |y - \\hat{y}|\n",
    "$$\n",
    "请问，此时模型的最优决策规则是什么？"
   ]
  },
  {
   "cell_type": "markdown",
   "id": "6cd32706-df06-4226-b2f8-996c89565c74",
   "metadata": {},
   "source": [
    "3. 如何将最近邻kd搜索树算法推广到 $k$ 近邻搜索？你的方案完成 $k$ 个最近邻搜索所需要的计算复杂度是多少？"
   ]
  },
  {
   "cell_type": "markdown",
   "id": "db2224f4-c4c6-436c-b01d-0740cff69a57",
   "metadata": {},
   "source": [
    "4. 我们下面用KNN来完成一个回归任务"
   ]
  },
  {
   "cell_type": "markdown",
   "id": "4017ebd3",
   "metadata": {},
   "source": [
    "(1) 用`sklearn`提供的`make_regression()`函数，生成一组回归数据集，参数设置如下：\n",
    "* 样本量`n_samples=400`\n",
    "* 特征维度`n_features=6`\n",
    "* 有效特征维度`n_informative=4`\n",
    "* 噪声方差`noise=0.2`  "
   ]
  },
  {
   "cell_type": "markdown",
   "id": "f65627d0",
   "metadata": {},
   "source": [
    "(2) 将数据集切分为训练集和测试集，测试集比例为 40%  \n",
    "(3) 在训练集上训练KNN回归模型，可以直接利用`sklearn`提供的`KNeighborsRegressor`，回顾上一节提到的方法，如何**仅利用训练集数据**挑选出你觉得最合适的 $k$ 值  \n",
    "(4) 用你的最优模型在测试集上预测，汇报模型在训练集和测试集上的均方误差，根据结果评价模型的性能表现（例如是否出现过拟合）"
   ]
  },
  {
   "cell_type": "markdown",
   "id": "1c10998b",
   "metadata": {},
   "source": [
    "5. （**编程训练**）定义一个函数`MyKMeans()`实现K均值聚类算法，函数的接口说明和输出如下"
   ]
  },
  {
   "cell_type": "code",
   "execution_count": 11,
   "id": "d2badca0",
   "metadata": {},
   "outputs": [],
   "source": [
    "import numpy as np\n",
    "import random\n",
    "def MyKMeans(X : np.ndarray, k : int) -> np.ndarray:\n",
    "    \"\"\"\n",
    "    MyKMeans(X : np.ndarray, k : int) -> np.ndarray\n",
    "        K均值聚类算法\n",
    "\n",
    "    Parameters\n",
    "    ----------\n",
    "    X : np.ndarray\n",
    "        样本集合，维度`(N,p)`\n",
    "    k : int\n",
    "        聚类的类别数量\n",
    "    \n",
    "    Return\n",
    "    ----------\n",
    "    labels : np.ndarray\n",
    "        每个样本对应的类别编号\n",
    "    \"\"\"\n",
    "    \n",
    "    # 在下面完成你的代码\n",
    "    N = len(X)\n",
    "    #随机选择样本的下标\n",
    "    X_sample = np.random.choice(N, k , False)\n",
    "    #从而确定随机样本\n",
    "    x = [X[i] for i in X_sample]\n",
    "    #用来保存聚类方案\n",
    "    cluster = np.zeros(N)\n",
    "    #用来判断聚类方案有无变化\n",
    "    temp = np.ones(N)\n",
    "    #具体流程\n",
    "    while temp != cluster:\n",
    "        cluster = temp\n",
    "        for i in range(N):\n",
    "            dist = np.float64(\"inf\")\n",
    "            for j in range(k):\n",
    "                temp_dist = np.linalg.norm(x[j] - X[i])\n",
    "                if temp_dist < dist:\n",
    "                    dist = temp_dist\n",
    "                    temp[i] = j + 1"
   ]
  },
  {
   "cell_type": "markdown",
   "id": "d4bb3f13-dc08-4f57-99e7-a302d8670b5d",
   "metadata": {},
   "source": [
    "我们给出一些更纤细的说明，你可以按照下面的逻辑来完成**KMeans**算法"
   ]
  },
  {
   "cell_type": "markdown",
   "id": "96ffe931-3b7f-4067-9011-4d56d50ef845",
   "metadata": {},
   "source": [
    "算法过程中需要两个子函数，以实现算法中对应的`类别分配`和`更新聚类中心`两个步骤，然后我们迭代进行这两个步骤"
   ]
  },
  {
   "cell_type": "markdown",
   "id": "2e00a38d-7d14-40f2-9d58-ba0b57d8f02c",
   "metadata": {},
   "source": [
    "根据提示补充完成下面的代码"
   ]
  },
  {
   "cell_type": "code",
   "execution_count": 39,
   "id": "3cd7eac5-0008-4c4a-9116-d84ecd0ba0e4",
   "metadata": {},
   "outputs": [],
   "source": [
    "import numpy as np\n",
    "def assign_cluster(X : np.ndarray, centers : np.ndarray):\n",
    "    \"\"\"\n",
    "    给定聚类中心`centers`，将`X`中的每个样本分配到自己所属的类中\n",
    "\n",
    "    Parameters\n",
    "    ----------\n",
    "    X : np.ndarray\n",
    "        样本特征，维度`(N,p)`\n",
    "    centers : np.ndarray\n",
    "        聚类中心，维度`(k,p)`，其中`k`表示聚类个数\n",
    "\n",
    "    Return\n",
    "    ----------\n",
    "    labels : np.ndarray\n",
    "        每个样本所属的类别标签，维度`(N,)`\n",
    "    \"\"\"\n",
    "\n",
    "    # 补充完成编写代码\n",
    "    # 第一步，计算每个样本 x∈X 到每个聚类中心的距离\n",
    "    # 这会得到一个维度为 `(N,k)` 的矩阵\n",
    "    m, n = len(X), len(centers)\n",
    "    dist = np.empty((m, n))\n",
    "    for i in range(m):\n",
    "        for j in range(n):\n",
    "            dist[i][j] = np.linalg.norm(centers[j] - X[i])\n",
    "    # 第二步，分配所属类别时，可以选取每一行的最小值的下标得到\n",
    "    # np.argmin()可以实现这个功能，请查看对应的参数设置说明\n",
    "    labels = np.argmin(dist, axis = 1)\n",
    "    return labels"
   ]
  },
  {
   "cell_type": "code",
   "execution_count": 40,
   "id": "4144a8ac-2190-4841-99f0-e85d107d4fa2",
   "metadata": {},
   "outputs": [],
   "source": [
    "def update_centers(X : np.ndarray, labels : np.ndarray, centers : np.ndarray):\n",
    "    \"\"\"\n",
    "    给定每个样本所属的类别标签，重新计算聚类中心`centers`\n",
    "\n",
    "    Parameters\n",
    "    ----------\n",
    "    X : np.ndarray\n",
    "        样本特征，维度`(N,p)`\n",
    "    labels : np.ndarray\n",
    "        每个样本所属的类别标签，维度`(N,)`\n",
    "    centers_old : np.ndarray\n",
    "        更新前的聚类中心，维度`(k,p)`\n",
    "\n",
    "    Return\n",
    "    ----------\n",
    "    centers : np.ndarray\n",
    "        聚类中心，维度`(k,p)`，其中`k`表示聚类个数\n",
    "    \"\"\"\n",
    "\n",
    "    # 补充完成编写代码\n",
    "    # 第一步，获取聚类数量\n",
    "    k = len(centers)\n",
    "    \n",
    "    # 第二步，顺序选取每一类样本\n",
    "    # 计算它们的中心，然后赋值给 centers\n",
    "    for i in range(k):\n",
    "        # 选取属于类别 i 的样本\n",
    "        # X_subset 的维度为`(Ni,p)`\n",
    "        X_subset = X[labels == i]\n",
    "        \n",
    "        # 计算样本子集的中心，然后赋值\n",
    "        # 这个中心应该是一个`p`维向量\n",
    "        if len(X_subset) > 0: # 确保有属于该类别的样本存在再赋值\n",
    "            centers[i] = X_subset.mean(axis = 0)\n",
    "    \n",
    "    return centers"
   ]
  },
  {
   "cell_type": "markdown",
   "id": "73a93fce-b0b0-4193-b9ba-195303abd492",
   "metadata": {},
   "source": [
    "接下来，我们利用编写好的子函数`assign_cluster()`和`update_centers()`实现**KMeans**算法"
   ]
  },
  {
   "cell_type": "markdown",
   "id": "72dbf5aa-56c5-4241-94cc-efee9bf5f9cd",
   "metadata": {},
   "source": [
    "为了便于理解，我们在函数中加入了可视化的部分，它们不影响**Kmeans**算法的执行，可以忽略它们"
   ]
  },
  {
   "cell_type": "code",
   "execution_count": 41,
   "id": "62029fde-3b47-4036-9348-54a869e456a6",
   "metadata": {},
   "outputs": [],
   "source": [
    "def MyKMeans(X : np.ndarray, k : int) -> np.ndarray:\n",
    "    \"\"\"\n",
    "    MyKMeans(X : np.ndarray, k : int) -> np.ndarray\n",
    "        K均值聚类算法\n",
    "\n",
    "    Parameters\n",
    "    ----------\n",
    "    X : np.ndarray\n",
    "        样本集合，维度`(N,p)`\n",
    "    k : int\n",
    "        聚类的类别数量\n",
    "    \n",
    "    Return\n",
    "    ----------\n",
    "    labels : np.ndarray\n",
    "        每个样本对应的类别编号\n",
    "    \"\"\"\n",
    "    # 绘制聚类分布\n",
    "    def plot_cluster(X : np.ndarray, labels : np.ndarray, ax, fig, colors):\n",
    "        # 清理画布并重新画图\n",
    "        ax.clear()\n",
    "        for i in range(k):\n",
    "            ax.scatter(X[labels==i,0],X[labels==i,1],\n",
    "                       facecolor=colors[i],edgecolors=\"black\",alpha=0.3,s=30)\n",
    "        ax.set_xlabel(\"$X_1$\")\n",
    "        ax.set_ylabel(\"$X_2$\")\n",
    "        display.display(fig) # 展示画布\n",
    "        display.clear_output(wait=True) # 清空画布\n",
    "    \n",
    "    # 绘制聚类中心\n",
    "    def plot_centers(centers : np.ndarray, ax, fig, colors, old_centers=None):\n",
    "        for i in range(k):\n",
    "            ax.scatter([centers[i][0]],[centers[i][1]],facecolor=colors[i],edgecolors=\"None\",s=150,\n",
    "                       marker=\"p\",label=\"cluster %d\"%(i+1))\n",
    "        if old_centers is None:\n",
    "            ax.legend()\n",
    "        # 绘制聚类中心的更新方向\n",
    "        else:\n",
    "            for i in range(k):\n",
    "                ax.arrow(old_centers[i][0],old_centers[i][1],\n",
    "                         centers[i][0]-old_centers[i][0],centers[i][1]-old_centers[i][1],\n",
    "                         color=\"black\",head_width=0.15,head_length=0.2,\n",
    "                         length_includes_head=True,linewidth=0.5)\n",
    "        display.display(fig) # 展示画布\n",
    "        display.clear_output(wait=True) # 清空画布\n",
    "    \n",
    "    # 获取样本量和特征维度\n",
    "    N, p = X.shape[0], X.shape[1]\n",
    "    \n",
    "    # 初始化聚类中心\n",
    "    # 你可以随机选取\n",
    "    # 也可以从样本 X 中随机挑选 k 个点\n",
    "    centers = np.random.randn(k,p) # 随机选取\n",
    "    old_centers = np.zeros_like(centers)\n",
    "\n",
    "    # 初始化画板\n",
    "    fig, ax = plt.subplots(1,1,figsize=(8,8),dpi=80)\n",
    "    colors = sns.palettes.color_palette(\"muted\") # 设置颜料盘\n",
    "    ax.set_xlabel(\"$X_1$\")\n",
    "    ax.set_ylabel(\"$X_2$\")\n",
    "    \n",
    "    # 开始迭代，直到聚类中心 centers 不再发生改变\n",
    "    while np.linalg.norm(centers - old_centers) > 1e-8:\n",
    "        # 拷贝上一步的聚类中心\n",
    "        old_centers = centers.copy()\n",
    "        \n",
    "        # 交替进行两个步骤\n",
    "        # 第一步：分配类别标签\n",
    "        labels = assign_cluster(X,centers)\n",
    "        \n",
    "        # 绘制聚类分配结果\n",
    "        time.sleep(1) # 减慢动画\n",
    "        plot_cluster(X,labels,ax,fig,colors)\n",
    "        plot_centers(centers,ax,fig,colors)\n",
    "        \n",
    "        # 第二步，更新聚类中心\n",
    "        centers = update_centers(X,labels,centers)\n",
    "        \n",
    "        # 绘制聚类中心的更新过程\n",
    "        time.sleep(1) # 减慢动画\n",
    "        plot_centers(centers,ax,fig,colors,old_centers)\n",
    "    \n",
    "    return labels"
   ]
  },
  {
   "cell_type": "markdown",
   "id": "b2f6e682-bb7f-4f6b-9409-5944d8278b7f",
   "metadata": {},
   "source": [
    "用下面的数据进行实验吧"
   ]
  },
  {
   "cell_type": "code",
   "execution_count": 42,
   "id": "68518248-5e96-4671-bce7-e471dd6b2471",
   "metadata": {},
   "outputs": [],
   "source": [
    "X, labels = make_blobs(n_samples=600,n_features=2,centers=3,cluster_std=0.75,random_state=0)"
   ]
  },
  {
   "cell_type": "markdown",
   "id": "ec244f0f-3037-4222-8f07-a4bc41f6316a",
   "metadata": {},
   "source": [
    "你可以设置不同的 $k$ 值来观察聚类的更新过程"
   ]
  },
  {
   "cell_type": "code",
   "execution_count": 48,
   "id": "529b990e-5e43-4d5c-9f2f-272aef28877b",
   "metadata": {},
   "outputs": [
    {
     "data": {
      "image/png": "[encoded data removed]",
      "text/plain": [
       "<Figure size 640x640 with 1 Axes>"
      ]
     },
     "metadata": {
      "needs_background": "light"
     },
     "output_type": "display_data"
    }
   ],
   "source": [
    "labels_pred = MyKMeans(X,k=3)"
   ]
  },
  {
   "cell_type": "markdown",
   "id": "12f606a5-08a9-4186-8532-b32c9349ef6a",
   "metadata": {},
   "source": [
    "6. 谈一谈KNN算法相比之前介绍的线性回归、逻辑回归和朴素贝叶斯方法而言，有什么异同点？它是一种**线性方法**还是**非线性方法**？你觉得它最大的优势是什么？"
   ]
  }
 ],
 "metadata": {
  "celltoolbar": "原始单元格格式",
  "kernelspec": {
   "display_name": "dev",
   "language": "python",
   "name": "dev"
  },
  "language_info": {
   "codemirror_mode": {
    "name": "ipython",
    "version": 3
   },
   "file_extension": ".py",
   "mimetype": "text/x-python",
   "name": "python",
   "nbconvert_exporter": "python",
   "pygments_lexer": "ipython3",
   "version": "3.9.12"
  },
  "vscode": {
   "interpreter": {
    "hash": "b7671f8f7008cf1eacfad3f7a0f26498327c2bc8c3a971aef0f5604feecd09b1"
   }
  }
 },
 "nbformat": 4,
 "nbformat_minor": 5
}
