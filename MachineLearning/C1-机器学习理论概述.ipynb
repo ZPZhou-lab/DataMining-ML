{
 "cells": [
  {
   "cell_type": "markdown",
   "id": "2fc01fb6-d57d-4bb0-a285-f6459a2f05c0",
   "metadata": {},
   "source": [
    "# **Chap 1：机器学习理论概述**"
   ]
  },
  {
   "cell_type": "code",
   "execution_count": 1,
   "id": "89cc7143-5a0b-44da-98a2-568bb1d6238a",
   "metadata": {},
   "outputs": [],
   "source": [
    "import numpy as np\n",
    "from matplotlib import pyplot as plt"
   ]
  },
  {
   "cell_type": "markdown",
   "id": "677c2335-e311-46e7-9343-274631f9ab6d",
   "metadata": {},
   "source": [
    "## **0 前言**"
   ]
  },
  {
   "cell_type": "markdown",
   "id": "e20af001-c959-4d4c-9802-773018ab10fe",
   "metadata": {},
   "source": [
    "### **0.1 图书推荐**"
   ]
  },
  {
   "cell_type": "markdown",
   "id": "b5fb8059-04d7-48e4-b2e2-5d71c6a39482",
   "metadata": {
    "tags": []
   },
   "source": [
    "推荐两本中文课程和一本英文课程，它们涵盖了大部分基础和主流的机器学习理论和方法，并对机器学习中各种问题进行了深入浅出地讨论，推荐指数从高到低排序：\n",
    "* An Introduction to Statistical Learning, Robert Tibshirani\n",
    "* 《统计学习方法》，李航\n",
    "* 《机器学习》，周志华"
   ]
  },
  {
   "cell_type": "markdown",
   "id": "72b97f6d-0b54-464d-b1aa-2508ea465325",
   "metadata": {
    "tags": []
   },
   "source": [
    "<img src=\"./source/Chap1/book.png\" style=\"width: 800px\" align=\"left\"/>"
   ]
  },
  {
   "cell_type": "markdown",
   "id": "a3104015-e8fa-4d4b-bb1b-a2c92361a443",
   "metadata": {},
   "source": [
    "### **0.2 目标**"
   ]
  },
  {
   "cell_type": "markdown",
   "id": "4dd38362-25ae-4a46-bd03-5b4ea66b6a96",
   "metadata": {},
   "source": [
    "课程的以理论和实践相结合，主要包含以下内容：\n",
    "* 机器学习概念、理论框架、方法论的建立，特别是针对不同问题选择不同模型、并进行正确模型性能评估\n",
    "* 介绍最核心的几类机器学习方法，核心为有监督学习方法\n",
    "    * 经典统计的回归类方法及其变种\n",
    "    * 贝叶斯方法及其变种\n",
    "    * 树模型及其变种\n",
    "    * 感知机、支持向量机及其变种\n",
    "    * K邻近及其变种\n",
    "    * Bagging和Boosting类型方法\n",
    "* 能够在编程上正确使用机器学习算法\n",
    "    * 对于复杂的算法，学习调用已有的软件包\n",
    "    * 对于简单的算法，最好能够自己动手实现\n",
    "* 需要掌握面对实际数据时使用机器学习建模的流程和方法\n",
    "    * 数据预处理\n",
    "    * 特征探索和特征性选择\n",
    "    * 模型构建、模型选择\n",
    "    * 模型性能的评估"
   ]
  },
  {
   "cell_type": "markdown",
   "id": "d03018b8-1561-4c51-9b3c-66b6eb68e8d3",
   "metadata": {},
   "source": [
    "----"
   ]
  },
  {
   "cell_type": "markdown",
   "id": "4481ced1-20e2-4694-86b7-5ffef4abdf6a",
   "metadata": {},
   "source": [
    "## **1 机器学习背景**"
   ]
  },
  {
   "cell_type": "markdown",
   "id": "3aefb0ab-667c-4329-a3d2-815cd8e396f3",
   "metadata": {},
   "source": [
    "### **1.1 机器学习概念**"
   ]
  },
  {
   "cell_type": "markdown",
   "id": "55e557f4-ec21-49d8-9683-03dc565f732f",
   "metadata": {},
   "source": [
    "机器学习时从**人工智能**中产生的一个重要学科分支，是实现智能化的关键，机器学习是人工智能中的一步，属于程序范畴。机器学习又包含了众多分支和方法，从整体上，我们可以将它们划分为**统计学习方法**、**深度学习方法**和**强化学习方法**。三个方法之间又有相互交叉、相互补充的部分。"
   ]
  },
  {
   "cell_type": "markdown",
   "id": "9076ab0f-d057-4691-a088-3ba5669e856f",
   "metadata": {},
   "source": [
    "人工只能、机器学习以及统计学习方法、深度学习方法、强化学习方法的关系可以简单概括如下"
   ]
  },
  {
   "cell_type": "markdown",
   "id": "f27e67b6-dc03-4afb-9682-7d9763c7dd51",
   "metadata": {},
   "source": [
    "<img src=\"./source/Chap1/机器学习结构.png\" style=\"width: 400px\" align=\"left\"/>"
   ]
  },
  {
   "cell_type": "markdown",
   "id": "32a7d63f-3901-44f6-ab11-2d76dbbe7438",
   "metadata": {},
   "source": [
    "本课程的关注重点主要在机器学习问题中的**统计学习方法**"
   ]
  },
  {
   "cell_type": "markdown",
   "id": "64c03ff1-433f-47e4-95cc-e75cfe93495e",
   "metadata": {},
   "source": [
    "从符号系统上，我们可以将机器学习任务定义规范化："
   ]
  },
  {
   "cell_type": "markdown",
   "id": "b756da96-0cc1-4de6-99fd-b2b38f5933be",
   "metadata": {},
   "source": [
    "**机器学习的定义**：设 $P$ 是一个评估函数，它用于评估计算程序在某个任务 $T$ 上的性能，若一个程序能够通过利用经验 $E$， 使其在 $T$ 上的任务获得改善，则称关于 $T$ 和 $P$，该程序对 $E$ 进行了学习"
   ]
  },
  {
   "cell_type": "markdown",
   "id": "010e3485-c454-4921-a6d8-16132fdd204c",
   "metadata": {},
   "source": [
    "注意三个符号所代表的含义：\n",
    "* 任务 $T$：Task\n",
    "* 性能目标 $P$：Performance Measurement\n",
    "* 训练经验 $E$：Experience"
   ]
  },
  {
   "cell_type": "markdown",
   "id": "ebd2689e-1127-4361-bc53-388d7893fecb",
   "metadata": {},
   "source": [
    "以围棋AI为例，任务 $T$ 表示下围棋，性能目标 $P$ 可以定义为比赛获胜，经验 $E$ 可以是历史对战的棋局、棋谱或者和自己对弈"
   ]
  },
  {
   "cell_type": "markdown",
   "id": "e69afefa-68be-445a-8aa1-69094b8126a2",
   "metadata": {},
   "source": [
    "机器学习研究的对象是**数据**，即从数据出发，提取数据的特征或者规律，抽象出**数据模型**，利用学习得到的模型对新数据进行**预测**或者**分析**"
   ]
  },
  {
   "cell_type": "markdown",
   "id": "9d73620e-64e3-4e89-8ce6-06a8d8ee60ee",
   "metadata": {},
   "source": [
    "**统计学习**是与**机器学习**高度重叠的学科，因为机器学习中大多数方法来自统计学，统计学的发展促进了机器学习的繁荣，二者的区别主要在以下几个方面：\n",
    "* 统计学习重点关注统计模型的发展与优化、模型的稳定性，偏重数学，更多由**模型驱动**\n",
    "* 机器学习更关注能否解决问题，偏重实践，因此机器学习研究会重点关注学习算法在计算机上的执行效率与准确性的提升，更多由**算法驱动**\n",
    "* 统计学为机器学习提供理论支撑和方法指导"
   ]
  },
  {
   "cell_type": "markdown",
   "id": "12bd2ca7-2ffa-435b-b55c-bea4ebd29db0",
   "metadata": {},
   "source": [
    "### **1.2 机器学习应用**"
   ]
  },
  {
   "cell_type": "markdown",
   "id": "40813a3a-68b0-4474-a60a-47ae9727a643",
   "metadata": {},
   "source": [
    "机器学习的应用范围非常广泛，可以说只要有数据的地方就可以进行机器学习，并且从不同维度能将机器学习问题分为不同种类"
   ]
  },
  {
   "cell_type": "markdown",
   "id": "28bc013a-74c2-45f7-af4a-75c7a97e116a",
   "metadata": {},
   "source": [
    "例如，我们可以将机器学习应用简单分为**分类**、**回归**、**推荐**、**人机交互**四大类"
   ]
  },
  {
   "cell_type": "markdown",
   "id": "928b767d-f2c1-4349-a56f-bea805f5fe76",
   "metadata": {},
   "source": [
    "**(1) 分类**"
   ]
  },
  {
   "cell_type": "markdown",
   "id": "a9cab1df-8973-4dfc-8cb3-145c2ce0d91a",
   "metadata": {},
   "source": [
    "当任务的目标是进行判别类别，或者说目标空间是**离散空间**时，所处理的问题就可以视为分类问题，一些经典的例子包括："
   ]
  },
  {
   "cell_type": "markdown",
   "id": "ee391f1b-1595-46c4-8f93-c0c0df18404a",
   "metadata": {},
   "source": [
    "* 手写数字识别（数字0至9的10分类问题）\n",
    "* 不同动物图像识别和分类（多分类问题，分类数量与动物种类有关）\n",
    "* 癌症患病预测（0，1二分类问题）\n",
    "* 垃圾邮件分类问题（0，1二分类问题）\n",
    "* 通过外观、拍打，纹路判断一个西瓜甜不甜（0，1二分类问题）"
   ]
  },
  {
   "cell_type": "markdown",
   "id": "4c00f46f-7615-476f-8ff7-364356f57eb3",
   "metadata": {},
   "source": [
    "**(2) 回归**"
   ]
  },
  {
   "cell_type": "markdown",
   "id": "caed44d5-bf12-43cd-bb81-b49184b34442",
   "metadata": {},
   "source": [
    "当任务的目标是预测某一个数值，或者说目标空间是**连续空间**时，所处理的问题可以视为回归问题，一些经典的例子包括："
   ]
  },
  {
   "cell_type": "markdown",
   "id": "5ce97dec-d896-47c4-a4fa-2d0f2928bc5f",
   "metadata": {},
   "source": [
    "* 房价预测问题\n",
    "* 气温、降雨量预测问题\n",
    "* GDP预测问题\n",
    "* 春运、或节假日的人流量预测"
   ]
  },
  {
   "cell_type": "markdown",
   "id": "93b0cd13-e0f0-4c6f-a6dd-7a3ad04839f9",
   "metadata": {},
   "source": [
    "**(3) 推荐**"
   ]
  },
  {
   "cell_type": "markdown",
   "id": "abdaae04-0415-411c-b447-96d25190ab4e",
   "metadata": {},
   "source": [
    "**推荐**问题随着流媒体和互联网时代的到来被单独视为一类机器学习任务，在处理**推荐**问题时，其实可以转换为**回归**或**分类**问题，一些经典的推荐场景为："
   ]
  },
  {
   "cell_type": "markdown",
   "id": "84a5b46d-06c4-4bdc-9bd4-287ff12fca46",
   "metadata": {},
   "source": [
    "* 淘宝首页商品推荐排序\n",
    "* 微博热榜、百度搜索的推荐排序\n",
    "* 抖音、小红书、今日头条的智能推荐\n",
    "* 电子竞技游戏中的匹配机制"
   ]
  },
  {
   "cell_type": "markdown",
   "id": "3e94cfad-a6d4-4ca9-bbfd-a5642b82beaf",
   "metadata": {},
   "source": [
    "**(4) 人机交互**"
   ]
  },
  {
   "cell_type": "markdown",
   "id": "110967cf-a38d-47ee-ac80-aa0e31b53162",
   "metadata": {},
   "source": [
    "**人机交互**类问题没有明确的任务目标，但也是人们备受关注的问题之一，目前这一领域主要使用**深度学习**和**强化学习**方法，不是本课程的重点，一些经典的例子包括："
   ]
  },
  {
   "cell_type": "markdown",
   "id": "e56d3368-b266-41f8-9df1-9c0d5cdd2f8a",
   "metadata": {},
   "source": [
    "* 自然语言处理（**NLP**）领域\n",
    "    * AI对话，尤其是多轮对话\n",
    "    * AI作画、作曲、语音合成\n",
    "    * 翻译\n",
    "* 图像（**CV**）领域\n",
    "    * 目标检测\n",
    "    * 语义分割\n",
    "    * 图像生成\n",
    "    * 自动驾驶\n",
    "* 强化学习方法\n",
    "    * 棋类AI\n",
    "    * 游戏AI"
   ]
  },
  {
   "cell_type": "markdown",
   "id": "51e37435-b944-4cf7-a307-d7048fc16432",
   "metadata": {},
   "source": [
    "----"
   ]
  },
  {
   "cell_type": "markdown",
   "id": "477bf73c-c0f6-4a1a-857a-4bffe7f6efad",
   "metadata": {},
   "source": [
    "## **2 机器学习问题分类**"
   ]
  },
  {
   "cell_type": "markdown",
   "id": "28d9f5bb-2470-41dc-86cf-b8e66795b782",
   "metadata": {},
   "source": [
    "根据经验数据，即训练数据或历史数据是否有标注（**Label**）以及标注的类型，机器学习可以分为：\n",
    "* 有监督学习（Supervised Learning）\n",
    "* 无监督学习（Unsupervised Learning）\n",
    "* 强化学习（RainForcement Learning）"
   ]
  },
  {
   "cell_type": "markdown",
   "id": "ee54bc2a-8fad-405a-b2c7-0333781f74b0",
   "metadata": {},
   "source": [
    "### **2.1 有监督学习**"
   ]
  },
  {
   "cell_type": "markdown",
   "id": "c710c7f8-8e1a-4cd7-b45e-60ca4eaef071",
   "metadata": {},
   "source": [
    "有监督学习对应**标注已知，即Label已知**的情形，其问题的流程如下：\n",
    "* 在典型场景中，我们感兴趣的**结果**（$y$变量），通常是**定量的**（可以是**离散**的，对应**分类**问题；也可以是**连续**的；对应**回归**问题），我们希望根据一些**输入 / 特征**（$X$变量）来**预测结果**\n",
    "* 现在，我们收集了历史上的多个输入与输出样例，构成样本对 $\\{(X_i,y_i)\\}$，这又被称为**训练数据集**或**经验数据集**\n",
    "* 使用**训练数据集**，我们能够**建立 / 训练**一个从输入空间 $X$ 到输出空间 $y$ 的**规则 / 映射** $f$，称为**预测模型**\n",
    "* 通过**规则** $f$，当给定**新的输入特征**时（即从未见过的样本），我们能够**预测看不见的输出**"
   ]
  },
  {
   "cell_type": "markdown",
   "id": "3247be42-4e9c-4dc0-b4e3-4858f6bf5002",
   "metadata": {},
   "source": [
    "我们用垃圾邮件分类问题进行说明：\n",
    "* 我们收集**历史的邮件数据**，特征 $X_i$ 即第 $i$ 封邮件的文本信息，然后**人工判断邮件是否是垃圾邮件**，为每封邮件标注标签 $y_i\\in \\{0,1\\}$\n",
    "* 我们尝试从历史数据中，**总结一套判断邮件是否包含垃圾信息的规则** $f$，例如是否包含垃圾邮件中出现的高频词汇\n",
    "* 对于未来接收到的每封邮件（**注意这时候我们没有相关的标签信息**），用规则 $f$ 加以判断，如果判定 $y=1$，则将新邮件视为垃圾邮件，放入回收站"
   ]
  },
  {
   "cell_type": "markdown",
   "id": "0788f866-3edf-4312-a838-effe814eacde",
   "metadata": {},
   "source": [
    "用图示表达有监督学习的过程如下："
   ]
  },
  {
   "cell_type": "markdown",
   "id": "a8e62030-3d6f-4edd-9e6f-71771d222275",
   "metadata": {},
   "source": [
    "<img src=\"./source/Chap1/有监督学习.png\" style=\"width: 500px\" align=\"left\"/>"
   ]
  },
  {
   "cell_type": "markdown",
   "id": "cfcc0cd1-ec2e-4a56-9303-c89feb593263",
   "metadata": {},
   "source": [
    "### **2.2 无监督学习**"
   ]
  },
  {
   "cell_type": "markdown",
   "id": "4fc8ebae-2559-4e0b-8f5a-071ef58f5d1e",
   "metadata": {},
   "source": [
    "**无监督任务**相比**有监督任务**，我们在收集历史数据，即**训练数据集**时，**无法观察到标签信息**，即没有标签 $y$ 的相关信息"
   ]
  },
  {
   "cell_type": "markdown",
   "id": "627fcaa0-7a93-4219-bcd7-a8b63ce3b8aa",
   "metadata": {},
   "source": [
    "因此，我们的预测任务转变为**描述数据是如何组织或聚集的**，这种描述分为两种方向的描述：\n",
    "* **横向描述**，即从样本维度考虑，对应**聚类**问题\n",
    "* **纵向描述**，即从特征维度考虑，对应**降维**问题"
   ]
  },
  {
   "cell_type": "markdown",
   "id": "4e3b4944-5345-45eb-82d0-ba505d24b214",
   "metadata": {},
   "source": [
    "<img src=\"./source/Chap1/聚类和降维.png\" style=\"width: 800px\" align=\"left\"/>"
   ]
  },
  {
   "cell_type": "markdown",
   "id": "fafc6d38-be8d-491b-a705-5bb1dbeeb892",
   "metadata": {},
   "source": [
    "可以简单理解为**聚类**将有共同性质的样本聚集在一起，**降维**将有共同性质的特征聚集在一起"
   ]
  },
  {
   "cell_type": "markdown",
   "id": "339aa3b3-6b6d-4fb9-a2c3-4d2255c8e125",
   "metadata": {},
   "source": [
    "**(1) 聚类**"
   ]
  },
  {
   "cell_type": "markdown",
   "id": "b70b688e-b5ff-4ca9-87bf-d003d28be532",
   "metadata": {},
   "source": [
    "聚类即**物以类聚，人以群分**，我们需要**从历史没有标签的数据中，发现潜在的聚集模型**，为他们手动添加上标签"
   ]
  },
  {
   "cell_type": "markdown",
   "id": "c420e55e-ac11-4fdb-a4c3-fb6766b3a577",
   "metadata": {},
   "source": [
    "例如在下面的例子中，原始数据虽然没有标签，但它们**呈现明显两种不同的聚集模式**，我们便能为它们赋予不同的标签"
   ]
  },
  {
   "cell_type": "markdown",
   "id": "c794c618-daf2-4116-a2c2-2e56fd4c0968",
   "metadata": {},
   "source": [
    "<img src=\"./source/Chap1/聚类.png\" style=\"width: 900px\" align=\"left\"/>"
   ]
  },
  {
   "cell_type": "markdown",
   "id": "f370eb24-e2fa-4a2b-a6c6-7ef5cbef0018",
   "metadata": {},
   "source": [
    "聚类可以应用在市场分割，寻找相同性质的客户；文档聚类，以实现文件系统的优化；股票聚类，构架股票池等各种方向上"
   ]
  },
  {
   "cell_type": "markdown",
   "id": "dd4e9418-929f-4786-9e65-de70f9d24828",
   "metadata": {},
   "source": [
    "**(2) 降维**"
   ]
  },
  {
   "cell_type": "markdown",
   "id": "ae49e7d8-2731-49b6-b9db-333baa74e713",
   "metadata": {},
   "source": [
    "这里介绍**主成分分析PCA**，最经典的降维无监督问题"
   ]
  },
  {
   "cell_type": "markdown",
   "id": "e95dcf84-bb9f-4396-a6b8-cd9b1e2803b1",
   "metadata": {},
   "source": [
    "当我们的数据有大量的特征，并且特征之间存在严重的**共线性**问题时，就可以使用**PCA**来从中提取出少量几个特征构成原始数据的“主要成分”，但这些主要成分却包含了几乎所有数据的有效信息"
   ]
  },
  {
   "cell_type": "markdown",
   "id": "8b2236bc-1dbd-454d-81b0-b3130e526654",
   "metadata": {},
   "source": [
    "**PCA**除了能解决回归问题中的**多重共线性**问题时，减少特征维度之外，我们还能**从主成分的构造方法中，挖掘原始数据的聚集模式**，为主成分因子**指明新的含义，构造新的指标特征**"
   ]
  },
  {
   "cell_type": "markdown",
   "id": "a7e305b8-24d8-4a85-8652-315ec5b2d76b",
   "metadata": {},
   "source": [
    "用图示表达有监督学习的过程如下："
   ]
  },
  {
   "cell_type": "markdown",
   "id": "4c673e7c-8605-4891-a907-695bbae08112",
   "metadata": {},
   "source": [
    "<img src=\"./source/Chap1/无监督学习.png\" style=\"width: 500px\" align=\"left\"/>"
   ]
  },
  {
   "cell_type": "markdown",
   "id": "711bdfe1-176f-427b-8718-ec509f2b999b",
   "metadata": {},
   "source": [
    "### **2.3 强化学习**"
   ]
  },
  {
   "cell_type": "markdown",
   "id": "a3a5e7de-ff4d-462d-955a-3cf5ad06cbf3",
   "metadata": {},
   "source": [
    "**强化学习**是用于描述和解决**智能体-agent**在与**环境**的交互过程中通过学习**策略**以达成**回报最大化**或**实现特定目标**的问题，它与有监督和无监督问题差别较大，不是本课讨论的重点"
   ]
  },
  {
   "cell_type": "markdown",
   "id": "6dc5ba85-c5d2-4c39-8fb2-4b27cdaf7832",
   "metadata": {},
   "source": [
    "强化学习的常见模型是标准的马尔可夫决策过程，强化学习理论受到行为主义心理学启发，侧重**在线学习**并试图在**探索-利用**（exploration-exploitation）间保持平衡"
   ]
  },
  {
   "cell_type": "markdown",
   "id": "071a467e-f9c2-4e79-a027-c100729cd3ae",
   "metadata": {},
   "source": [
    "不同于**有监督学习**和**无监督学习**，强化学习不要求预先给定任何数据，而是通过接收**环境**对**动作**的**奖励**（反馈）获得学习信息并更新模型参数"
   ]
  },
  {
   "cell_type": "markdown",
   "id": "7611606c-4e34-45e4-b2eb-5e05faea5c39",
   "metadata": {},
   "source": [
    "更详细的介绍可以查阅相关资料，这里不做过多赘述"
   ]
  },
  {
   "cell_type": "markdown",
   "id": "669dec6b-83c8-47c3-9a2f-1225d0ceb5b5",
   "metadata": {},
   "source": [
    "----"
   ]
  },
  {
   "cell_type": "markdown",
   "id": "7a317469-4065-40da-848d-1b8c0fa304fa",
   "metadata": {},
   "source": [
    "## **3 机器学习三要素**"
   ]
  },
  {
   "cell_type": "markdown",
   "id": "e6dae6c5-9729-40b3-b2a5-6ed0a4f8b8aa",
   "metadata": {},
   "source": [
    "机器学习包含**模型**，**策略**和**算法**作为三要素，任何机器学习问题都可以拆解为这三个部分，这有助于加深对机器学习问题和方法的理解"
   ]
  },
  {
   "cell_type": "markdown",
   "id": "cc341947-1db5-4f77-af88-d5215def54c4",
   "metadata": {},
   "source": [
    "### **3.1 模型**"
   ]
  },
  {
   "cell_type": "markdown",
   "id": "a3c72118-1142-4319-9b39-9cc65125e6f8",
   "metadata": {},
   "source": [
    "机器学习首先要考虑的是学习什么样的**模型**，或者说，考虑**模型的设计**"
   ]
  },
  {
   "cell_type": "markdown",
   "id": "c131b43e-ed99-4118-b062-f38bcdbfa968",
   "metadata": {},
   "source": [
    "在监督学习过程中，**模型**就是要学习的**决策函数** $y=f(x)$ 或者**条件概率分布** $P(y|x)$，模型的**假设空间** $\\mathcal{F}$ 是包含所有可能的条件概率分布 $P$ 或者决策函数 $f$ 的集合"
   ]
  },
  {
   "cell_type": "markdown",
   "id": "263695ab-829c-47b7-9a1f-1ab812f0ed61",
   "metadata": {},
   "source": [
    "$$\n",
    "\\mathcal{F} = \\{ f | y=f_{\\theta}(x), \\theta\\in \\Theta \\}\\quad \\text{或者}\\quad \\mathcal{F} = \\{ P | P_{\\theta}(y|x), \\theta\\in \\Theta \\}\n",
    "$$"
   ]
  },
  {
   "cell_type": "markdown",
   "id": "00c47664-83e9-4c9d-a048-895b654e5055",
   "metadata": {},
   "source": [
    "其中，$\\theta$ **代表模型的参数**，例如回归模型$y=x^T\\beta$ 中的系数 $\\beta\\in \\mathbb{R}^{p}$. 因此，**假设空间** $\\mathcal{F}$ 是一个**函数空间**"
   ]
  },
  {
   "cell_type": "markdown",
   "id": "578d0774-9105-4f47-836f-16cb8eecb930",
   "metadata": {},
   "source": [
    "$x$ 和 $y$ 是定义在**输入空间**（或**特征空间**） $\\mathcal{X}$ 和**输出空间** $\\mathcal{Y}$ 上的变量，$\\mathcal{F}$ 通常是一个由**参数向量** $\\theta$ 决定的函数族"
   ]
  },
  {
   "cell_type": "markdown",
   "id": "72475936-ad17-4480-aafd-0743129d6a14",
   "metadata": {},
   "source": [
    "### **3.2 策略**"
   ]
  },
  {
   "cell_type": "markdown",
   "id": "c33753be-2465-4117-a72f-8265e31b5ef2",
   "metadata": {},
   "source": [
    "有了模型以及对应的假设空间，机器学习接着需要考虑**按照什么样的准则**（或者称为**策略**）选择**最优的模型**，因此，**统计学习的目标在于从假设空间中选择最优模型**"
   ]
  },
  {
   "cell_type": "markdown",
   "id": "f8b3647c-c562-4e56-bf92-9ab3a41419bc",
   "metadata": {},
   "source": [
    "在机器学习问题中，我们通常用**损失函数**定量刻画模型的优度，从而制定选择模型的优化**策略**"
   ]
  },
  {
   "cell_type": "markdown",
   "id": "8d599431-b836-4c55-ab0b-6e6d298b366f",
   "metadata": {},
   "source": [
    "**损失函数的定义**：监督学习的目标是找到决策函数 $f(x)$，使得给定输入 $x$，能够得到相应的预测 $f(x)$，该值可能与真实值 $y$ 一致也可能不一致，**损失函数**（**loss**）或者**代价函数**（**cost**）用来度量**预测错误的程度**"
   ]
  },
  {
   "cell_type": "markdown",
   "id": "cd91459e-d7ac-47dc-82f5-4d20ad832761",
   "metadata": {},
   "source": [
    "因此，**loss**是预测值 $f(x)$ 与真实值 $y$ 的实值函数，即 $\\text{loss} = L\\left( y,f(x) \\right)$，通常来说，**loss的设定需满足，损失函数$L$的值越小，模型越优**"
   ]
  },
  {
   "cell_type": "markdown",
   "id": "2b03f59d-b9a6-4c18-a0dd-c24f985f7546",
   "metadata": {},
   "source": [
    "一些常见的损失函数定义如下："
   ]
  },
  {
   "cell_type": "markdown",
   "id": "9cd7c28c-e062-4ab4-b852-5dc9028aa218",
   "metadata": {},
   "source": [
    "**(1) 0-1损失函数**  \n",
    "$$\n",
    "L\\left( y,f(x)\\right) = \n",
    "\\left\\{\n",
    "\\begin{array}{ll}\n",
    "0 & y = f(x) \\\\\n",
    "1 & y \\ne f(x)\n",
    "\\end{array}\n",
    "\\right.\n",
    "$$"
   ]
  },
  {
   "cell_type": "markdown",
   "id": "026effd0-818f-453f-b154-f3d76d5e1cff",
   "metadata": {},
   "source": [
    "**(2) 平方损失**  \n",
    "$$\n",
    "L\\left(y, f(x)\\right) = \\left(y - f(x)\\right)^2\n",
    "$$"
   ]
  },
  {
   "cell_type": "markdown",
   "id": "4d8f6997-0485-47be-a1d0-422ec9c80543",
   "metadata": {},
   "source": [
    "**(3) 绝对值损失**  \n",
    "$$\n",
    "L\\left(y,f(x)\\right) = \\left| y - f(x) \\right|\n",
    "$$"
   ]
  },
  {
   "cell_type": "markdown",
   "id": "390fea0d-cb3b-406b-a0d7-e4224eb5be8f",
   "metadata": {},
   "source": [
    "当我们的模型是**预测一个概率分布**，即 $P(y|x)$，从**度量两个分布之间的距离出发**，人们推导出了**对数损失函数**"
   ]
  },
  {
   "cell_type": "markdown",
   "id": "10d7344b-0806-4911-abf6-473327740486",
   "metadata": {},
   "source": [
    "**(4) 对数损失函数**  \n",
    "$$\n",
    "L\\left(y,P(y|x)\\right) = -\\log{\\left(P(y|x)\\right)}\n",
    "$$"
   ]
  },
  {
   "cell_type": "markdown",
   "id": "ecd78db5-01fc-4784-b780-bcd72e2ca61e",
   "metadata": {},
   "source": [
    "除此之外，针对不同的模型、不同的任务，人们还设计了很多损失函数，单独介绍损失函数是空泛的，我们将在之后**结合具体的模型和实例来讨论损失函数的性质、以及如何选择或设计损失函数**"
   ]
  },
  {
   "cell_type": "markdown",
   "id": "6ba4c582-0d77-4aa1-9866-9e20eb956a0c",
   "metadata": {},
   "source": [
    "在实际建模时，考虑到我们是使用**历史数据**学习模型，然后将模型用于预测**未来数据**，我们需要引入**风险函数**和**经验风险**的概念"
   ]
  },
  {
   "cell_type": "markdown",
   "id": "405d71df-7f6d-4287-8a68-4089693f4272",
   "metadata": {},
   "source": [
    "**(A) 风险函数**"
   ]
  },
  {
   "cell_type": "markdown",
   "id": "fe8eda60-3b34-4838-899f-de1c5c98a62e",
   "metadata": {},
   "source": [
    "理论上讲，**损失函数越小越好**，假设**模型的输入和输出对 $(x,y)$ 是随机变量**，它们有**联合分布** $P(x,y)$，因此在给定某个决策函数 $f(x)$ 时，我们可以计算**损失函数 $L$ 的数学期望**"
   ]
  },
  {
   "cell_type": "markdown",
   "id": "5365f5ce-b19c-4d30-8919-75b51226b744",
   "metadata": {},
   "source": [
    "$$\n",
    "\\begin{array}{rcl}\n",
    "R_{exp}(f) & = & \\mathbb{E}_{P}\\left[ L(y,f(x)) \\right] \\\\\n",
    "& = & \\int_{\\mathcal{X}\\times \\mathcal{Y}} L\\left(y,f(x)\\right)\\cdot P(x,y) dxdy\n",
    "\\end{array}\n",
    "$$"
   ]
  },
  {
   "cell_type": "markdown",
   "id": "47bebc7b-cbb6-4768-97df-01048e3d8cf8",
   "metadata": {},
   "source": [
    "$R_{exp}(f)$ 时理论上决策函数 $f$ 关于联合分布 $P$ 的**平均损失**，称为**风险函数**（**risk**）或者**期望损失**（**expected**），下标exp就是**expected**的缩写"
   ]
  },
  {
   "cell_type": "markdown",
   "id": "2b0e3d54-ed7e-4bdc-8542-c2d79586707d",
   "metadata": {},
   "source": [
    "那么自然的，**从策略的角度出发**，我们自然能定义**最优决策函数** $f^{*}$ 了："
   ]
  },
  {
   "cell_type": "markdown",
   "id": "32c58d8f-1fd3-4ede-b5b1-105b9133b96e",
   "metadata": {},
   "source": [
    "$$\n",
    "f^*(x) = \\mathop{\\arg\\min}\\limits_{f\\in \\mathcal{F}} R_{exp}(f)\n",
    "$$"
   ]
  },
  {
   "cell_type": "markdown",
   "id": "7d068641-f75e-446b-b61c-53bb27fce268",
   "metadata": {},
   "source": [
    "**(B) 经验风险**"
   ]
  },
  {
   "cell_type": "markdown",
   "id": "2c550106-7f57-471f-95c1-966dc976a41a",
   "metadata": {},
   "source": [
    "然而现实情况是，我们**无法获得联合分布** $P(x,y)$，退而求其次，我们用**历史数据**，即**训练集数据**，构造**经验风险**（**empirical**）函数，来代替理论风险"
   ]
  },
  {
   "cell_type": "markdown",
   "id": "2001c8c8-d156-445f-bc43-f82fcf7f97b2",
   "metadata": {},
   "source": [
    "给定**训练数据集** $T=\\{ (x_1,y_1),\\cdots,(x_N,y_N) \\}$，**经验风险** $R_{emp}$ 被定义为"
   ]
  },
  {
   "cell_type": "markdown",
   "id": "f0b19279-e70e-41b7-955f-9573e22f8a6c",
   "metadata": {},
   "source": [
    "$$\n",
    "R_{emp}(f) = \\frac{1}{N} \\sum_{i=1}^{N} L\\left( y_i,f(x_i) \\right)\n",
    "$$"
   ]
  },
  {
   "cell_type": "markdown",
   "id": "10196765-0be3-4b50-848b-a0b9af122f33",
   "metadata": {},
   "source": [
    "下标emp是**empirical**的缩写，经验风险也被称为**经验损失**，此时，**最优决策函数** $f^*$ 选择稍作改变："
   ]
  },
  {
   "cell_type": "markdown",
   "id": "2f775365-3082-45d9-8c43-d822f7c4c81f",
   "metadata": {},
   "source": [
    "$$\n",
    "f^*(x) = \\mathop{\\arg\\min}\\limits_{f\\in \\mathcal{F}} R_{emp}(f)\n",
    "$$"
   ]
  },
  {
   "cell_type": "markdown",
   "id": "a582395c-d8dc-48c5-b52c-662cd9670c69",
   "metadata": {},
   "source": [
    "**经验风险最小化**通常有比较好的学习效果，但也有可能遇到例如**过度拟合**的问题，我们在下一部分介绍"
   ]
  },
  {
   "cell_type": "markdown",
   "id": "6a406bce-bac2-481b-af70-b6490b9dc191",
   "metadata": {},
   "source": [
    "### **3.3 算法**"
   ]
  },
  {
   "cell_type": "markdown",
   "id": "a6d1e167-5dd8-46be-ab8c-0d808bffd901",
   "metadata": {},
   "source": [
    "**算法**是指**学习模型的具体计算方法**，统计学习基于训练数据，根据学习**策略**，从假设空间中选择最优模型，最优需要考虑**使用什么样的计算方法求解得到最优模型**"
   ]
  },
  {
   "cell_type": "markdown",
   "id": "18ced98f-ed0e-4815-8872-c3d35d8a9b54",
   "metadata": {},
   "source": [
    "因此，到这一步，**机器学习问题将归结为最优化问题**（具体地，这是一个**极小化**问题，或者说**从函数空间中，求解极小值点的问题**），**梯度下降算法**就是一种最简单、最广泛使用的**最优化算法**"
   ]
  },
  {
   "cell_type": "markdown",
   "id": "97da7040-969d-4f3a-980e-94aa1a8e99fa",
   "metadata": {},
   "source": [
    "一般而言，不同的**模型**、不同的**策略**会使用对应的**算法**，对同一模型和同一策略，我们也可能有多种**算法**来求解最优模型"
   ]
  },
  {
   "cell_type": "markdown",
   "id": "cddba8b6-ddb3-4698-9989-070a1c4357fa",
   "metadata": {},
   "source": [
    "至此，机器学习方法的不同，主要来自于**模型**、**策略**和**算法**的不同，在学习每一个方法时，都可以将它与其他所有方法在这三个方面进行比对"
   ]
  },
  {
   "cell_type": "markdown",
   "id": "9b5192f5-66e0-4718-877d-4ab87474d6bc",
   "metadata": {},
   "source": [
    "### **3.4 以线性回归为例**"
   ]
  },
  {
   "cell_type": "markdown",
   "id": "10f45764-dfca-4765-8223-22069149cda4",
   "metadata": {},
   "source": [
    "我们将统计学中的**线性回归**问题作为最简单的**机器学习**问题来讨论，分别从**模型**，**策略**和**算法**来对其进行分析"
   ]
  },
  {
   "cell_type": "markdown",
   "id": "fbbe5c4f-bd21-40b3-8887-637809354057",
   "metadata": {},
   "source": [
    "假设**输入空间**，即**特征空间** $X$ 是 $p$ 维向量空间 $\\mathbb{R}^{p}$，我们关注的**预测变量**，或**输出空间** $Y$ 是实数 $\\mathbb{R}$"
   ]
  },
  {
   "cell_type": "markdown",
   "id": "5d4014f4-de95-498a-9b57-4a62752e9f02",
   "metadata": {},
   "source": [
    "我们拥有历史的 $N$ 个观测数据构成**训练集** $T=\\{(x_i,y_i)\\}_{i=1}^{N}$，我们希望模型在未来数据的预测表现良好"
   ]
  },
  {
   "cell_type": "markdown",
   "id": "697e5b2c-0c04-4d53-aa36-181488613ff5",
   "metadata": {},
   "source": [
    "在接下来的讨论中，我们只抓住问题的主要矛盾和处理的核心思想，而忽略一些统计上对数据和模型的假设和要求，例如**多重共线性**问题"
   ]
  },
  {
   "cell_type": "markdown",
   "id": "0e5e6ad9-be1e-4048-9f76-bd1697a08416",
   "metadata": {},
   "source": [
    "#### **3.4.1 模型**"
   ]
  },
  {
   "cell_type": "markdown",
   "id": "0506be83-eb0c-4b28-8128-3069cf9b38ff",
   "metadata": {},
   "source": [
    "**线性回归**模型假设输出变量 $y_i$ 是 $p$ 维输入变量 $x_i\\in\\mathbb{R}^{p}$ 的线性组合："
   ]
  },
  {
   "cell_type": "markdown",
   "id": "0488bba9-6d2b-4009-967a-93b5380df67a",
   "metadata": {},
   "source": [
    "$$\n",
    "y_i = x_i\\cdot \\beta = x_i^{(1)}\\cdot \\beta_1 + \\cdots + x_i^{(p)}\\cdot \\beta_p = \\sum_{k=1}^{p} x_i^{(k)}\\beta_k\n",
    "$$"
   ]
  },
  {
   "cell_type": "markdown",
   "id": "f242a396-937e-4aaf-bb2e-21f466ef1798",
   "metadata": {},
   "source": [
    "其中，$\\beta\\in\\mathbb{R}^{p}$ 是**回归系数**，即**模型参数**，据此，我们可以定义**预测函数** $f:X\\to Y$ 的形式："
   ]
  },
  {
   "cell_type": "markdown",
   "id": "f1357348-272a-4b89-88a8-2ff47b018108",
   "metadata": {},
   "source": [
    "$$\n",
    "f_{\\beta}(x) = x\\cdot \\beta = \\sum_{k=1}^{p} x^{(k)}\\cdot \\beta_k\n",
    "$$"
   ]
  },
  {
   "cell_type": "markdown",
   "id": "7b9de4e5-7670-40a4-920d-d2156b7ff363",
   "metadata": {},
   "source": [
    "模型的**假设空间** $\\mathcal{F}$ 即穷尽 $\\beta \\in\\mathbb{R}^p$ 的所有 $f_{\\beta}$ 构成的**泛函空间**："
   ]
  },
  {
   "cell_type": "markdown",
   "id": "902b832f-edcd-4817-8d81-2e7b728a21b2",
   "metadata": {},
   "source": [
    "$$\n",
    "\\mathcal{F} = \\{f_{\\beta} | y=f_{\\beta}(x),\\beta\\in\\mathbb{R}^p  \\}\n",
    "$$"
   ]
  },
  {
   "cell_type": "markdown",
   "id": "51ed0ffc-d33e-41c6-a6ce-50237a847197",
   "metadata": {},
   "source": [
    "每一个预测函数 $f_{\\beta}$ 通过参数 $\\beta\\in\\mathbb{R}^p$ 唯一确定"
   ]
  },
  {
   "cell_type": "markdown",
   "id": "3a656077-5ded-4028-a0a6-ed1c6ed12bd0",
   "metadata": {},
   "source": [
    "#### **3.4.2 策略**"
   ]
  },
  {
   "cell_type": "markdown",
   "id": "ecad6c41-adfe-42b4-b2f1-f0dff0b58621",
   "metadata": {},
   "source": [
    "对于一个回归问题而言，我们希望**预测结果 $f(x)$ 与真实标签 $y$ 尽可能接近**，例如：\n",
    "* 房价预测，估计的价格应该与真实成交价格越接近越好\n",
    "* 降水量、温度预测问题中，正确预测天气量能够为未来的出行做好准备"
   ]
  },
  {
   "cell_type": "markdown",
   "id": "0966d640-ef86-4bf5-93dc-7c9c7b9f2809",
   "metadata": {},
   "source": [
    "如何**度量预测结果和真实值之间的差异**从而构造**损失函数**呢？对于回归问题，一个最常用的选择是**均方误差**（**MSE**）"
   ]
  },
  {
   "cell_type": "markdown",
   "id": "18c8d236-a684-4a8a-beac-186d18240530",
   "metadata": {},
   "source": [
    "$$\n",
    "L_1\\left(y,f(x)\\right) = \\left( y - f(x) \\right)^2\n",
    "$$"
   ]
  },
  {
   "cell_type": "markdown",
   "id": "376ec262-a018-46ee-b059-1146d049f799",
   "metadata": {},
   "source": [
    "当然，一个更直观比较两个实数之间距离的方法，是使用**绝对值损失**："
   ]
  },
  {
   "cell_type": "markdown",
   "id": "181c51d8-a8b6-4d47-a692-b99c8235c9d0",
   "metadata": {},
   "source": [
    "$$\n",
    "L_2\\left(y,f(x)\\right) = \\left|y - f(x)\\right|\n",
    "$$"
   ]
  },
  {
   "cell_type": "markdown",
   "id": "ce12bbb2-9df9-4670-9bc8-08695df5f6f9",
   "metadata": {},
   "source": [
    "$L_1$ 与 $L_2$ 之间的差异会在后续课程的讨论中逐步揭示，下面的建模建使用均方误差 $L_1$ 进行"
   ]
  },
  {
   "cell_type": "markdown",
   "id": "b957e1ea-12ca-44ca-b207-3619e0e27d03",
   "metadata": {},
   "source": [
    "均方误差 $L_1$ 更常用的一个原因在于，它便于优化，我们将在**3.4.3**节看到它在优化方面的优势，但注意、不是所有场合使用**MSE**都是好的"
   ]
  },
  {
   "cell_type": "markdown",
   "id": "644f319e-5b37-4ac4-804e-fc45566b602e",
   "metadata": {},
   "source": [
    "下面，我们利用**训练集** $T$ 构造**经验损失** $\\ell=R_{emp}(f)$："
   ]
  },
  {
   "cell_type": "markdown",
   "id": "2764770c-7285-4c44-a8e1-6f26892119fd",
   "metadata": {},
   "source": [
    "$$\n",
    "\\ell(\\beta) = R_{emp}(f_\\beta) = \\frac{1}{N} \\sum_{i=1}^{N} \\left[ y_i - f_\\beta(x_i) \\right]^2 = \\frac{1}{N} \\sum_{i=1}^{N} \\left[ y_i - \\sum_{k=1}^{p}x_i^{(k)}\\cdot \\beta_k  \\right]^2\n",
    "$$"
   ]
  },
  {
   "cell_type": "markdown",
   "id": "fe681497-c3a0-4928-a6f8-6ebbf68095db",
   "metadata": {},
   "source": [
    "最优预测函数 $f^*$ 的选择**策略**，或者说求解模型的**优化策略**就可以构建了："
   ]
  },
  {
   "cell_type": "markdown",
   "id": "7405c7e1-d673-41f4-b139-de301b09ef95",
   "metadata": {},
   "source": [
    "$$\n",
    "f^* = \\mathop{\\arg\\min}\\limits_{f\\in\\mathcal{F}} R_{emp}(f)\\quad \\leftrightarrow \\quad \\beta^* = \\mathop{\\arg\\min}\\limits_{\\beta\\in\\mathcal{R}^p} R_{emp}(f_\\beta)\n",
    "$$"
   ]
  },
  {
   "cell_type": "markdown",
   "id": "575650df-4591-465b-bdb0-aa58f2cd3f0f",
   "metadata": {},
   "source": [
    "由于预测函数 $f$ 与参数 $\\beta$ 可以唯一确定，因此，模型的策略为求解最优参数 $\\beta^*$，使得 $f_{\\beta^*}$ 有最好的预测效果"
   ]
  },
  {
   "cell_type": "markdown",
   "id": "11e370ba-799c-4538-a5ef-be6d41794217",
   "metadata": {},
   "source": [
    "接下来，我们需要依靠**算法**来解决策略带来的最优化问题"
   ]
  },
  {
   "cell_type": "markdown",
   "id": "56792655-3d0a-4e05-82c4-8719a5ea491c",
   "metadata": {},
   "source": [
    "#### **3.4.3 算法**"
   ]
  },
  {
   "cell_type": "markdown",
   "id": "7b6e4143-b8b2-4c83-abfc-df65818d5382",
   "metadata": {},
   "source": [
    "对于线性回归这样简单的问题，有很多**算法**可以帮助我们求解 $\\beta^*$，这里介绍两种基本方法：**解析求解法**和**梯度下降法**"
   ]
  },
  {
   "cell_type": "markdown",
   "id": "d3eb5965-f9f7-4e78-b529-aab8923f6138",
   "metadata": {},
   "source": [
    "注意，在**线性回归**场景下，**算法**的核心目标，是**求解多元函数 $\\ell(\\beta)$ 的极值点**"
   ]
  },
  {
   "cell_type": "markdown",
   "id": "6308fe8c-f83e-4445-82bf-285c43c8df3a",
   "metadata": {},
   "source": [
    "**(1) 解析解方法（正规方程法）**"
   ]
  },
  {
   "cell_type": "markdown",
   "id": "27c0e06d-ea85-4e7f-b7b5-04f9f4c91022",
   "metadata": {},
   "source": [
    "善于观察的同学会发现，$\\ell(\\beta)$ 是一个关于参数 $\\beta$ 的**多项式函数**，更具体的，这就是一个**二次函数**"
   ]
  },
  {
   "cell_type": "markdown",
   "id": "c4f8b5f1-bd71-4797-912e-eefa7933088d",
   "metadata": {},
   "source": [
    "我们直接让 $\\ell$ 对 $\\beta$ 求偏导，注意这里需要一些**向量微积分**的知识："
   ]
  },
  {
   "cell_type": "markdown",
   "id": "66a2e298-8de1-4821-b7e2-ad839a6fe18f",
   "metadata": {},
   "source": [
    "$$\n",
    "\\frac{\\partial \\ell}{\\partial \\beta} = \\frac{2}{N}\\sum_{i=1}^{N} { \\left[y_i - x_i\\cdot\\beta\\right](-x_i^{T}) } \\in \\mathbb{R}^p\n",
    "$$"
   ]
  },
  {
   "cell_type": "markdown",
   "id": "28b6c0bc-5843-4dda-a50b-e207f67f5568",
   "metadata": {},
   "source": [
    "求函数极值点时，令**一阶导数等于零向量**，得到："
   ]
  },
  {
   "cell_type": "markdown",
   "id": "36c6f256-1a6e-44d9-b3ae-7183a802f9d3",
   "metadata": {},
   "source": [
    "$$\n",
    "\\sum_{i=1}^{N} { \\left[y_i - x_i\\cdot\\beta\\right]\\cdot x_i^{T} } = \\boldsymbol{0}\n",
    "\\quad \\Rightarrow\\quad \\boldsymbol{X}^T\\cdot \\left(\\boldsymbol{y} - \\boldsymbol{X}\\beta\\right) = \\boldsymbol{0} \n",
    "$$"
   ]
  },
  {
   "cell_type": "markdown",
   "id": "791b23f4-6f52-4021-bf18-f486cf38fede",
   "metadata": {},
   "source": [
    "其中，$\\boldsymbol{y}\\in\\mathbb{R}^{N\\times 1}$ 是所有标签构成的列向量，$\\boldsymbol{X}\\in \\mathbb{R}^{N\\times p}$ 是所有特征构成的矩阵："
   ]
  },
  {
   "cell_type": "markdown",
   "id": "0479f3e0-caab-498d-94d2-14766b723cd1",
   "metadata": {},
   "source": [
    "$$ \\boldsymbol{y} = \n",
    "\\left[\n",
    "\\begin{array}{c}\n",
    "y_1 \\\\ \n",
    "y_2 \\\\ \n",
    "\\vdots \\\\ \n",
    "y_N\n",
    "\\end{array}\n",
    "\\right],\\quad\n",
    "\\boldsymbol{X} = \n",
    "\\left[\n",
    "\\begin{array}{cccc}\n",
    "x_1^{(1)} & x_1^{(2)} & \\cdots & x_1^{(p)} \\\\ \n",
    "x_2^{(1)} & x_2^{(2)} & \\cdots & x_2^{(p)} \\\\ \n",
    "\\vdots & \\vdots & \\ddots & \\vdots \\\\ \n",
    "x_N^{(1)} & x_N^{(2)} & \\cdots & x_N^{(p)}\n",
    "\\end{array}\n",
    "\\right]\n",
    "$$"
   ]
  },
  {
   "cell_type": "markdown",
   "id": "b1777d27-756a-4a7e-b3ac-3d7681cf99af",
   "metadata": {},
   "source": [
    "从上式解出 $\\beta$，就得到了**正规方程**："
   ]
  },
  {
   "cell_type": "markdown",
   "id": "0c938712-63af-4956-b7ee-f9ec8ccc75b5",
   "metadata": {},
   "source": [
    "$$\n",
    "\\beta^* = (\\boldsymbol{X}^T\\boldsymbol{X})^{-1}\\boldsymbol{X}^T\\boldsymbol{y}\n",
    "$$"
   ]
  },
  {
   "cell_type": "markdown",
   "id": "2b8f7866-43e0-4629-a341-f1a604a013d5",
   "metadata": {},
   "source": [
    "在样本量 $N$ 大于 特征维度 $p$ 时，上述正规方程，能够保证 $\\boldsymbol{X}^T\\boldsymbol{X}$ 可逆"
   ]
  },
  {
   "cell_type": "markdown",
   "id": "824c5af9-4988-4424-95c8-6918fe3bd6df",
   "metadata": {},
   "source": [
    "**如何判断正规方程得到的 $\\beta^*$ 就是最优的呢？**我们可以对 $\\ell$ 求二阶导数："
   ]
  },
  {
   "cell_type": "markdown",
   "id": "65575305-4fef-4d07-a379-b64c1a47b486",
   "metadata": {},
   "source": [
    "$$\n",
    "\\frac{\\partial^2 \\ell}{\\partial \\beta^2} = -\\frac{2}{N}\\sum_{i=1}^{N} {x_i^{T} \\frac{\\partial}{\\partial \\beta}\\left[y_i - x_i\\cdot\\beta\\right]\\cdot  } = \\frac{2}{N} \\boldsymbol{X}^T \\boldsymbol{X} \\in \\mathbb{R}^{p\\times p}\n",
    "$$"
   ]
  },
  {
   "cell_type": "markdown",
   "id": "c57e3875-a57c-4e44-ab18-1750aa4c6cc5",
   "metadata": {},
   "source": [
    "**黑塞矩阵**是一个正定矩阵，因此由正规方程得到的 $\\beta^*$ 一定是最小值点"
   ]
  },
  {
   "cell_type": "markdown",
   "id": "5d452c8d-bed2-483f-be3d-90e0d44a2021",
   "metadata": {},
   "source": [
    "这不是推导**正规方程**的唯一方法，还有很多其他路径可以得到相同的结果，例如**投影算子**"
   ]
  },
  {
   "cell_type": "markdown",
   "id": "7e7e7944-1b8c-4f6d-9e69-cb623b1a59d6",
   "metadata": {},
   "source": [
    "下面的代码，实现了**正规方程**方法求解线性回归问题"
   ]
  },
  {
   "cell_type": "code",
   "execution_count": 2,
   "id": "06703884-d8ba-41d3-b769-158f8d1aec77",
   "metadata": {},
   "outputs": [],
   "source": [
    "def NormalEquationLR(X : np.ndarray, y : np.ndarray) -> np.ndarray:\n",
    "    \"\"\"\n",
    "    正规方程法求解线性回归\n",
    "    \n",
    "    Parameters\n",
    "    ----------\n",
    "    X : np.ndarray\n",
    "        输入数据，即特征，维度`(N,p)`\n",
    "    y : np.ndarray\n",
    "        真实标签，即预测值，维度`(N,)`\n",
    "    \n",
    "    Return\n",
    "    ----------\n",
    "    beta : np.ndarray\n",
    "        线性回归模型估计得到的最优回归系数，维度`(p,)`\n",
    "    \"\"\"\n",
    "    # numpy中，矩阵乘法使用符号 @ 进行\n",
    "    beta = np.linalg.inv(X.T @ X) @ X.T @ y\n",
    "    \n",
    "    return beta"
   ]
  },
  {
   "cell_type": "markdown",
   "id": "259e10a2-eabe-42c9-835e-4a96b47eeebd",
   "metadata": {},
   "source": [
    "**(2) 梯度下降法**"
   ]
  },
  {
   "cell_type": "markdown",
   "id": "d3a89311-1f7b-4a44-9314-2bd38131206c",
   "metadata": {},
   "source": [
    "**梯度下降法**是一大类最通用的最优化算法，只要关心的**目标函数可以对优化参数求导**，就可以使用**梯度下降法**"
   ]
  },
  {
   "cell_type": "markdown",
   "id": "c2d531ee-3fe0-4da4-aeee-189bfe694699",
   "metadata": {},
   "source": [
    "**梯度下降法**：设函数 $f$ 关于参数 $p$ 存在一阶导数，为了求得 $f$ 关于 $p$ 的极小值点 $p^*$，从任意初始点 $p_0$ 出发，按下式迭代：\n",
    "$$\n",
    "p_{k+1} = p_k - \\eta\\cdot \\frac{\\partial f}{\\partial p}(p_k),\\quad k=0,1,\\cdots\n",
    "$$\n",
    "直到收敛、则：\n",
    "$$\n",
    "p^* = \\lim_{k\\to \\infty} p_k\n",
    "$$"
   ]
  },
  {
   "cell_type": "markdown",
   "id": "c1fcf7cd-1095-46ea-bdb6-f105a35dc0f4",
   "metadata": {},
   "source": [
    "其中，$\\eta > 0$称为**学习率**"
   ]
  },
  {
   "cell_type": "markdown",
   "id": "1925116c-8e1b-404a-a8d8-013aa2ac98de",
   "metadata": {},
   "source": [
    "需要注意：\n",
    "* 如果函数 $f$ 关于 $p$ 凸，则梯度下降法得到的 $p^*$ 一定是**全局极小值点**\n",
    "* 如果函数 $f$ 关于 $p$ 非凸，梯度下降法得到的 $p^*$ 只能保证是一个**局部极小值点**"
   ]
  },
  {
   "cell_type": "markdown",
   "id": "82840f36-5a52-49e6-997c-b72c617d46df",
   "metadata": {},
   "source": [
    "关于**梯度下降法**的其他知识、扩展、以及理论可以查阅**统计计算**相关内容，这里不做过多介绍"
   ]
  },
  {
   "cell_type": "markdown",
   "id": "a3be9c0c-387a-417a-807b-4c6286ab0ad0",
   "metadata": {},
   "source": [
    "幸运的是，从(1)中黑塞矩阵的计算结果可以得到，线性回归的目标函数 $\\ell(\\beta)$ 是一个凸函数，因此梯度下降法能够直接得到它的全局极小值点"
   ]
  },
  {
   "cell_type": "markdown",
   "id": "f75e377c-b614-428e-8868-c7e671b36d34",
   "metadata": {},
   "source": [
    "**梯度下降法求解线性回归**：\n",
    "* **第一步**：给 $\\beta$ 一个随机的初始值 $\\beta^{(0)}\\in\\mathbb{R}^p$，设定一个**学习率** $\\eta > 0$\n",
    "* **第二步**：在满足**收敛条件**前，不断迭代：\n",
    "$$\n",
    "\\beta^{(k+1)} = \\beta^{(k)} - \\eta\\cdot \\frac{\\partial \\ell}{\\partial \\beta}(\\beta^{(k)})\n",
    "= \\beta^{(k)} + \\eta\\cdot \\frac{2}{N} \\boldsymbol{X}^T(\\boldsymbol{y} - \\boldsymbol{X}\\beta^{(k)}),\\quad k=0,1,\\cdots\n",
    "$$\n",
    "* **第三步**：**收敛条件**可以定义：为相邻两次迭代的更新量小于某个**阈值** $\\varepsilon$：时，算法收敛\n",
    "$$\n",
    "\\|\\beta^{(k+1)} - \\beta^{(k)}  \\|_2 < \\varepsilon\n",
    "$$"
   ]
  },
  {
   "cell_type": "markdown",
   "id": "668a79ed-0baf-46da-8ad5-1620a18e959f",
   "metadata": {},
   "source": [
    "下面的代码，实现了**梯度下降法**方法求解线性回归问题"
   ]
  },
  {
   "cell_type": "code",
   "execution_count": 3,
   "id": "1849336b-3c36-41ba-bc53-de2eb64214bf",
   "metadata": {},
   "outputs": [],
   "source": [
    "def GradientDescentLR(X : np.ndarray, y : np.ndarray, lr : float=0.1, eps : float=1e-8) -> np.ndarray:\n",
    "    \"\"\"\n",
    "    梯度下降法法求解线性回归\n",
    "    \n",
    "    Parameters\n",
    "    ----------\n",
    "    X : np.ndarray\n",
    "        输入数据，即特征，维度`(N,p)`\n",
    "    y : np.ndarray\n",
    "        真实标签，即预测值，维度`(N,)`\n",
    "    lr : float, optional\n",
    "        梯度下降的学习率，默认值`0.1`\n",
    "    eps : float, optional\n",
    "        算法收敛阈值，默认值`1e-8`\n",
    "    \n",
    "    Return\n",
    "    ----------\n",
    "    beta : np.ndarray\n",
    "        线性回归模型估计得到的最优回归系数，维度`(p,)`\n",
    "    \"\"\"\n",
    "    \n",
    "    # 特征维度和样本量\n",
    "    p = X.shape[1]\n",
    "    N = X.shape[0]\n",
    "    # 随机初始化 beta，使用正太随机数初始化\n",
    "    beta = np.random.randn(p)\n",
    "    # 初始化迭代误差\n",
    "    err = 1\n",
    "    \n",
    "    # 为了防止程序因无法满足阈值条件陷入循环，一般还会设置最大迭代次数保护程序\n",
    "    max_iter = 100\n",
    "    # 用 step 存储当前迭代次数\n",
    "    step = 0\n",
    "    \n",
    "    # 开始迭代，当迭代误差小于阈值，或超过最大迭代次数时，程序停止\n",
    "    while err > eps or step < max_iter:\n",
    "        # 计算提督\n",
    "        grad = (2 / N) * X.T @ (y - X @ beta)\n",
    "        # 计算下一步的 beta\n",
    "        beta_new = beta + lr * grad\n",
    "        \n",
    "        # 计算两次迭代之间的误差，使用 L2 范数\n",
    "        err = np.linalg.norm(beta_new - beta,ord=2)\n",
    "        # 更新替换 beta\n",
    "        beta = beta_new\n",
    "        \n",
    "        # 更新迭代次数\n",
    "        step = step + 1\n",
    "    \n",
    "    return beta"
   ]
  },
  {
   "cell_type": "markdown",
   "id": "5936fa21-11d6-4c5e-99f3-9a6ddcdadd0f",
   "metadata": {},
   "source": [
    "----"
   ]
  },
  {
   "cell_type": "markdown",
   "id": "6d0bdc0d-dcf4-4154-8456-498619173354",
   "metadata": {},
   "source": [
    "我们通过一个实验来测试一下两种**算法**在线性回归模型求解时的表现"
   ]
  },
  {
   "cell_type": "markdown",
   "id": "662f266c-4295-4e75-9298-bdd25c0b61cc",
   "metadata": {},
   "source": [
    "假设特征空间 $X\\in\\mathbb{R}^4$，其中**每个特征维度服从标准正态分布**，且每个**维度之间彼此独立**，这**等价于从协方差矩阵为单位矩阵的4维正态分布中采样**，训练集样本量为100，模型真正的系数向量：\n",
    "$$\n",
    "\\beta = \\left[\n",
    "\\begin{array}{c}\n",
    "1 \\\\0.5\\\\-1\\\\-0.5\n",
    "\\end{array}\\right]\n",
    "$$"
   ]
  },
  {
   "cell_type": "markdown",
   "id": "3356d0fc-6f74-4458-954c-e3685f1ad9d9",
   "metadata": {},
   "source": [
    "假设标签 $y$ 满足的模型为：\n",
    "$$\n",
    "y = x\\beta + \\varepsilon, \\quad \\varepsilon \\sim N(0,0.1^2)\n",
    "$$"
   ]
  },
  {
   "cell_type": "code",
   "execution_count": 5,
   "id": "8128e4fc-0fff-4174-ba83-d72e0e897eb0",
   "metadata": {},
   "outputs": [
    {
     "name": "stdout",
     "output_type": "stream",
     "text": [
      "正规方程法估计得到的系数为： [ 1.00507244  0.49758307 -0.99980826 -0.50612203]\n"
     ]
    }
   ],
   "source": [
    "beta_hat_ne = NormalEquationLR(X,y)\n",
    "print(\"正规方程法估计得到的系数为：\",beta_hat_ne)"
   ]
  },
  {
   "cell_type": "markdown",
   "id": "796f6506-944a-4095-aad4-9d60e0fabeed",
   "metadata": {},
   "source": [
    "下面，使用**梯度下降法**估计回归模型的系数"
   ]
  },
  {
   "cell_type": "code",
   "execution_count": 6,
   "id": "22937d92-c10c-43a0-b6e9-fe57442506aa",
   "metadata": {},
   "outputs": [
    {
     "name": "stdout",
     "output_type": "stream",
     "text": [
      "梯度下降法估计得到的系数为： [ 1.00507248  0.49758306 -0.99980824 -0.50612198]\n"
     ]
    }
   ],
   "source": [
    "beta_hat_gd = GradientDescentLR(X,y)\n",
    "print(\"梯度下降法估计得到的系数为：\",beta_hat_gd)"
   ]
  },
  {
   "cell_type": "markdown",
   "id": "0c300232-cf89-4346-9e52-820005b866ec",
   "metadata": {},
   "source": [
    "从上面的结果可以看到：\n",
    "* 由于我们为标签增加了随机噪声 $\\varepsilon$，两种方法求解得到的系数与真实系数有微小偏差\n",
    "* 两种方法得到的结果在数值上几乎没有区别"
   ]
  },
  {
   "cell_type": "markdown",
   "id": "6bc6e4c1-38ab-4ed7-ab78-e7eed5a09279",
   "metadata": {},
   "source": [
    "线性回归方法在第三方软件包`sklearn`中，已经有了很好的实现，可以通过下面的方法使用"
   ]
  },
  {
   "cell_type": "markdown",
   "id": "448a555c-e3c6-44cb-b018-d79b56d44516",
   "metadata": {},
   "source": [
    "```python\n",
    "# 导入线性回归模块\n",
    "from sklearn.linear_model import LinearRegression\n",
    "\n",
    "# 初始化模型，设定惩罚系数\n",
    "model = LinearRegression(fit_intercept=False)\n",
    "# 训练模型\n",
    "model.fit(X_train,y_train)\n",
    "\n",
    "# 进行预测\n",
    "y_hat = model.predict(X_test)\n",
    "```"
   ]
  },
  {
   "cell_type": "markdown",
   "id": "bc472faf-f2ef-46d8-badb-a7fdfa7dc806",
   "metadata": {},
   "source": [
    "具体的使用文档参见：[LinearRegression()](https://scikit-learn.org/stable/modules/generated/sklearn.linear_model.LinearRegression.html?highlight=linearregression#sklearn.linear_model.LinearRegression)"
   ]
  },
  {
   "cell_type": "markdown",
   "id": "d46c4740-eb67-4f5a-8860-29863581be1e",
   "metadata": {},
   "source": [
    "----"
   ]
  },
  {
   "cell_type": "markdown",
   "id": "9a70cd29-e0b4-4fa7-8695-1588c14a8c82",
   "metadata": {},
   "source": [
    "## **4 模型评估**"
   ]
  },
  {
   "cell_type": "markdown",
   "id": "710a60ca-0937-4fb2-9c8f-2439f54fd297",
   "metadata": {},
   "source": [
    "构建一个机器学习模型，核心目的是想让其在**未来的数据**（即训练集之外的数据）上有优秀的预测能力，我们把**训练集**之外的数据叫做**测试集**"
   ]
  },
  {
   "cell_type": "markdown",
   "id": "6b569ff9-8214-41c9-9fe6-396ccea3babe",
   "metadata": {},
   "source": [
    "前面的讨论中，我们只考虑了模型在**训练集**上的性能和表现，**策略**也都是从训练集的角度出发"
   ]
  },
  {
   "cell_type": "markdown",
   "id": "d7b818f9-c295-4487-81d0-baf8e5b447ab",
   "metadata": {},
   "source": [
    "我们将模型在**测试集**上的性能称为**泛化性能**，在**测试集**上的误差叫做**泛化误差**，我们希望得到一个**泛化能力大，泛化误差小**的模型"
   ]
  },
  {
   "cell_type": "markdown",
   "id": "ad4c582b-18eb-4be2-8dcd-941adde0fcf2",
   "metadata": {},
   "source": [
    "下面，我们将更深入的讨论模型在**训练集**和**测试集**上的性能，更深入的了解机器学习的内核"
   ]
  },
  {
   "cell_type": "markdown",
   "id": "6f906934-c0d9-4484-8605-354bbb86fc05",
   "metadata": {},
   "source": [
    "### **4.1 偏差-方差分解公式**"
   ]
  },
  {
   "cell_type": "markdown",
   "id": "b64774af-47e1-4733-9b2f-6fd1e6603d9d",
   "metadata": {},
   "source": [
    "为了引入**偏差-方差**分析，我们需要引入一些新的说明和记号，下面的讨论以回归问题为例：\n",
    "* $x$ 表示某个**测试样本**，它抽取来自总体\n",
    "* 模型训练所使用的训练集和训练集的**分布**都简单记为 $D$\n",
    "* $y$ 表示 $x$ 的**真实标签**，这里的真实是理论上**无任何偏差**的真正模型给 $x$ 赋予的标签\n",
    "* $y_O$ 表示在**数据集上**对于 $x$ 的**标记**，或者说我们**观测得到的标签**\n",
    "* $f(x;D)$ 为训练集 $D$ 上学习得到的模型 $f$ 在 $x$ 上做出的预测"
   ]
  },
  {
   "cell_type": "markdown",
   "id": "736ce5fd-138c-4b94-b0b0-620d790d62ac",
   "metadata": {},
   "source": [
    "以上一节中回归模型为例，真实标签 $y$ 满足的模型是：\n",
    "$$\n",
    "y = x\\beta\n",
    "$$"
   ]
  },
  {
   "cell_type": "markdown",
   "id": "25d96bb1-efb6-4c9a-b199-4f6af3f2fce5",
   "metadata": {},
   "source": [
    "但现实世界中，我们永远无法观测到**干净的真实标签**，往往观测数据会带有噪声：\n",
    "$$\n",
    "y_O = x\\beta + \\varepsilon_D = y + \\varepsilon_O\n",
    "$$"
   ]
  },
  {
   "cell_type": "markdown",
   "id": "6c86593b-ca71-4e8c-b0dd-41b5afe1df6f",
   "metadata": {},
   "source": [
    "**训练集**抽取来自总体，训练集 $D$ 带有随机性，因此，模型对样本 $x$ 的期望预测 $\\overline{f}$ 为：\n",
    "$$\n",
    "\\overline{f}(x) = \\mathbb{E}_D\\left[ f(x;D) \\right]\n",
    "$$"
   ]
  },
  {
   "cell_type": "markdown",
   "id": "d7938c94-f6f4-4260-8ca3-c1f2df6a5926",
   "metadata": {},
   "source": [
    "上式可以理解为，如果每次回归抽取的训练集 $D$ 不相同，估计得到的系数 $\\beta^*$ 就不同，我们会给每个样本 $x$ 以不同的预测 $f(x;D)$，对分布 $D$ 取期望，就得到了**模型对样本的期望预测** $\\overline{f}$"
   ]
  },
  {
   "cell_type": "markdown",
   "id": "b0e59f18-73de-44c0-ad0d-47df588ecf70",
   "metadata": {},
   "source": [
    "那自然，我们可以考虑**不同训练集 $D$ 带来的预测方差**：\n",
    "$$\n",
    "var(x) = \\mathbb{E}_D\\left[ \\left( f(x;D) - \\overline{f}(x)\\right)^2 \\right]\n",
    "$$"
   ]
  },
  {
   "cell_type": "markdown",
   "id": "91fad99c-cab4-45c0-9972-2e8b8b6e5836",
   "metadata": {},
   "source": [
    "**真实标签 $y$ 和观测标记 $y_O$ 的噪声**为：\n",
    "$$\n",
    "\\varepsilon^2 = \\mathbb{E}\\left[ (y_O - y)^2\\right]\n",
    "$$"
   ]
  },
  {
   "cell_type": "markdown",
   "id": "f3233ced-60cd-4eeb-a159-25ab32fd8c5f",
   "metadata": {},
   "source": [
    "假设**观测不存在系统性的误差**，则**噪声的期望应该等于0**，即：\n",
    "$$\n",
    "\\mathbb{E}\\left[ y_O - y \\right] = \\mathbb{E}[\\varepsilon_O] = 0\n",
    "$$"
   ]
  },
  {
   "cell_type": "markdown",
   "id": "76ea3287-7b23-41b4-976e-bcbc18ac5874",
   "metadata": {},
   "source": [
    "我们考虑**期望预测和真实标签**之间的预测偏差：\n",
    "$$\n",
    "bias^2(x) = \\left(y - \\overline{f}(x)\\right)^2\n",
    "$$"
   ]
  },
  {
   "cell_type": "markdown",
   "id": "0f5e4b86-bf66-414a-8019-a80908a9a616",
   "metadata": {},
   "source": [
    "下面，我们考虑**模型的期望泛化误差** $E(f;D)=\\mathbb{E}_D\\left[ \\left( y_O - f(x;D) \\right)^2 \\right]$"
   ]
  },
  {
   "cell_type": "markdown",
   "id": "fa3b5e7e-2f5a-464c-8a11-d9cc9d9694d1",
   "metadata": {},
   "source": [
    "$$\n",
    "\\begin{array}{rcl}\n",
    "E(f;D) & = & \\mathbb{E}_D\\left[ \\left( y_O - f(x;D) \\right)^2 \\right] \\\\\n",
    "& = & \\mathbb{E}_D\\left[ \\left( y_O - \\overline{f}(x) + \\overline{f}(x) - f(x;D) \\right)^2 \\right] \\\\\n",
    "& = & \\mathbb{E}_D\\left[ \\left( y_O - \\overline{f}(x) \\right)^2 \\right] + \\mathbb{E}_D\\left[ \\left( \\overline{f}(x) - f(x;D) \\right)^2 \\right] + \\mathbb{E}_D\\left[ 2\\left( y_O - \\overline{f}(x) \\right)\\left( \\overline{f}(x) - f(x;D) \\right) \\right] \\\\\n",
    "& = & var(x) + \\mathbb{E}_D\\left[ \\left( \\overline{f}(x) - y_O \\right)^2 \\right] \\\\\n",
    "& = & var(x) + \\mathbb{E}_D\\left[ \\left( \\overline{f}(x) - y + y - y_O \\right)^2 \\right] \\\\\n",
    "& = & var(x) + \\mathbb{E}_D\\left[ \\left( \\overline{f}(x) - y \\right)^2 \\right] + \\mathbb{E}_D\\left[ \\left(  y - y_O \\right)^2 \\right] + 2\\mathbb{E}_D\\left[ \\left(\\overline{f}(x) - y  \\right)(y - y_O) \\right] \\\\\n",
    "& = & var(x) + \\mathbb{E}_D\\left[ \\left( \\overline{f}(x) - y \\right)^2 \\right] + \\mathbb{E}_D\\left[ \\left(  y - y_O \\right)^2 \\right] \\\\\n",
    "& = & var(x) + bias^2(x) + \\varepsilon^2\n",
    "\\end{array}\n",
    "$$"
   ]
  },
  {
   "cell_type": "markdown",
   "id": "269c6157-1c34-4258-85ba-8342b436f714",
   "metadata": {},
   "source": [
    "上式即为**偏差-方差分解公式**，我们对分解得到的三个部分分别进行说明"
   ]
  },
  {
   "cell_type": "markdown",
   "id": "594ae4c1-6022-44e3-9805-0e4371a81577",
   "metadata": {},
   "source": [
    "**(1) 偏差项 $bias^2(x)$**"
   ]
  },
  {
   "cell_type": "markdown",
   "id": "6166801d-e9db-4600-bb4b-c3a815db8ee7",
   "metadata": {},
   "source": [
    "偏差部分 $bias^2(x)$ 是**模型期望预测与真实标签**之间的差距，通过它能判断：\n",
    "* $bias^2(x)$ 刻画**模型自身的拟合能力**\n",
    "* $bias^2(x)$ 刻画**模型的预测是否出现系统性偏差**"
   ]
  },
  {
   "cell_type": "markdown",
   "id": "67ec55da-878a-410e-9df5-7ae4a3b4eb43",
   "metadata": {},
   "source": [
    "**(2) 方差项 $var(x)$**"
   ]
  },
  {
   "cell_type": "markdown",
   "id": "a66540c7-325d-41f8-80bf-d4bd028e8051",
   "metadata": {},
   "source": [
    "方差部分 $var(x)$ 度量了**训练集变动对模型学习性能的影响**，通过它能判断：\n",
    "* **模型面对数据扰动的应对能力**，或着说**对不同分布的掌握能力**\n",
    "* **数据分布变化给模型预测带来的影响**"
   ]
  },
  {
   "cell_type": "markdown",
   "id": "d44fabfa-af6b-4ae1-ace7-b2d9c5281523",
   "metadata": {},
   "source": [
    "**(3) 噪声项 $\\varepsilon^2$**"
   ]
  },
  {
   "cell_type": "markdown",
   "id": "321d335f-4664-4292-9400-b11d651fdaa8",
   "metadata": {},
   "source": [
    "噪声部分 $\\varepsilon^2$ 度量了**模型在该机器学习任务下预测误差能达到的下界**，它表明了：\n",
    "* 这是**观测标签和真实标签之间的系统性偏差**，**不是模型能够解决的**\n",
    "* $\\varepsilon^2$ 刻画了该**机器学习问题的难度**"
   ]
  },
  {
   "cell_type": "markdown",
   "id": "94e59804-bb62-4963-af15-63026682d228",
   "metadata": {},
   "source": [
    "因此，为了**提高一个机器学习模型真实的预测能力**（即**减小泛化误差**），我们可以**偏差-方差**分解的角度入手分析，减小模型在相应部分的误差"
   ]
  },
  {
   "cell_type": "markdown",
   "id": "c89b18a5-b08d-4963-b93a-0b924212a77e",
   "metadata": {},
   "source": [
    "上面的讨论可能还是有些抽象，下面的多项式回归的例子，以及后续关于机器学习内容、实验的讨论将会不断加深对这个公式的理解"
   ]
  },
  {
   "cell_type": "markdown",
   "id": "e8c65b28-3c50-4f34-b3ac-d2984cd59292",
   "metadata": {},
   "source": [
    "### **4.2 模型评估（Metrics）**"
   ]
  },
  {
   "cell_type": "markdown",
   "id": "9bccac1c-359e-4635-9d61-51c12cb53168",
   "metadata": {},
   "source": [
    "在构建机器学习**策略**时，我们提出过**损失函数**的概念，而在评估模型在**测试集**上的表现时，我们可能就不再使用**loss**了，这是因为：\n",
    "* **损失函数主要度量模型在训练集上的表现**\n",
    "* 出于优化的考虑，我们尽可能会设计**损失函数是简单的凸函数**\n",
    "* 真实的业务和应用评估指标可能很复杂，**损失函数只保证模型向着正确的方向靠近**"
   ]
  },
  {
   "cell_type": "markdown",
   "id": "027319f3-b2fd-40c7-8c34-86cfdb7ee1f6",
   "metadata": {},
   "source": [
    "在评估模型的真实表现时，与损失函数类似，我们会使用一个**度量**（**Metric**） $M$，它是关于标签 $y$ 和预测值 $f(x)$ 的二元函数"
   ]
  },
  {
   "cell_type": "markdown",
   "id": "eb847acb-f97b-41e0-9a7b-a8e687241dc9",
   "metadata": {},
   "source": [
    "**(1) 回归问题**"
   ]
  },
  {
   "cell_type": "markdown",
   "id": "9f4344da-0db9-4116-b35d-ed7b72192a1b",
   "metadata": {},
   "source": [
    "以下是几个常见的回归问题的评估函数："
   ]
  },
  {
   "cell_type": "markdown",
   "id": "b3e0435e-539f-4d7c-8ebe-79929f145791",
   "metadata": {},
   "source": [
    "**均方误差MSE（Mean Square Error）**：\n",
    "$$\n",
    "M\\left(y,f(x)\\right) = \\frac{1}{N}\\sum_{i=1}^{N} \\left(y_i - f(x_i)\\right)^2\n",
    "$$"
   ]
  },
  {
   "cell_type": "markdown",
   "id": "58575acc-ab45-491f-b4c7-218927496e95",
   "metadata": {},
   "source": [
    "**最大绝对偏差MAE（Max Absolute  Error）**：\n",
    "$$\n",
    "M\\left(y,f(x)\\right) = \\max_{i} \\left|y_i - f(x_i)\\right|\n",
    "$$"
   ]
  },
  {
   "cell_type": "markdown",
   "id": "4215c7cc-912e-49bc-8e8d-f03f3df1d0b6",
   "metadata": {},
   "source": [
    "最大绝对偏差可以用来衡量模型的最坏程度"
   ]
  },
  {
   "cell_type": "markdown",
   "id": "455e9500-32f0-4a98-bd2d-d22ada4e861c",
   "metadata": {},
   "source": [
    "**平均绝对百分比偏差MAPE（Mean Absolute Percentage Error）**：\n",
    "$$\n",
    "M\\left(y,f(x)\\right) = \\frac{1}{N} \\sum_{i=1}^{N} \\left| \\frac{y_i - f(x_i)}{y_i}\\right|\n",
    "$$"
   ]
  },
  {
   "cell_type": "markdown",
   "id": "234be982-2030-4b14-91c6-4c5a82b7b4e6",
   "metadata": {},
   "source": [
    "当我们不关心预测的绝对偏差，而是关心预测错了百分之多少时，MAPE将是一个不错的评估指标"
   ]
  },
  {
   "cell_type": "markdown",
   "id": "5cb58311-4410-4229-8bac-d0c4e2087e4e",
   "metadata": {},
   "source": [
    "**(2) 分类问题**"
   ]
  },
  {
   "cell_type": "markdown",
   "id": "7d521753-a1a2-4e1d-99a1-df8f0c8241be",
   "metadata": {},
   "source": [
    "最常用最简单的评估指标是准确率："
   ]
  },
  {
   "cell_type": "markdown",
   "id": "ee052350-9fad-4663-b822-b527b5490094",
   "metadata": {},
   "source": [
    "**准确率ACC（Accuracy）**：\n",
    "$$\n",
    "M\\left(y,f(x)\\right) = \\frac{1}{N} \\sum_{i=1}^{N} \\mathbb{I}\\{y_i = f(x_i)\\}\n",
    "$$"
   ]
  },
  {
   "cell_type": "markdown",
   "id": "1b93eed5-9b9d-4f79-9bdd-4de9e61903de",
   "metadata": {},
   "source": [
    "如果出现了**样本不平衡**问题，**准确率将是一个不可靠的指标**（为什么？），此时我们可能会更关心**测准率**，**召回率**，或者**F1-Score**"
   ]
  },
  {
   "cell_type": "markdown",
   "id": "518fb350-b9ce-4991-a337-bba16975de6a",
   "metadata": {},
   "source": [
    "关于分类问题的评价指标，我们将在第二章关于**逻辑回归**的内容中再详细讨论"
   ]
  },
  {
   "cell_type": "markdown",
   "id": "67e65a05-1b05-4386-8eec-445bd8b81029",
   "metadata": {},
   "source": [
    "### **4.3 欠拟合和过拟合**"
   ]
  },
  {
   "cell_type": "markdown",
   "id": "f05be219-3f05-44c9-ab36-71a5b788c16d",
   "metadata": {},
   "source": [
    "我们用一个经典的**多项式回归**的例子，来说明欠拟合和过拟合，同时结合**4.1**节中的**偏差-方差分解公式**进行分析"
   ]
  },
  {
   "cell_type": "markdown",
   "id": "e292aa04-33e4-4b47-902b-848d33025e45",
   "metadata": {},
   "source": [
    "首先假设，**真实模型**为：\n",
    "$$\n",
    "y = x^2, \\quad x\\in (-1,1)\n",
    "$$"
   ]
  },
  {
   "cell_type": "markdown",
   "id": "798077c0-223a-40ce-8086-5d297dca96fb",
   "metadata": {},
   "source": [
    "然而在采集和观测过程中，我们会因为各种原因（例如现实中设备、传输等），**观测到的标签具有噪声**，因此实际建模时，我们考虑：\n",
    "$$\n",
    "y = x^2 + \\varepsilon,\\quad \\varepsilon \\sim N(0,\\sigma^2)\n",
    "$$"
   ]
  },
  {
   "cell_type": "markdown",
   "id": "7786a748-cb5a-4bea-b14c-8f629189199e",
   "metadata": {},
   "source": [
    "我们用代码模拟生成20个样本作为训练集，20个信号作为测试集，$x$ 从 $(-1,1)$ 的均匀分布中采样"
   ]
  },
  {
   "cell_type": "code",
   "execution_count": 7,
   "id": "309cd1f7-9b1d-47c7-b98d-fcbdd77612c7",
   "metadata": {},
   "outputs": [],
   "source": [
    "def GenerateData(sigma=0.1):\n",
    "    \"\"\"\n",
    "    训练数据和测试数据生成函数\n",
    "    \n",
    "    Parameters\n",
    "    ----------\n",
    "    sigma : float, optional\n",
    "        控制噪声的标准差，默认值为`0.1`\n",
    "    \n",
    "    Return\n",
    "    ----------\n",
    "    (X_train, y_train, X_test, y_test) : tuple\n",
    "        返回生成的训练特征、训练标签、测试特征、测试标签\n",
    "    \"\"\"\n",
    "    \n",
    "    # 生成 (-1,1) 中的均匀分布\n",
    "    X = np.random.uniform(-1,1,40)\n",
    "    # 生成噪声\n",
    "    noise = np.random.normal(0, sigma, 40)\n",
    "    # 生成标签\n",
    "    y = X*X + noise\n",
    "    \n",
    "    # 将前 20 个样本作为训练集，后 20 个作为测试集\n",
    "    X_train, y_train = X[0:20], y[0:20]\n",
    "    X_test, y_test = X[20:40], y[20:40]\n",
    "    \n",
    "    return X_train, y_train, X_test, y_test"
   ]
  },
  {
   "cell_type": "code",
   "execution_count": 8,
   "id": "9c0f1031-6fab-43f1-866e-3eaf46743556",
   "metadata": {},
   "outputs": [],
   "source": [
    "# 调用函数，生成训练集和测试集\n",
    "X_train, y_train, X_test, y_test = GenerateData(sigma=0.3)"
   ]
  },
  {
   "cell_type": "markdown",
   "id": "77a22ac2-55a6-439d-97e0-5f4da8afec4f",
   "metadata": {},
   "source": [
    "用散点图可视化训练集数据的分布"
   ]
  },
  {
   "cell_type": "code",
   "execution_count": 9,
   "id": "ed65d6c7-5e9a-4e84-be43-b854b77ef4fc",
   "metadata": {},
   "outputs": [
    {
     "data": {
      "text/plain": [
       "Text(0, 0.5, 'y')"
      ]
     },
     "execution_count": 9,
     "metadata": {},
     "output_type": "execute_result"
    },
    {
     "data": {
      "image/png": "[encoded data removed]",
      "text/plain": [
       "<Figure size 640x400 with 1 Axes>"
      ]
     },
     "metadata": {
      "needs_background": "light"
     },
     "output_type": "display_data"
    }
   ],
   "source": [
    "fig = plt.figure(figsize=(8,5),dpi=80)\n",
    "plt.scatter(X_train,y_train,c=\"blue\")\n",
    "plt.xlabel(\"X\")\n",
    "plt.ylabel(\"y\")"
   ]
  },
  {
   "cell_type": "markdown",
   "id": "5e4a8630-e875-4c12-aeec-525164b7025e",
   "metadata": {},
   "source": [
    "来看下面的实验，请关注**训练集和测试集的MSE**"
   ]
  },
  {
   "cell_type": "markdown",
   "id": "13f4abd0-38c8-43a6-9390-617db1265818",
   "metadata": {},
   "source": [
    "----"
   ]
  },
  {
   "cell_type": "markdown",
   "id": "b79f9dd7-dd2f-422b-a1a6-94e37895f72a",
   "metadata": {},
   "source": [
    "**(1) 用一次多项式建模**"
   ]
  },
  {
   "cell_type": "markdown",
   "id": "366035e1-55dd-4496-961f-6d92997881c5",
   "metadata": {},
   "source": [
    "在这种情况下，我们模型的假设空间为：\n",
    "$$\n",
    "\\mathcal{F} = \\{f|y=f(x)=a_0 + a_1 x, a_0,a_1\\in\\mathbb{R}\\}\n",
    "$$"
   ]
  },
  {
   "cell_type": "markdown",
   "id": "e679e4d9-0b22-4801-a3c2-57c19f5a1054",
   "metadata": {},
   "source": [
    "我们**在特征的基础上增加一列常数 1，然后使用前面的正规方程法，就可以求解得到最优的回归系数**"
   ]
  },
  {
   "cell_type": "code",
   "execution_count": 10,
   "id": "cb679184-f696-4411-93ea-849c8606a6d6",
   "metadata": {},
   "outputs": [
    {
     "name": "stdout",
     "output_type": "stream",
     "text": [
      "估计得到的系数： [0.47762007 0.03947136]\n"
     ]
    }
   ],
   "source": [
    "# 添加常数项 1\n",
    "X = np.vstack([np.ones_like(X_train),X_train]).T\n",
    "beta_hat_1 = NormalEquationLR(X,y_train)\n",
    "# 计算训练集 mse\n",
    "mse_train = np.mean((X @ beta_hat_1 - y_train)**2)\n",
    "print(\"估计得到的系数：\",beta_hat_1)"
   ]
  },
  {
   "cell_type": "markdown",
   "id": "aad279b1-c2c8-4b94-8a8b-111425c9e14b",
   "metadata": {},
   "source": [
    "下面，将估计得到的系数用于预测，看看模型在测试集上的表现，评估指标使用**MSE**"
   ]
  },
  {
   "cell_type": "code",
   "execution_count": 11,
   "id": "42bcc594-3003-4dd3-9408-8dab48c75aaf",
   "metadata": {},
   "outputs": [
    {
     "name": "stdout",
     "output_type": "stream",
     "text": [
      "训练集均方误差： 0.16528647753449588\n",
      "测试集均方误差： 0.20340472191460904\n"
     ]
    },
    {
     "data": {
      "text/plain": [
       "<matplotlib.legend.Legend at 0x7fdaedb7bd00>"
      ]
     },
     "execution_count": 11,
     "metadata": {},
     "output_type": "execute_result"
    },
    {
     "data": {
      "image/png": "[encoded data removed]",
      "text/plain": [
       "<Figure size 640x400 with 1 Axes>"
      ]
     },
     "metadata": {
      "needs_background": "light"
     },
     "output_type": "display_data"
    }
   ],
   "source": [
    "# 添加常数项 1\n",
    "X = np.vstack([np.ones_like(X_test),X_test]).T\n",
    "# 进行预测\n",
    "y_hat = X @ beta_hat_1\n",
    "\n",
    "# 计算测试集 MSE\n",
    "mse_test = np.mean((y_hat - y_test)**2)\n",
    "print(\"训练集均方误差：\",mse_train)\n",
    "print(\"测试集均方误差：\",mse_test)\n",
    "\n",
    "# 绘图\n",
    "fig = plt.figure(figsize=(8,5),dpi=80)\n",
    "# 采样网格，用于绘制模型\n",
    "x_samples = np.linspace(-1,1,50)\n",
    "y_samples = np.vstack([np.ones_like(x_samples),x_samples]).T @ beta_hat_1\n",
    "\n",
    "plt.plot(x_samples,y_samples,c=\"red\",label=\"学习得到的模型\")\n",
    "plt.scatter(X_train,y_train,c=\"green\",label=\"训练集样本\")\n",
    "plt.scatter(X_test,y_test,c=\"blue\",label=\"测试集样本\")\n",
    "plt.scatter(X_test,y_hat,c=\"magenta\",label=\"测试集预测\")\n",
    "plt.xlabel(\"X\")\n",
    "plt.ylabel(\"y\")\n",
    "plt.legend()"
   ]
  },
  {
   "cell_type": "markdown",
   "id": "32bdbafc-ab84-4318-afbe-a05cedf04b40",
   "metadata": {},
   "source": [
    "一个简单的模型可能会出现**欠拟合**的问题，此时训练集和测试集的MSE都偏大，**泛化误差主要来自 $bias^2(x)$ 一项**"
   ]
  },
  {
   "cell_type": "markdown",
   "id": "2640c255-a595-484b-ac37-67d3fc89f462",
   "metadata": {},
   "source": [
    "**(2) 用二次多项式建模**"
   ]
  },
  {
   "cell_type": "markdown",
   "id": "186d2ad8-115f-47ba-8373-9cd8746ccca8",
   "metadata": {},
   "source": [
    "在这种情况下，我们模型的假设空间为：\n",
    "$$\n",
    "\\mathcal{F} = \\{f|y=f(x)=a_0 + a_1 x + a_2x^2, a_0,a_1,a_2\\in\\mathbb{R}\\}\n",
    "$$"
   ]
  },
  {
   "cell_type": "markdown",
   "id": "c37e9b27-bb31-4b7b-9efc-642c6cc5bfde",
   "metadata": {},
   "source": [
    "**参数增加，往往代表模型变得复杂，相应的学习能力也会更强，参数数量是可以作为衡量模型复杂程度的一个指标**"
   ]
  },
  {
   "cell_type": "markdown",
   "id": "f1174743-6ec1-457e-8e23-854b8cb628ee",
   "metadata": {},
   "source": [
    "其他流程与上文相同，这里不做过多叙述"
   ]
  },
  {
   "cell_type": "code",
   "execution_count": 12,
   "id": "c140aa67-0844-4a4d-b318-6a5b56f48999",
   "metadata": {},
   "outputs": [
    {
     "name": "stdout",
     "output_type": "stream",
     "text": [
      "估计得到的系数： [ 0.14109464 -0.09905675  0.93921316]\n"
     ]
    }
   ],
   "source": [
    "# 添加常数项 1 和平方项\n",
    "X = np.vstack([np.ones_like(X_train),X_train,X_train**2]).T\n",
    "beta_hat_2 = NormalEquationLR(X,y_train)\n",
    "# 计算训练集 mse\n",
    "mse_train = np.mean((X @ beta_hat_2 - y_train)**2)\n",
    "print(\"估计得到的系数：\",beta_hat_2)"
   ]
  },
  {
   "cell_type": "code",
   "execution_count": 13,
   "id": "45e15945-992f-44ec-a8af-579a30b51c80",
   "metadata": {},
   "outputs": [
    {
     "name": "stdout",
     "output_type": "stream",
     "text": [
      "训练集均方误差： 0.08213495567510597\n",
      "测试集均方误差： 0.0715486869489338\n"
     ]
    },
    {
     "data": {
      "text/plain": [
       "<matplotlib.legend.Legend at 0x7fdaedb0c8b0>"
      ]
     },
     "execution_count": 13,
     "metadata": {},
     "output_type": "execute_result"
    },
    {
     "data": {
      "image/png": "[encoded data removed]",
      "text/plain": [
       "<Figure size 640x400 with 1 Axes>"
      ]
     },
     "metadata": {
      "needs_background": "light"
     },
     "output_type": "display_data"
    }
   ],
   "source": [
    "# 添加常数项 1 和平方项\n",
    "X = np.vstack([np.ones_like(X_test),X_test,X_test**2]).T\n",
    "# 进行预测\n",
    "y_hat = X @ beta_hat_2\n",
    "\n",
    "# 计算 MSE\n",
    "mse_test = np.mean((y_hat - y_test)**2)\n",
    "print(\"训练集均方误差：\",mse_train)\n",
    "print(\"测试集均方误差：\",mse_test)\n",
    "\n",
    "# 绘图\n",
    "fig = plt.figure(figsize=(8,5),dpi=80)\n",
    "# 采样网格，用于绘制模型\n",
    "x_samples = np.linspace(-1,1,50)\n",
    "y_samples = np.vstack([np.ones_like(x_samples),x_samples,x_samples**2]).T @ beta_hat_2\n",
    "\n",
    "plt.plot(x_samples,y_samples,c=\"red\",label=\"学习得到的模型\")\n",
    "plt.scatter(X_train,y_train,c=\"green\",label=\"训练集样本\")\n",
    "plt.scatter(X_test,y_test,c=\"blue\",label=\"测试集样本\")\n",
    "plt.scatter(X_test,y_hat,c=\"magenta\",label=\"测试集预测\")\n",
    "plt.xlabel(\"X\")\n",
    "plt.ylabel(\"y\")\n",
    "plt.legend()"
   ]
  },
  {
   "cell_type": "markdown",
   "id": "079b3771-7668-4a90-abc4-eb95b00469b4",
   "metadata": {},
   "source": [
    "从**MSE**可以看到，**模型的泛化误差大幅减小**，训练集和测试集的MSE都明显减小，**偏差-方差取得平衡**"
   ]
  },
  {
   "cell_type": "markdown",
   "id": "1db30b7d-8094-4e40-a776-42d009ab9512",
   "metadata": {},
   "source": [
    "**(3) 用10次多项式建模**"
   ]
  },
  {
   "cell_type": "markdown",
   "id": "71473bdf-2a59-4417-b03d-66dd5b796069",
   "metadata": {},
   "source": [
    "在这种情况下，我们模型的假设空间为：\n",
    "$$\n",
    "\\mathcal{F} = \\{f|y=f(x)=a_0 + a_1 x + a_2x^2 + \\cdots + a_{10}x^{10}, a_0,a_1,\\cdots,a_{10}\\in\\mathbb{R}\\}\n",
    "$$"
   ]
  },
  {
   "cell_type": "markdown",
   "id": "e8701987-81be-4666-a493-628a7caca5ec",
   "metadata": {},
   "source": [
    "**参数增加，模型的复杂度进一步提高，学习能力更强**，但这容易出现**过拟合**问题"
   ]
  },
  {
   "cell_type": "code",
   "execution_count": 14,
   "id": "996963ab-4881-407c-9576-3a08d958bb7b",
   "metadata": {},
   "outputs": [
    {
     "name": "stdout",
     "output_type": "stream",
     "text": [
      "估计得到的系数： [ 8.15111508e-02 -2.95394516e-02  5.75681298e+00  4.92370010e+00\n",
      " -2.25886045e+01 -3.40674801e+01  1.87275111e+01  6.72761409e+01\n",
      "  1.76984686e+01 -3.93322360e+01 -1.93055438e+01]\n"
     ]
    }
   ],
   "source": [
    "# 添加常数项 1 和其他高阶项\n",
    "X = np.vstack([np.ones_like(X_train)] + [X_train**i for i in range(1,11)]).T\n",
    "beta_hat_3 = NormalEquationLR(X,y_train)\n",
    "# 计算训练集 mse\n",
    "mse_train = np.mean((X @ beta_hat_3 - y_train)**2)\n",
    "print(\"估计得到的系数：\",beta_hat_3)"
   ]
  },
  {
   "cell_type": "code",
   "execution_count": 15,
   "id": "756d6f30-7589-4c5f-b980-9bc6416d5710",
   "metadata": {},
   "outputs": [
    {
     "name": "stdout",
     "output_type": "stream",
     "text": [
      "训练集均方误差： 0.020983842853445504\n",
      "测试集均方误差： 0.10214825224131618\n"
     ]
    },
    {
     "data": {
      "text/plain": [
       "<matplotlib.legend.Legend at 0x7fdaeda7f520>"
      ]
     },
     "execution_count": 15,
     "metadata": {},
     "output_type": "execute_result"
    },
    {
     "data": {
      "image/png": "[encoded data removed]",
      "text/plain": [
       "<Figure size 640x400 with 1 Axes>"
      ]
     },
     "metadata": {
      "needs_background": "light"
     },
     "output_type": "display_data"
    }
   ],
   "source": [
    "# 添加常数项 1 和平方项\n",
    "X = np.vstack([np.ones_like(X_test)] + [X_test**i for i in range(1,11)]).T\n",
    "# 进行预测\n",
    "y_hat = X @ beta_hat_3\n",
    "\n",
    "# 计算 MSE\n",
    "mse_test = np.mean((y_hat - y_test)**2)\n",
    "print(\"训练集均方误差：\",mse_train)\n",
    "print(\"测试集均方误差：\",mse_test)\n",
    "\n",
    "# 绘图\n",
    "fig = plt.figure(figsize=(8,5),dpi=80)\n",
    "# 采样网格，用于绘制模型\n",
    "x_samples = np.linspace(-1,1,50)\n",
    "y_samples = np.vstack([np.ones_like(x_samples)] + [x_samples**i for i in range(1,11)]).T @ beta_hat_3\n",
    "\n",
    "plt.plot(x_samples,y_samples,c=\"red\",label=\"学习得到的模型\")\n",
    "plt.scatter(X_train,y_train,c=\"green\",label=\"训练集样本\")\n",
    "plt.scatter(X_test,y_test,c=\"blue\",label=\"测试集样本\")\n",
    "plt.scatter(X_test,y_hat,c=\"magenta\",label=\"测试集预测\")\n",
    "plt.xlabel(\"X\")\n",
    "plt.ylabel(\"y\")\n",
    "plt.legend()"
   ]
  },
  {
   "cell_type": "markdown",
   "id": "d7e53e28-2363-4726-9d48-3c77625f181f",
   "metadata": {},
   "source": [
    "在**过拟合**情况下，模型的**泛化误差主要来自于$var(x)$一项**，此时**训练集MSE非常小，但测试集MSE非常大**"
   ]
  },
  {
   "cell_type": "markdown",
   "id": "ca51dc58-6417-4411-94b3-209b3367f266",
   "metadata": {},
   "source": [
    "----"
   ]
  },
  {
   "cell_type": "markdown",
   "id": "4464f071-fed2-48d3-b315-fef0aaf3ba4f",
   "metadata": {},
   "source": [
    "我们来总结一下**欠拟合**和**过拟合**：\n",
    "* 当**模型过于简单**时，模型**拟合能力差**，无法掌握有效的知识，此时**欠拟合**，泛化误差中 $bias^2(x)$ 占主导\n",
    "* 当**模型过于复杂**时，模型**拟合能力过强**，容易“学偏了”，就像考试前**背模拟考的答案**，此时**过拟合**，泛化误差中 $var(x)$ 占主导\n",
    "* 一个好的模型，需要**在偏差和方差中找到平衡**"
   ]
  },
  {
   "cell_type": "markdown",
   "id": "0f38995e-3f14-441d-b0b8-99a47ea3647f",
   "metadata": {},
   "source": [
    "用一个图形象的表示上述过程，横轴代表**模型复杂度**，纵轴表示**模型评估指标**，则："
   ]
  },
  {
   "cell_type": "markdown",
   "id": "9a138107-0e54-4072-a5e7-7e965647a321",
   "metadata": {},
   "source": [
    "<img src=\"./source/Chap1/欠拟合和过拟合.png\" style=\"width: 500px\" align=\"left\"/>"
   ]
  },
  {
   "cell_type": "markdown",
   "id": "2038568b-c289-4daa-b1c8-2f05a81e293f",
   "metadata": {},
   "source": [
    "最后，我们简单讨论一下**偏差-方差分解公式**中的系统误差（噪声）部分 $\\varepsilon^2$，仍然以上面的多项式回归例子，如果我们设定：\n",
    "$$\n",
    "\\varepsilon \\sim N(0,5^2)\n",
    "$$"
   ]
  },
  {
   "cell_type": "markdown",
   "id": "8f77cac6-d1aa-4bdc-ae28-ef374285dd6f",
   "metadata": {},
   "source": [
    "生成的数据效果将如下所示："
   ]
  },
  {
   "cell_type": "code",
   "execution_count": 16,
   "id": "d021317f-28e3-4c12-aea1-3f24d1f28e05",
   "metadata": {},
   "outputs": [
    {
     "data": {
      "text/plain": [
       "<matplotlib.legend.Legend at 0x7fdaeda09ca0>"
      ]
     },
     "execution_count": 16,
     "metadata": {},
     "output_type": "execute_result"
    },
    {
     "data": {
      "image/png": "[encoded data removed]",
      "text/plain": [
       "<Figure size 640x400 with 1 Axes>"
      ]
     },
     "metadata": {
      "needs_background": "light"
     },
     "output_type": "display_data"
    }
   ],
   "source": [
    "# 调用函数，生成训练集和测试集，设置噪声标准差为 5\n",
    "X_train, y_train, X_test, y_test = GenerateData(sigma=5)\n",
    "\n",
    "# 绘图\n",
    "fig = plt.figure(figsize=(8,5),dpi=80)\n",
    "plt.scatter(X_train,y_train,c=\"blue\",label=\"训练数据集\")\n",
    "plt.scatter(X_test,y_test,c=\"red\",label=\"测试数据集\")\n",
    "plt.xlabel(\"X\")\n",
    "plt.ylabel(\"y\")\n",
    "plt.legend()"
   ]
  },
  {
   "cell_type": "markdown",
   "id": "30eeb9ce-c80c-420f-a1c0-888cfe791e66",
   "metadata": {},
   "source": [
    "此时数据**杂乱无章**，用**任何模型都无法学习到有效的知识**，因此，**噪声项 $\\varepsilon^2$ 可以用来衡量机器学习问题的难度**"
   ]
  },
  {
   "cell_type": "markdown",
   "id": "18bcdd63-749f-461c-99e8-697a9006079c",
   "metadata": {},
   "source": [
    "关于**模型选择**，以及欠拟合、过拟合的判断，还有**如何解决欠拟合和过拟合**的问题，属于**模型诊断**的内容，我们将在后面的课程中继续深入讨论"
   ]
  },
  {
   "cell_type": "markdown",
   "id": "e967f113-69a5-4016-abda-dc2db6864a44",
   "metadata": {
    "tags": []
   },
   "source": [
    "### **4.4 “没有免费的午餐”**"
   ]
  },
  {
   "cell_type": "markdown",
   "id": "d0a38296-8770-44ef-9beb-7114b8bd7242",
   "metadata": {},
   "source": [
    "学习机器学习，需要牢记以下几点：\n",
    "* 学习机器学习方法的目的是为了了解**算法的原理**和**适用范围**\n",
    "* 理论上，**没有一致最优的算法**\n",
    "* **脱离实际情况，空谈哪个算法好是没有意义的**\n",
    "* 要学会针对具体问题，分析和比较不同的机器学习算法"
   ]
  },
  {
   "cell_type": "markdown",
   "id": "11aa62c9-ac83-414b-aaff-b42b1726fac9",
   "metadata": {},
   "source": [
    "----"
   ]
  },
  {
   "cell_type": "markdown",
   "id": "57e94af6-ec93-49ea-b917-974cb7ae45d2",
   "metadata": {},
   "source": [
    "## **练习**"
   ]
  },
  {
   "cell_type": "markdown",
   "id": "47790ca7-81e5-4147-aa4a-fee7eb163a56",
   "metadata": {},
   "source": [
    "1. 尝试举出一些分类、回归、有监督、无监督机器学习任务的例子"
   ]
  },
  {
   "cell_type": "markdown",
   "id": "184ac9e8-9319-4840-9bcd-2dbe37591d91",
   "metadata": {},
   "source": [
    "2. 假设一维随机变量 $X\\sim F(x)$，$F(x)$ 是分布函数，考虑下面的问题："
   ]
  },
  {
   "cell_type": "markdown",
   "id": "d14eeb33-69f6-4d74-9b5c-7b670978e1f5",
   "metadata": {},
   "source": [
    "(1) 考虑平方损失函数 $L_2(t) = t^2$，证明：\n",
    "$$\n",
    "\\mathbb{E}[X] = \\mathop{\\arg\\min}\\limits_{\\theta\\in\\mathbb{R}} \\mathbb{E}\\left[ L_2\\left(X-\\theta\\right)\\right]\n",
    "$$"
   ]
  },
  {
   "cell_type": "markdown",
   "id": "28097c7a-b431-45b6-958d-9d9f660fe2d8",
   "metadata": {},
   "source": [
    "(2) 考虑分位数损失函数 $L_\\tau(t) = t\\cdot (\\tau - \\mathbb{I}\\{t \\leq 0\\})$，其中，$\\tau\\in (0,1)$，证明：\n",
    "$$\n",
    "m_\\tau = \\mathop{\\arg\\min}\\limits_{\\theta\\in\\mathbb{R}} \\mathbb{E}\\left[ L_\\tau\\left(X-\\theta\\right)\\right]\n",
    "$$\n",
    "其中，$m_\\tau$ 表示 $X$ 的 $\\tau-$ 分位数，即 $P(X\\leq m_\\tau) = \\tau$"
   ]
  },
  {
   "cell_type": "code",
   "execution_count": null,
   "id": "dd817e4e-8c24-47e2-9ba2-19a7ab778925",
   "metadata": {},
   "outputs": [],
   "source": []
  },
  {
   "cell_type": "markdown",
   "id": "36b98d27-35da-48f7-9c20-c1664570d62a",
   "metadata": {},
   "source": [
    "(3) 给出(1)，以及(2)中 $\\tau = 0.5$ 时定理结果的直观解释"
   ]
  },
  {
   "cell_type": "markdown",
   "id": "122fd0c7-4d08-4abb-a393-a8e51aaf3794",
   "metadata": {},
   "source": [
    "3. (**编程练习**) 在线性回归问题中，人们提出了一种**缓解过拟合**的方法，即对回归系数的大小做“惩罚”，具体来说，在原有线性回归模型框架的基础上，修改模型的**损失函数**为：\n",
    "$$\n",
    "\\ell(\\beta) = R_{emp}(f_\\beta) = \\frac{1}{N} \\sum_{i=1}^{N} \\left[ y_i - f_\\beta(x_i) \\right]^2 + \\lambda\\cdot \\|\\beta\\|_2^2 = \\frac{1}{N} \\sum_{i=1}^{N} \\left[ y_i - f_\\beta(x_i) \\right]^2 + \\lambda\\cdot \\sum_{k=1}^{p} \\beta_k^2\n",
    "$$"
   ]
  },
  {
   "cell_type": "markdown",
   "id": "209f9c88-3ae3-4cd3-8a80-af142ef5541a",
   "metadata": {},
   "source": [
    "即在原有损失函数的基础上，加上**回归系数的二范数的平方**，参数 $\\lambda$ 用于控制\"惩罚力度\"，可以人为设定，上述方法称为**Ridge回归**或者**岭回归**"
   ]
  },
  {
   "cell_type": "markdown",
   "id": "eb49d33f-9ac2-4183-bffc-b40750c12ec5",
   "metadata": {},
   "source": [
    "可以发现，当 $\\lambda = 0$ 时，**Ridge回归**退化为一般的线性回归"
   ]
  },
  {
   "cell_type": "markdown",
   "id": "917f542b-45a0-4b82-88db-855ca558d24a",
   "metadata": {},
   "source": [
    "(1) 推导求解**Ridge回归**模型的算法，分别从**正规方程法**的角度，和利用**梯度下降法**给出方案"
   ]
  },
  {
   "cell_type": "markdown",
   "id": "394e44fe-94a3-46c5-bf83-5e8741e81317",
   "metadata": {},
   "source": [
    "(2) 编写代码，定义两个函数 `NormalEquationRidge()` 和 `GradientDescentRidge()` 实现上面的两种算法用于求解**Ridge回归**"
   ]
  },
  {
   "cell_type": "code",
   "execution_count": 17,
   "id": "f6d104b4-c779-4ee6-a154-4ea56b7af54f",
   "metadata": {},
   "outputs": [],
   "source": [
    "def NormalEquationRidge(X : np.ndarray, y : np.ndarray, _lambda : float) -> np.ndarray:\n",
    "    \"\"\"\n",
    "    用正规方程法求解Ridge回归\n",
    "    \n",
    "    Parameters\n",
    "    ----------\n",
    "    X : np.ndarray\n",
    "        输入数据，即特征，维度`(N,p)`\n",
    "    y : np.ndarray\n",
    "        真实标签，即预测值，维度`(N,)`\n",
    "    _lambda : float\n",
    "        Ridge对参数的惩罚系数\n",
    "    \n",
    "    Return\n",
    "    ----------\n",
    "    beta : np.ndarray\n",
    "        线性回归模型估计得到的最优回归系数，维度`(p,)`\n",
    "    \"\"\"\n",
    "    \n",
    "    # 在下面编写函数的逻辑\n",
    "    ..."
   ]
  },
  {
   "cell_type": "code",
   "execution_count": 18,
   "id": "c22f1239-6b89-4dd2-b45f-aac316ad9016",
   "metadata": {},
   "outputs": [],
   "source": [
    "def GradientDescentRidge(X : np.ndarray, y : np.ndarray, \n",
    "                         _lambda : float, lr : float=0.1) -> np.ndarray:\n",
    "    \"\"\"\n",
    "    用梯度下降法法求解Ridge回归\n",
    "    \n",
    "    Parameters\n",
    "    ----------\n",
    "    X : np.ndarray\n",
    "        输入数据，即特征，维度`(N,p)`\n",
    "    y : np.ndarray\n",
    "        真实标签，即预测值，维度`(N,)`\n",
    "    _lambda : float\n",
    "        Ridge对参数的惩罚系数\n",
    "    lr : float, optional\n",
    "        梯度下降的学习率，默认值为`0.1`\n",
    "    \n",
    "    Return\n",
    "    ----------\n",
    "    beta : np.ndarray\n",
    "        线性回归模型估计得到的最优回归系数，维度`(p,)`\n",
    "    \"\"\"\n",
    "    \n",
    "    # 在下面编写函数的逻辑\n",
    "    ..."
   ]
  },
  {
   "cell_type": "markdown",
   "id": "7b31e262-76cd-4742-88e4-4b5de5fa59e3",
   "metadata": {},
   "source": [
    "(3) 设总体空间 $X$ 来自于 $p$ 维多元正态分布 $N(\\boldsymbol{\\mu},\\boldsymbol{\\Sigma})$，出于简化的考虑，我们考虑：\n",
    "* $p = 10$\n",
    "* 均值向量 $\\boldsymbol{\\mu}$ 是零向量\n",
    "* 协方差矩阵 $\\boldsymbol{\\Sigma}$ 是单位矩阵"
   ]
  },
  {
   "cell_type": "markdown",
   "id": "d174b28a-ad86-455b-af0e-977caf2e4450",
   "metadata": {},
   "source": [
    "取真实向量 $\\beta\\in\\mathbb{R}^{p}$ 为：\n",
    "$$\n",
    "\\beta^T = \\left[\n",
    "\\begin{array}{cccccccccc}\n",
    "1 & 1 & -1 & -1 & 0.5 & -0.5 & 0 & 0 & 0 & 0\n",
    "\\end{array}\n",
    "\\right]\n",
    "$$"
   ]
  },
  {
   "cell_type": "markdown",
   "id": "ca538891-e0e9-4355-836c-f1a9a9a4d31e",
   "metadata": {},
   "source": [
    "采集到的标签 $y$ 满足下面的线性回归模型：\n",
    "$$\n",
    "y = x\\beta + \\varepsilon,\\quad \\varepsilon\\sim N(0,\\sigma^2)\n",
    "$$\n",
    "在该问题中，我们取$\\sigma = 1$"
   ]
  },
  {
   "cell_type": "markdown",
   "id": "607e4121-b3d3-42be-a239-bb0cf5222619",
   "metadata": {},
   "source": [
    "完成下面的任务：\n",
    "* 利用`numpy`的相关函数，定义函数`DataGenerator()`生成上述数据，其中训练集样本20个，测试集样本50个\n",
    "* 去惩罚系数 $\\lambda = 1$，汇报模型估计得到的系数，以及其在训练集和测试集上的**MSE**，你认为出现欠拟合和过拟合了吗？\n",
    "* 利用循环语句，设定 $\\lambda=k, k=0,1,2,\\cdots,100$，记录每个惩罚参数 $\\lambda$ 下模型在训练集和测试集上的**MSE**，绘制两个**MSE**随 $\\lambda$ 变化的曲线，绘图可以借助 `matplotlib` 包，尝试理解MSE曲线变化的含义\n",
    "* 根据上面的结果，谈谈 $\\lambda$ 的设置对模型欠拟合和和过拟合的影响，在你生成的数据中，最优的 $\\lambda$ 大概是多少？"
   ]
  },
  {
   "cell_type": "code",
   "execution_count": 19,
   "id": "40a09fc0-ded9-4d9f-ad13-2fe24d438b48",
   "metadata": {},
   "outputs": [],
   "source": [
    "def DataGenerator(sigma : float=1):\n",
    "    \"\"\"\n",
    "    训练集和测试集生成函数\n",
    "    \n",
    "    Patameters\n",
    "    ----------\n",
    "    sigma : float, optional\n",
    "        噪声的方差，默认值为`0.1`\n",
    "    \n",
    "    (X_train, y_train, X_test, y_test) : tuple\n",
    "        返回生成的训练特征、训练标签、测试特征、测试标签\n",
    "    \"\"\"\n",
    "    \n",
    "    # 在下面编写你的代码\n",
    "    ..."
   ]
  },
  {
   "cell_type": "markdown",
   "id": "bed5b42d-698f-4f16-ada7-f7f1fbd8d355",
   "metadata": {},
   "source": [
    "Ridge回归方法在第三方软件包`sklearn`中，已经有了很好的实现，可以通过下面的方法使用"
   ]
  },
  {
   "cell_type": "markdown",
   "id": "8a798735-afb8-4dd5-af3b-e99d4232b350",
   "metadata": {},
   "source": [
    "```python\n",
    "# 导入线性回归模块\n",
    "from sklearn.linear_model import Ridge\n",
    "\n",
    "# 初始化模型，设定惩罚系数\n",
    "model = Ridge(alpha=1, fit_intercept=False)\n",
    "# 训练模型\n",
    "model.fit(X_train,y_train)\n",
    "\n",
    "# 进行预测\n",
    "y_hat = model.predict(X_test)\n",
    "```"
   ]
  },
  {
   "cell_type": "markdown",
   "id": "97147d66-3535-47e4-84a6-96157d00d0ed",
   "metadata": {},
   "source": [
    "具体的使用文档参见：[Ridge()](https://scikit-learn.org/stable/modules/generated/sklearn.linear_model.Ridge.html?highlight=ridge#sklearn.linear_model.Ridge)"
   ]
  },
  {
   "cell_type": "markdown",
   "id": "18eee1f6-6ccf-454e-8812-bf1b9c1d676f",
   "metadata": {},
   "source": [
    "---"
   ]
  }
 ],
 "metadata": {
  "kernelspec": {
   "display_name": "Python 3 (ipykernel)",
   "language": "python",
   "name": "python3"
  },
  "language_info": {
   "codemirror_mode": {
    "name": "ipython",
    "version": 3
   },
   "file_extension": ".py",
   "mimetype": "text/x-python",
   "name": "python",
   "nbconvert_exporter": "python",
   "pygments_lexer": "ipython3",
   "version": "3.9.16"
  }
 },
 "nbformat": 4,
 "nbformat_minor": 5
}
